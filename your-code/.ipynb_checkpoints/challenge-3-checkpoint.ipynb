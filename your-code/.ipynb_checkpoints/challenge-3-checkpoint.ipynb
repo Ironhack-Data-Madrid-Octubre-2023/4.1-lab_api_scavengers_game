{
 "cells": [
  {
   "cell_type": "markdown",
   "id": "defensive-clock",
   "metadata": {},
   "source": [
    "# Challenge 3: Hidden Cold Joke\n",
    "\n",
    "Using Python, call Github API to find out the cold joke contained in the 24 secret files in the following repo:\n",
    "\n",
    "https://github.com/ironhack-datalabs/scavenger\n",
    "\n",
    "The filenames of the secret files contain .scavengerhunt and they are scattered in different directories of this repo. The secret files are named from .0001.scavengerhunt to .0024.scavengerhunt. They are scattered randomly throughout this repo. You need to search for these files by calling the Github API, not searching the local files on your computer.\n",
    "\n",
    "\n",
    "After you find out the secrete files:\n",
    "\n",
    "Sort the filenames ascendingly.\n",
    "\n",
    "Read the content of each secret files into an array of strings.\n",
    "\n",
    "Concatenate the strings in the array separating each two with a whitespace.\n",
    "\n",
    "Print out the joke."
   ]
  },
  {
   "cell_type": "markdown",
   "id": "universal-length",
   "metadata": {},
   "source": [
    "⚠️ **Remember to limit your output before submission**."
   ]
  },
  {
   "cell_type": "code",
   "execution_count": 1,
   "id": "toxic-trading",
   "metadata": {},
   "outputs": [],
   "source": [
    "# Your code\n",
    "import json\n",
    "import requests as req"
   ]
  },
  {
   "cell_type": "code",
   "execution_count": 2,
   "id": "bb78d867",
   "metadata": {},
   "outputs": [
    {
     "name": "stdout",
     "output_type": "stream",
     "text": [
      "Requirement already satisfied: python-dotenv in c:\\users\\daarr\\anaconda3\\lib\\site-packages (1.0.0)\n",
      "Note: you may need to restart the kernel to use updated packages.\n"
     ]
    }
   ],
   "source": [
    "pip install python-dotenv"
   ]
  },
  {
   "cell_type": "code",
   "execution_count": 3,
   "id": "451095f4",
   "metadata": {},
   "outputs": [],
   "source": [
    "import os\n",
    "from dotenv import load_dotenv"
   ]
  },
  {
   "cell_type": "code",
   "execution_count": 4,
   "id": "1ac2589e",
   "metadata": {},
   "outputs": [
    {
     "data": {
      "text/plain": [
       "False"
      ]
     },
     "execution_count": 4,
     "metadata": {},
     "output_type": "execute_result"
    }
   ],
   "source": [
    "load_dotenv()"
   ]
  },
  {
   "cell_type": "code",
   "execution_count": 5,
   "id": "7fcdfaf2",
   "metadata": {},
   "outputs": [],
   "source": [
    "github = os.getenv(\"token\")"
   ]
  },
  {
   "cell_type": "code",
   "execution_count": 6,
   "id": "7556cde8",
   "metadata": {},
   "outputs": [],
   "source": [
    "with open('../pass.txt', 'r') as file:   # pass.txt en .gitignore\n",
    "    \n",
    "    pass_ = file.read()\n",
    "\n",
    "HEADER = {'Authorization': 'token ' + pass_ } "
   ]
  },
  {
   "cell_type": "code",
   "execution_count": 7,
   "id": "f67493af",
   "metadata": {},
   "outputs": [],
   "source": [
    "url = \"https://api.github.com/repos/ironhack-datalabs/scavenger/contents\""
   ]
  },
  {
   "cell_type": "code",
   "execution_count": 8,
   "id": "95e30d42",
   "metadata": {},
   "outputs": [
    {
     "data": {
      "text/plain": [
       "<Response [200]>"
      ]
     },
     "execution_count": 8,
     "metadata": {},
     "output_type": "execute_result"
    }
   ],
   "source": [
    "res = req.get(url, headers=HEADER)\n",
    "res"
   ]
  },
  {
   "cell_type": "code",
   "execution_count": 9,
   "id": "1a6b7110",
   "metadata": {},
   "outputs": [],
   "source": [
    "resp = res.json()\n",
    "#res.json().keys()\n",
    "#resp"
   ]
  },
  {
   "cell_type": "code",
   "execution_count": 10,
   "id": "793d1523",
   "metadata": {},
   "outputs": [],
   "source": [
    "dic = {}\n",
    "for e in resp[1:]:\n",
    "    #print(e)\n",
    "    url = e[\"url\"]\n",
    "    res = req.get(url, headers=HEADER)\n",
    "    resp2 = res.json()\n",
    "    for d in resp2:\n",
    "        if d[\"name\"].startswith(\".\"):\n",
    "            dic[d[\"name\"]] = d[\"download_url\"]\n",
    "    \n",
    "#dic"
   ]
  },
  {
   "cell_type": "code",
   "execution_count": 11,
   "id": "4cbaaf75",
   "metadata": {},
   "outputs": [
    {
     "name": "stdout",
     "output_type": "stream",
     "text": [
      "In data science, 80 percent of time spent is preparing data, 20 percent of time is spent complaining about the need to prepare data.\n"
     ]
    }
   ],
   "source": [
    "dic = dict(sorted(dic.items()))\n",
    "joke = \"\"\n",
    "for key in dic.keys():\n",
    "    url = dic[key]\n",
    "    \n",
    "    res = req.get(url,headers=HEADER ).text\n",
    "    joke += res\n",
    "joke = joke.replace(\"\\n\",\" \").rstrip()\n",
    "print(joke)"
   ]
  },
  {
   "cell_type": "code",
   "execution_count": null,
   "id": "b768b94b",
   "metadata": {},
   "outputs": [],
   "source": []
  },
  {
   "cell_type": "code",
   "execution_count": null,
   "id": "715d5c3b",
   "metadata": {},
   "outputs": [],
   "source": []
  },
  {
   "cell_type": "code",
   "execution_count": null,
   "id": "df679960",
   "metadata": {},
   "outputs": [],
   "source": []
  },
  {
   "cell_type": "code",
   "execution_count": 12,
   "id": "static-stopping",
   "metadata": {},
   "outputs": [],
   "source": [
    "# Example: print(variable[:10]) "
   ]
  }
 ],
 "metadata": {
  "kernelspec": {
   "display_name": "Python 3 (ipykernel)",
   "language": "python",
   "name": "python3"
  },
  "language_info": {
   "codemirror_mode": {
    "name": "ipython",
    "version": 3
   },
   "file_extension": ".py",
   "mimetype": "text/x-python",
   "name": "python",
   "nbconvert_exporter": "python",
   "pygments_lexer": "ipython3",
   "version": "3.11.4"
  },
  "toc": {
   "base_numbering": 1,
   "nav_menu": {},
   "number_sections": true,
   "sideBar": true,
   "skip_h1_title": true,
   "title_cell": "Table of Contents",
   "title_sidebar": "Contents",
   "toc_cell": false,
   "toc_position": {},
   "toc_section_display": true,
   "toc_window_display": true
  }
 },
 "nbformat": 4,
 "nbformat_minor": 5
}
