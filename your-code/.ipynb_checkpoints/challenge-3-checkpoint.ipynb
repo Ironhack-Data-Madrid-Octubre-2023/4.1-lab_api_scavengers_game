{
 "cells": [
  {
   "cell_type": "markdown",
   "id": "defensive-clock",
   "metadata": {},
   "source": [
    "# Challenge 3: Hidden Cold Joke\n",
    "\n",
    "Using Python, call Github API to find out the cold joke contained in the 24 secret files in the following repo:\n",
    "\n",
    "https://github.com/ironhack-datalabs/scavenger\n",
    "\n",
    "The filenames of the secret files contain .scavengerhunt and they are scattered in different directories of this repo. The secret files are named from .0001.scavengerhunt to .0024.scavengerhunt. They are scattered randomly throughout this repo. You need to search for these files by calling the Github API, not searching the local files on your computer.\n",
    "\n",
    "\n",
    "After you find out the secrete files:\n",
    "\n",
    "Sort the filenames ascendingly.\n",
    "\n",
    "Read the content of each secret files into an array of strings.\n",
    "\n",
    "Concatenate the strings in the array separating each two with a whitespace.\n",
    "\n",
    "Print out the joke."
   ]
  },
  {
   "cell_type": "markdown",
   "id": "universal-length",
   "metadata": {},
   "source": [
    "⚠️ **Remember to limit your output before submission**."
   ]
  },
  {
   "cell_type": "code",
   "execution_count": 1,
   "id": "toxic-trading",
   "metadata": {},
   "outputs": [],
   "source": [
    "import json\n",
    "import requests as req"
   ]
  },
  {
   "cell_type": "code",
   "execution_count": 2,
   "id": "312a80ca",
   "metadata": {},
   "outputs": [],
   "source": [
    "with open (\"../pass.txt\", \"r\") as file:\n",
    "\n",
    "    pass_ = file.read()\n",
    "\n",
    "HEADER = {\"Authorization\": \"token \" + pass_}"
   ]
  },
  {
   "cell_type": "code",
   "execution_count": 3,
   "id": "d441ee15",
   "metadata": {},
   "outputs": [
    {
     "data": {
      "text/plain": [
       "<Response [200]>"
      ]
     },
     "execution_count": 3,
     "metadata": {},
     "output_type": "execute_result"
    }
   ],
   "source": [
    "url = 'https://api.github.com/repos/ironhack-datalabs/scavenger'\n",
    "repo = req.get(url, headers = HEADER)\n",
    "repo"
   ]
  },
  {
   "cell_type": "code",
   "execution_count": 4,
   "id": "eabea714",
   "metadata": {},
   "outputs": [
    {
     "data": {
      "text/plain": [
       "dict_keys(['id', 'node_id', 'name', 'full_name', 'private', 'owner', 'html_url', 'description', 'fork', 'url', 'forks_url', 'keys_url', 'collaborators_url', 'teams_url', 'hooks_url', 'issue_events_url', 'events_url', 'assignees_url', 'branches_url', 'tags_url', 'blobs_url', 'git_tags_url', 'git_refs_url', 'trees_url', 'statuses_url', 'languages_url', 'stargazers_url', 'contributors_url', 'subscribers_url', 'subscription_url', 'commits_url', 'git_commits_url', 'comments_url', 'issue_comment_url', 'contents_url', 'compare_url', 'merges_url', 'archive_url', 'downloads_url', 'issues_url', 'pulls_url', 'milestones_url', 'notifications_url', 'labels_url', 'releases_url', 'deployments_url', 'created_at', 'updated_at', 'pushed_at', 'git_url', 'ssh_url', 'clone_url', 'svn_url', 'homepage', 'size', 'stargazers_count', 'watchers_count', 'language', 'has_issues', 'has_projects', 'has_downloads', 'has_wiki', 'has_pages', 'has_discussions', 'forks_count', 'mirror_url', 'archived', 'disabled', 'open_issues_count', 'license', 'allow_forking', 'is_template', 'web_commit_signoff_required', 'topics', 'visibility', 'forks', 'open_issues', 'watchers', 'default_branch', 'permissions', 'temp_clone_token', 'organization', 'network_count', 'subscribers_count'])"
      ]
     },
     "execution_count": 4,
     "metadata": {},
     "output_type": "execute_result"
    }
   ],
   "source": [
    "repo.json().keys()"
   ]
  },
  {
   "cell_type": "code",
   "execution_count": 5,
   "id": "bd4cf1e0",
   "metadata": {},
   "outputs": [
    {
     "data": {
      "text/plain": [
       "'https://api.github.com/repos/ironhack-datalabs/scavenger/contents/{+path}'"
      ]
     },
     "execution_count": 5,
     "metadata": {},
     "output_type": "execute_result"
    }
   ],
   "source": [
    "repo.json()['contents_url']"
   ]
  },
  {
   "cell_type": "code",
   "execution_count": 27,
   "id": "static-stopping",
   "metadata": {},
   "outputs": [
    {
     "data": {
      "text/plain": [
       "<Response [200]>"
      ]
     },
     "execution_count": 27,
     "metadata": {},
     "output_type": "execute_result"
    }
   ],
   "source": [
    "url = 'https://api.github.com/repos/ironhack-datalabs/scavenger/contents'\n",
    "repo = req.get(url, headers = HEADER)\n",
    "repo"
   ]
  },
  {
   "cell_type": "code",
   "execution_count": 28,
   "id": "00488420",
   "metadata": {},
   "outputs": [
    {
     "data": {
      "text/plain": [
       "26"
      ]
     },
     "execution_count": 28,
     "metadata": {},
     "output_type": "execute_result"
    }
   ],
   "source": [
    "len(repo.json())"
   ]
  },
  {
   "cell_type": "code",
   "execution_count": 32,
   "id": "2e53e894",
   "metadata": {},
   "outputs": [
    {
     "name": "stdout",
     "output_type": "stream",
     "text": [
      "['15024', '15534', '17020', '30351', '40303', '44639', '45525', '47222', '47830', '49418', '50896', '55417', '55685', '60224', '64880', '66032', '68848', '70751', '70985', '88596', '89046', '89338', '91701', '97881', '98750']\n"
     ]
    }
   ],
   "source": [
    "dirs = []\n",
    "\n",
    "for i in range(len(repo.json())):\n",
    "    dirs.append(repo.json()[i]['name'])\n",
    "\n",
    "dirs = dirs[1:len(repo.json())]\n",
    "print(dirs)"
   ]
  },
  {
   "cell_type": "code",
   "execution_count": 65,
   "id": "008c4f0e",
   "metadata": {},
   "outputs": [
    {
     "data": {
      "text/plain": [
       "['15024/.0006.scavengerhunt',\n",
       " '15534/.0008.scavengerhunt',\n",
       " '15534/.0012.scavengerhunt',\n",
       " '17020/.0007.scavengerhunt',\n",
       " '30351/.0021.scavengerhunt',\n",
       " '40303/.0022.scavengerhunt',\n",
       " '44639/.0005.scavengerhunt',\n",
       " '45525/.0018.scavengerhunt',\n",
       " '47222/.0016.scavengerhunt',\n",
       " '47222/.0024.scavengerhunt',\n",
       " '47830/.0010.scavengerhunt',\n",
       " '49418/.0014.scavengerhunt',\n",
       " '50896/.0011.scavengerhunt',\n",
       " '55417/.0023.scavengerhunt',\n",
       " '55685/.0020.scavengerhunt',\n",
       " '60224/.0003.scavengerhunt',\n",
       " '68848/.0004.scavengerhunt',\n",
       " '70751/.0019.scavengerhunt',\n",
       " '70985/.0017.scavengerhunt',\n",
       " '88596/.0002.scavengerhunt',\n",
       " '89338/.0013.scavengerhunt',\n",
       " '91701/.0015.scavengerhunt',\n",
       " '97881/.0009.scavengerhunt',\n",
       " '98750/.0001.scavengerhunt']"
      ]
     },
     "execution_count": 65,
     "metadata": {},
     "output_type": "execute_result"
    }
   ],
   "source": [
    "paths = []\n",
    "\n",
    "for i in dirs:\n",
    "    \n",
    "    url = 'https://github.com/ironhack-datalabs/scavenger/tree/master/' + i\n",
    "    repo = req.get(url,headers=HEADER)\n",
    "    \n",
    "    for i in repo.json()['payload']['tree']['items']:\n",
    "        #print(i)\n",
    "        #print(\"fin elemento\")\n",
    "        if i[\"name\"].endswith(\"hunt\"):\n",
    "            paths.append(i[\"path\"])\n",
    "len(paths)"
   ]
  },
  {
   "cell_type": "code",
   "execution_count": 66,
   "id": "16e920ea",
   "metadata": {},
   "outputs": [
    {
     "data": {
      "text/plain": [
       "24"
      ]
     },
     "execution_count": 66,
     "metadata": {},
     "output_type": "execute_result"
    }
   ],
   "source": [
    "len(paths)"
   ]
  },
  {
   "cell_type": "code",
   "execution_count": 61,
   "id": "7ae812a0",
   "metadata": {},
   "outputs": [
    {
     "data": {
      "text/plain": [
       "[{'name': '.0001.scavengerhunt',\n",
       "  'path': '98750/.0001.scavengerhunt',\n",
       "  'contentType': 'file'},\n",
       " {'name': '20', 'path': '98750/20', 'contentType': 'file'},\n",
       " {'name': '62', 'path': '98750/62', 'contentType': 'file'}]"
      ]
     },
     "execution_count": 61,
     "metadata": {},
     "output_type": "execute_result"
    }
   ],
   "source": [
    "repo.json()['payload']['tree']['items']"
   ]
  }
 ],
 "metadata": {
  "kernelspec": {
   "display_name": "Python 3 (ipykernel)",
   "language": "python",
   "name": "python3"
  },
  "language_info": {
   "codemirror_mode": {
    "name": "ipython",
    "version": 3
   },
   "file_extension": ".py",
   "mimetype": "text/x-python",
   "name": "python",
   "nbconvert_exporter": "python",
   "pygments_lexer": "ipython3",
   "version": "3.11.5"
  },
  "toc": {
   "base_numbering": 1,
   "nav_menu": {},
   "number_sections": true,
   "sideBar": true,
   "skip_h1_title": true,
   "title_cell": "Table of Contents",
   "title_sidebar": "Contents",
   "toc_cell": false,
   "toc_position": {},
   "toc_section_display": true,
   "toc_window_display": true
  }
 },
 "nbformat": 4,
 "nbformat_minor": 5
}
