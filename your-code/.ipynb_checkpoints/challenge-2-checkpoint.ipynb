{
 "cells": [
  {
   "cell_type": "markdown",
   "id": "threaded-asbestos",
   "metadata": {},
   "source": [
    "# Challenge 2: Count Commits\n",
    "\n",
    "Count how many commits were made in the past week.\n",
    "\n",
    "Obtain all the commits made in the past week via API, which is a JSON array that contains multiple commit objects.\n",
    "\n",
    "Count how many commit objects are contained in the array."
   ]
  },
  {
   "cell_type": "markdown",
   "id": "norwegian-praise",
   "metadata": {},
   "source": [
    "⚠️ **Remember to limit your output before submission**."
   ]
  },
  {
   "cell_type": "code",
   "execution_count": 1,
   "id": "developing-printing",
   "metadata": {},
   "outputs": [],
   "source": [
    "import json\n",
    "import requests as req"
   ]
  },
  {
   "cell_type": "code",
   "execution_count": 20,
   "id": "922fee0e",
   "metadata": {},
   "outputs": [],
   "source": [
    "from datetime import datetime, timedelta"
   ]
  },
  {
   "cell_type": "code",
   "execution_count": 2,
   "id": "1fe624fd",
   "metadata": {},
   "outputs": [],
   "source": [
    "import os\n",
    "from dotenv import load_dotenv"
   ]
  },
  {
   "cell_type": "code",
   "execution_count": 3,
   "id": "7745c5fa",
   "metadata": {},
   "outputs": [
    {
     "data": {
      "text/plain": [
       "False"
      ]
     },
     "execution_count": 3,
     "metadata": {},
     "output_type": "execute_result"
    }
   ],
   "source": [
    "load_dotenv()"
   ]
  },
  {
   "cell_type": "code",
   "execution_count": 4,
   "id": "3a89efd9",
   "metadata": {},
   "outputs": [],
   "source": [
    "github=os.getenv('token')"
   ]
  },
  {
   "cell_type": "code",
   "execution_count": 5,
   "id": "creative-stable",
   "metadata": {},
   "outputs": [],
   "source": [
    "with open('token.txt', 'r') as file:   # pass.txt en .gitignore\n",
    "    \n",
    "    pass_ = file.read()\n",
    "\n",
    "HEADER = {'Authorization': 'token ' + pass_ } "
   ]
  },
  {
   "cell_type": "code",
   "execution_count": 15,
   "id": "ongoing-taylor",
   "metadata": {},
   "outputs": [],
   "source": [
    "url = \"https://api.github.com/repos/Lidiavf1912/sql-project\"\n",
    "#cojo un proyecto mio de la semana anterior"
   ]
  },
  {
   "cell_type": "code",
   "execution_count": 16,
   "id": "ca74332f",
   "metadata": {},
   "outputs": [
    {
     "data": {
      "text/plain": [
       "<Response [200]>"
      ]
     },
     "execution_count": 16,
     "metadata": {},
     "output_type": "execute_result"
    }
   ],
   "source": [
    "response = req.get(url, headers=HEADER)\n",
    "response"
   ]
  },
  {
   "cell_type": "code",
   "execution_count": 18,
   "id": "9479d4ec",
   "metadata": {},
   "outputs": [
    {
     "data": {
      "text/plain": [
       "{'id': 710665565,\n",
       " 'node_id': 'R_kgDOKlvlXQ',\n",
       " 'name': 'sql-project',\n",
       " 'full_name': 'Lidiavf1912/sql-project',\n",
       " 'private': False,\n",
       " 'owner': {'login': 'Lidiavf1912',\n",
       "  'id': 146014421,\n",
       "  'node_id': 'U_kgDOCLQA1Q',\n",
       "  'avatar_url': 'https://avatars.githubusercontent.com/u/146014421?v=4',\n",
       "  'gravatar_id': '',\n",
       "  'url': 'https://api.github.com/users/Lidiavf1912',\n",
       "  'html_url': 'https://github.com/Lidiavf1912',\n",
       "  'followers_url': 'https://api.github.com/users/Lidiavf1912/followers',\n",
       "  'following_url': 'https://api.github.com/users/Lidiavf1912/following{/other_user}',\n",
       "  'gists_url': 'https://api.github.com/users/Lidiavf1912/gists{/gist_id}',\n",
       "  'starred_url': 'https://api.github.com/users/Lidiavf1912/starred{/owner}{/repo}',\n",
       "  'subscriptions_url': 'https://api.github.com/users/Lidiavf1912/subscriptions',\n",
       "  'organizations_url': 'https://api.github.com/users/Lidiavf1912/orgs',\n",
       "  'repos_url': 'https://api.github.com/users/Lidiavf1912/repos',\n",
       "  'events_url': 'https://api.github.com/users/Lidiavf1912/events{/privacy}',\n",
       "  'received_events_url': 'https://api.github.com/users/Lidiavf1912/received_events',\n",
       "  'type': 'User',\n",
       "  'site_admin': False},\n",
       " 'html_url': 'https://github.com/Lidiavf1912/sql-project',\n",
       " 'description': None,\n",
       " 'fork': False,\n",
       " 'url': 'https://api.github.com/repos/Lidiavf1912/sql-project',\n",
       " 'forks_url': 'https://api.github.com/repos/Lidiavf1912/sql-project/forks',\n",
       " 'keys_url': 'https://api.github.com/repos/Lidiavf1912/sql-project/keys{/key_id}',\n",
       " 'collaborators_url': 'https://api.github.com/repos/Lidiavf1912/sql-project/collaborators{/collaborator}',\n",
       " 'teams_url': 'https://api.github.com/repos/Lidiavf1912/sql-project/teams',\n",
       " 'hooks_url': 'https://api.github.com/repos/Lidiavf1912/sql-project/hooks',\n",
       " 'issue_events_url': 'https://api.github.com/repos/Lidiavf1912/sql-project/issues/events{/number}',\n",
       " 'events_url': 'https://api.github.com/repos/Lidiavf1912/sql-project/events',\n",
       " 'assignees_url': 'https://api.github.com/repos/Lidiavf1912/sql-project/assignees{/user}',\n",
       " 'branches_url': 'https://api.github.com/repos/Lidiavf1912/sql-project/branches{/branch}',\n",
       " 'tags_url': 'https://api.github.com/repos/Lidiavf1912/sql-project/tags',\n",
       " 'blobs_url': 'https://api.github.com/repos/Lidiavf1912/sql-project/git/blobs{/sha}',\n",
       " 'git_tags_url': 'https://api.github.com/repos/Lidiavf1912/sql-project/git/tags{/sha}',\n",
       " 'git_refs_url': 'https://api.github.com/repos/Lidiavf1912/sql-project/git/refs{/sha}',\n",
       " 'trees_url': 'https://api.github.com/repos/Lidiavf1912/sql-project/git/trees{/sha}',\n",
       " 'statuses_url': 'https://api.github.com/repos/Lidiavf1912/sql-project/statuses/{sha}',\n",
       " 'languages_url': 'https://api.github.com/repos/Lidiavf1912/sql-project/languages',\n",
       " 'stargazers_url': 'https://api.github.com/repos/Lidiavf1912/sql-project/stargazers',\n",
       " 'contributors_url': 'https://api.github.com/repos/Lidiavf1912/sql-project/contributors',\n",
       " 'subscribers_url': 'https://api.github.com/repos/Lidiavf1912/sql-project/subscribers',\n",
       " 'subscription_url': 'https://api.github.com/repos/Lidiavf1912/sql-project/subscription',\n",
       " 'commits_url': 'https://api.github.com/repos/Lidiavf1912/sql-project/commits{/sha}',\n",
       " 'git_commits_url': 'https://api.github.com/repos/Lidiavf1912/sql-project/git/commits{/sha}',\n",
       " 'comments_url': 'https://api.github.com/repos/Lidiavf1912/sql-project/comments{/number}',\n",
       " 'issue_comment_url': 'https://api.github.com/repos/Lidiavf1912/sql-project/issues/comments{/number}',\n",
       " 'contents_url': 'https://api.github.com/repos/Lidiavf1912/sql-project/contents/{+path}',\n",
       " 'compare_url': 'https://api.github.com/repos/Lidiavf1912/sql-project/compare/{base}...{head}',\n",
       " 'merges_url': 'https://api.github.com/repos/Lidiavf1912/sql-project/merges',\n",
       " 'archive_url': 'https://api.github.com/repos/Lidiavf1912/sql-project/{archive_format}{/ref}',\n",
       " 'downloads_url': 'https://api.github.com/repos/Lidiavf1912/sql-project/downloads',\n",
       " 'issues_url': 'https://api.github.com/repos/Lidiavf1912/sql-project/issues{/number}',\n",
       " 'pulls_url': 'https://api.github.com/repos/Lidiavf1912/sql-project/pulls{/number}',\n",
       " 'milestones_url': 'https://api.github.com/repos/Lidiavf1912/sql-project/milestones{/number}',\n",
       " 'notifications_url': 'https://api.github.com/repos/Lidiavf1912/sql-project/notifications{?since,all,participating}',\n",
       " 'labels_url': 'https://api.github.com/repos/Lidiavf1912/sql-project/labels{/name}',\n",
       " 'releases_url': 'https://api.github.com/repos/Lidiavf1912/sql-project/releases{/id}',\n",
       " 'deployments_url': 'https://api.github.com/repos/Lidiavf1912/sql-project/deployments',\n",
       " 'created_at': '2023-10-27T07:17:00Z',\n",
       " 'updated_at': '2023-10-27T07:49:09Z',\n",
       " 'pushed_at': '2023-10-30T18:15:58Z',\n",
       " 'git_url': 'git://github.com/Lidiavf1912/sql-project.git',\n",
       " 'ssh_url': 'git@github.com:Lidiavf1912/sql-project.git',\n",
       " 'clone_url': 'https://github.com/Lidiavf1912/sql-project.git',\n",
       " 'svn_url': 'https://github.com/Lidiavf1912/sql-project',\n",
       " 'homepage': None,\n",
       " 'size': 4527,\n",
       " 'stargazers_count': 0,\n",
       " 'watchers_count': 0,\n",
       " 'language': 'Jupyter Notebook',\n",
       " 'has_issues': True,\n",
       " 'has_projects': True,\n",
       " 'has_downloads': True,\n",
       " 'has_wiki': True,\n",
       " 'has_pages': False,\n",
       " 'has_discussions': False,\n",
       " 'forks_count': 0,\n",
       " 'mirror_url': None,\n",
       " 'archived': False,\n",
       " 'disabled': False,\n",
       " 'open_issues_count': 0,\n",
       " 'license': None,\n",
       " 'allow_forking': True,\n",
       " 'is_template': False,\n",
       " 'web_commit_signoff_required': False,\n",
       " 'topics': [],\n",
       " 'visibility': 'public',\n",
       " 'forks': 0,\n",
       " 'open_issues': 0,\n",
       " 'watchers': 0,\n",
       " 'default_branch': 'main',\n",
       " 'permissions': {'admin': True,\n",
       "  'maintain': True,\n",
       "  'push': True,\n",
       "  'triage': True,\n",
       "  'pull': True},\n",
       " 'temp_clone_token': '',\n",
       " 'allow_squash_merge': True,\n",
       " 'allow_merge_commit': True,\n",
       " 'allow_rebase_merge': True,\n",
       " 'allow_auto_merge': False,\n",
       " 'delete_branch_on_merge': False,\n",
       " 'allow_update_branch': False,\n",
       " 'use_squash_pr_title_as_default': False,\n",
       " 'squash_merge_commit_message': 'COMMIT_MESSAGES',\n",
       " 'squash_merge_commit_title': 'COMMIT_OR_PR_TITLE',\n",
       " 'merge_commit_message': 'PR_TITLE',\n",
       " 'merge_commit_title': 'MERGE_MESSAGE',\n",
       " 'security_and_analysis': {'secret_scanning': {'status': 'disabled'},\n",
       "  'secret_scanning_push_protection': {'status': 'disabled'},\n",
       "  'dependabot_security_updates': {'status': 'disabled'}},\n",
       " 'network_count': 0,\n",
       " 'subscribers_count': 1}"
      ]
     },
     "execution_count": 18,
     "metadata": {},
     "output_type": "execute_result"
    }
   ],
   "source": [
    "resp = response.json()\n",
    "resp"
   ]
  },
  {
   "cell_type": "code",
   "execution_count": 21,
   "id": "95e75664",
   "metadata": {},
   "outputs": [
    {
     "data": {
      "text/plain": [
       "datetime.datetime(2023, 10, 26, 18, 16, 40, 915892)"
      ]
     },
     "execution_count": 21,
     "metadata": {},
     "output_type": "execute_result"
    }
   ],
   "source": [
    "one_week_ago = datetime.now() - timedelta(weeks=1)\n",
    "one_week_ago"
   ]
  },
  {
   "cell_type": "code",
   "execution_count": 27,
   "id": "a0435dca",
   "metadata": {},
   "outputs": [
    {
     "name": "stdout",
     "output_type": "stream",
     "text": [
      "Request successful.\n",
      "Item: id\n",
      "Item: node_id\n",
      "Item: name\n",
      "Item: full_name\n",
      "Item: private\n",
      "Item: owner\n",
      "Item: html_url\n",
      "Item: description\n",
      "Item: fork\n",
      "Item: url\n",
      "Item: forks_url\n",
      "Item: keys_url\n",
      "Item: collaborators_url\n",
      "Item: teams_url\n",
      "Item: hooks_url\n",
      "Item: issue_events_url\n",
      "Item: events_url\n",
      "Item: assignees_url\n",
      "Item: branches_url\n",
      "Item: tags_url\n",
      "Item: blobs_url\n",
      "Item: git_tags_url\n",
      "Item: git_refs_url\n",
      "Item: trees_url\n",
      "Item: statuses_url\n",
      "Item: languages_url\n",
      "Item: stargazers_url\n",
      "Item: contributors_url\n",
      "Item: subscribers_url\n",
      "Item: subscription_url\n",
      "Item: commits_url\n",
      "Item: git_commits_url\n",
      "Item: comments_url\n",
      "Item: issue_comment_url\n",
      "Item: contents_url\n",
      "Item: compare_url\n",
      "Item: merges_url\n",
      "Item: archive_url\n",
      "Item: downloads_url\n",
      "Item: issues_url\n",
      "Item: pulls_url\n",
      "Item: milestones_url\n",
      "Item: notifications_url\n",
      "Item: labels_url\n",
      "Item: releases_url\n",
      "Item: deployments_url\n",
      "Item: created_at\n",
      "Item: updated_at\n",
      "Item: pushed_at\n",
      "Item: git_url\n",
      "Item: ssh_url\n",
      "Item: clone_url\n",
      "Item: svn_url\n",
      "Item: homepage\n",
      "Item: size\n",
      "Item: stargazers_count\n",
      "Item: watchers_count\n",
      "Item: language\n",
      "Item: has_issues\n",
      "Item: has_projects\n",
      "Item: has_downloads\n",
      "Item: has_wiki\n",
      "Item: has_pages\n",
      "Item: has_discussions\n",
      "Item: forks_count\n",
      "Item: mirror_url\n",
      "Item: archived\n",
      "Item: disabled\n",
      "Item: open_issues_count\n",
      "Item: license\n",
      "Item: allow_forking\n",
      "Item: is_template\n",
      "Item: web_commit_signoff_required\n",
      "Item: topics\n",
      "Item: visibility\n",
      "Item: forks\n",
      "Item: open_issues\n",
      "Item: watchers\n",
      "Item: default_branch\n",
      "Item: permissions\n",
      "Item: temp_clone_token\n",
      "Item: allow_squash_merge\n",
      "Item: allow_merge_commit\n",
      "Item: allow_rebase_merge\n",
      "Item: allow_auto_merge\n",
      "Item: delete_branch_on_merge\n",
      "Item: allow_update_branch\n",
      "Item: use_squash_pr_title_as_default\n",
      "Item: squash_merge_commit_message\n",
      "Item: squash_merge_commit_title\n",
      "Item: merge_commit_message\n",
      "Item: merge_commit_title\n",
      "Item: security_and_analysis\n",
      "Item: network_count\n",
      "Item: subscribers_count\n"
     ]
    }
   ],
   "source": [
    "if response.status_code == 200:\n",
    "    data = response.json() \n",
    "    print(\"Request successful.\")\n",
    "    for item in data:\n",
    "        print(f\"Item: {item}\")\n",
    "else:\n",
    "    print(f\"Request failed with status code: {response.status_code}\")\n",
    "    print(f\"Response content: {response.text}\")"
   ]
  },
  {
   "cell_type": "code",
   "execution_count": 28,
   "id": "9ab91496",
   "metadata": {},
   "outputs": [
    {
     "name": "stdout",
     "output_type": "stream",
     "text": [
      "Número de confirmaciones: 95\n"
     ]
    }
   ],
   "source": [
    "response = req.get(url, headers=HEADER)\n",
    "if response.status_code == 200:\n",
    "    commits_json = response.json() \n",
    "    numero_de_confirmaciones = len(commits_json) \n",
    "    print(f'Número de confirmaciones: {numero_de_confirmaciones}')\n",
    "else:\n",
    "    print(f'Error al obtener los datos: {response.status_code}')"
   ]
  },
  {
   "cell_type": "code",
   "execution_count": null,
   "id": "4b59faad",
   "metadata": {},
   "outputs": [],
   "source": []
  }
 ],
 "metadata": {
  "kernelspec": {
   "display_name": "Python 3 (ipykernel)",
   "language": "python",
   "name": "python3"
  },
  "language_info": {
   "codemirror_mode": {
    "name": "ipython",
    "version": 3
   },
   "file_extension": ".py",
   "mimetype": "text/x-python",
   "name": "python",
   "nbconvert_exporter": "python",
   "pygments_lexer": "ipython3",
   "version": "3.11.4"
  },
  "toc": {
   "base_numbering": 1,
   "nav_menu": {},
   "number_sections": true,
   "sideBar": true,
   "skip_h1_title": true,
   "title_cell": "Table of Contents",
   "title_sidebar": "Contents",
   "toc_cell": false,
   "toc_position": {
    "height": "calc(100% - 180px)",
    "left": "10px",
    "top": "150px",
    "width": "288px"
   },
   "toc_section_display": true,
   "toc_window_display": true
  }
 },
 "nbformat": 4,
 "nbformat_minor": 5
}
