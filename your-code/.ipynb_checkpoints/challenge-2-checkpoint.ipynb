{
 "cells": [
  {
   "cell_type": "markdown",
   "id": "threaded-asbestos",
   "metadata": {},
   "source": [
    "# Challenge 2: Count Commits\n",
    "\n",
    "Count how many commits were made in the past week.\n",
    "\n",
    "Obtain all the commits made in the past week via API, which is a JSON array that contains multiple commit objects.\n",
    "\n",
    "Count how many commit objects are contained in the array."
   ]
  },
  {
   "cell_type": "markdown",
   "id": "norwegian-praise",
   "metadata": {},
   "source": [
    "⚠️ **Remember to limit your output before submission**."
   ]
  },
  {
   "cell_type": "code",
   "execution_count": 15,
   "id": "developing-printing",
   "metadata": {},
   "outputs": [],
   "source": [
    "import json\n",
    "import requests as req\n",
    "from datetime import datetime, timedelta"
   ]
  },
  {
   "cell_type": "code",
   "execution_count": 2,
   "id": "creative-stable",
   "metadata": {},
   "outputs": [],
   "source": [
    "import os\n",
    "from dotenv import load_dotenv"
   ]
  },
  {
   "cell_type": "code",
   "execution_count": 3,
   "id": "ongoing-taylor",
   "metadata": {},
   "outputs": [
    {
     "data": {
      "text/plain": [
       "False"
      ]
     },
     "execution_count": 3,
     "metadata": {},
     "output_type": "execute_result"
    }
   ],
   "source": [
    "load_dotenv()"
   ]
  },
  {
   "cell_type": "code",
   "execution_count": 4,
   "id": "31f03266",
   "metadata": {},
   "outputs": [],
   "source": [
    "with open('token.txt', 'r') as file:\n",
    "    token = file.read().strip()"
   ]
  },
  {
   "cell_type": "code",
   "execution_count": 5,
   "id": "969f6559",
   "metadata": {},
   "outputs": [],
   "source": [
    "headers = {'Authorization': f'token {token}'}"
   ]
  },
  {
   "cell_type": "code",
   "execution_count": 6,
   "id": "f2a6fe69",
   "metadata": {},
   "outputs": [],
   "source": [
    "url = 'https://api.github.com/repos/Ironhack-Data-Madrid-Octubre-2023/apuntes_clase/commits'"
   ]
  },
  {
   "cell_type": "code",
   "execution_count": 7,
   "id": "44dd7c34",
   "metadata": {},
   "outputs": [],
   "source": [
    "res = req.get(url, headers=headers)"
   ]
  },
  {
   "cell_type": "code",
   "execution_count": 8,
   "id": "26074c7c",
   "metadata": {},
   "outputs": [
    {
     "data": {
      "text/plain": [
       "<Response [200]>"
      ]
     },
     "execution_count": 8,
     "metadata": {},
     "output_type": "execute_result"
    }
   ],
   "source": [
    "res"
   ]
  },
  {
   "cell_type": "code",
   "execution_count": 9,
   "id": "f3d138c5",
   "metadata": {},
   "outputs": [
    {
     "data": {
      "text/plain": [
       "{'sha': '1822ebd2b63eacb6ad034a742bf8cfaef34cbd80',\n",
       " 'node_id': 'C_kwDOKa16b9oAKDE4MjJlYmQyYjYzZWFjYjZhZDAzNGE3NDJiZjhjZmFlZjM0Y2JkODA',\n",
       " 'commit': {'author': {'name': 'iudh',\n",
       "   'email': 'yeho@mail.com',\n",
       "   'date': '2023-11-02T08:53:11Z'},\n",
       "  'committer': {'name': 'iudh',\n",
       "   'email': 'yeho@mail.com',\n",
       "   'date': '2023-11-02T08:53:11Z'},\n",
       "  'message': 'paralelo',\n",
       "  'tree': {'sha': '895ac63f69b35511d89b6d51dc3c67e299160700',\n",
       "   'url': 'https://api.github.com/repos/Ironhack-Data-Madrid-Octubre-2023/apuntes_clase/git/trees/895ac63f69b35511d89b6d51dc3c67e299160700'},\n",
       "  'url': 'https://api.github.com/repos/Ironhack-Data-Madrid-Octubre-2023/apuntes_clase/git/commits/1822ebd2b63eacb6ad034a742bf8cfaef34cbd80',\n",
       "  'comment_count': 0,\n",
       "  'verification': {'verified': False,\n",
       "   'reason': 'unsigned',\n",
       "   'signature': None,\n",
       "   'payload': None}},\n",
       " 'url': 'https://api.github.com/repos/Ironhack-Data-Madrid-Octubre-2023/apuntes_clase/commits/1822ebd2b63eacb6ad034a742bf8cfaef34cbd80',\n",
       " 'html_url': 'https://github.com/Ironhack-Data-Madrid-Octubre-2023/apuntes_clase/commit/1822ebd2b63eacb6ad034a742bf8cfaef34cbd80',\n",
       " 'comments_url': 'https://api.github.com/repos/Ironhack-Data-Madrid-Octubre-2023/apuntes_clase/commits/1822ebd2b63eacb6ad034a742bf8cfaef34cbd80/comments',\n",
       " 'author': {'login': 'YonatanRA',\n",
       "  'id': 47545401,\n",
       "  'node_id': 'MDQ6VXNlcjQ3NTQ1NDAx',\n",
       "  'avatar_url': 'https://avatars.githubusercontent.com/u/47545401?v=4',\n",
       "  'gravatar_id': '',\n",
       "  'url': 'https://api.github.com/users/YonatanRA',\n",
       "  'html_url': 'https://github.com/YonatanRA',\n",
       "  'followers_url': 'https://api.github.com/users/YonatanRA/followers',\n",
       "  'following_url': 'https://api.github.com/users/YonatanRA/following{/other_user}',\n",
       "  'gists_url': 'https://api.github.com/users/YonatanRA/gists{/gist_id}',\n",
       "  'starred_url': 'https://api.github.com/users/YonatanRA/starred{/owner}{/repo}',\n",
       "  'subscriptions_url': 'https://api.github.com/users/YonatanRA/subscriptions',\n",
       "  'organizations_url': 'https://api.github.com/users/YonatanRA/orgs',\n",
       "  'repos_url': 'https://api.github.com/users/YonatanRA/repos',\n",
       "  'events_url': 'https://api.github.com/users/YonatanRA/events{/privacy}',\n",
       "  'received_events_url': 'https://api.github.com/users/YonatanRA/received_events',\n",
       "  'type': 'User',\n",
       "  'site_admin': False},\n",
       " 'committer': {'login': 'YonatanRA',\n",
       "  'id': 47545401,\n",
       "  'node_id': 'MDQ6VXNlcjQ3NTQ1NDAx',\n",
       "  'avatar_url': 'https://avatars.githubusercontent.com/u/47545401?v=4',\n",
       "  'gravatar_id': '',\n",
       "  'url': 'https://api.github.com/users/YonatanRA',\n",
       "  'html_url': 'https://github.com/YonatanRA',\n",
       "  'followers_url': 'https://api.github.com/users/YonatanRA/followers',\n",
       "  'following_url': 'https://api.github.com/users/YonatanRA/following{/other_user}',\n",
       "  'gists_url': 'https://api.github.com/users/YonatanRA/gists{/gist_id}',\n",
       "  'starred_url': 'https://api.github.com/users/YonatanRA/starred{/owner}{/repo}',\n",
       "  'subscriptions_url': 'https://api.github.com/users/YonatanRA/subscriptions',\n",
       "  'organizations_url': 'https://api.github.com/users/YonatanRA/orgs',\n",
       "  'repos_url': 'https://api.github.com/users/YonatanRA/repos',\n",
       "  'events_url': 'https://api.github.com/users/YonatanRA/events{/privacy}',\n",
       "  'received_events_url': 'https://api.github.com/users/YonatanRA/received_events',\n",
       "  'type': 'User',\n",
       "  'site_admin': False},\n",
       " 'parents': [{'sha': 'a92e3d334628d3418614fee0edac558e112db22d',\n",
       "   'url': 'https://api.github.com/repos/Ironhack-Data-Madrid-Octubre-2023/apuntes_clase/commits/a92e3d334628d3418614fee0edac558e112db22d',\n",
       "   'html_url': 'https://github.com/Ironhack-Data-Madrid-Octubre-2023/apuntes_clase/commit/a92e3d334628d3418614fee0edac558e112db22d'}]}"
      ]
     },
     "execution_count": 9,
     "metadata": {},
     "output_type": "execute_result"
    }
   ],
   "source": [
    "commits = res.json()\n",
    "commits [1]"
   ]
  },
  {
   "cell_type": "code",
   "execution_count": 11,
   "id": "aeffab4a",
   "metadata": {},
   "outputs": [
    {
     "data": {
      "text/plain": [
       "dict_keys(['sha', 'node_id', 'commit', 'url', 'html_url', 'comments_url', 'author', 'committer', 'parents'])"
      ]
     },
     "execution_count": 11,
     "metadata": {},
     "output_type": "execute_result"
    }
   ],
   "source": [
    "commits[0].keys()"
   ]
  },
  {
   "cell_type": "code",
   "execution_count": 13,
   "id": "ae61a2c9",
   "metadata": {},
   "outputs": [
    {
     "data": {
      "text/plain": [
       "dict_keys(['author', 'committer', 'message', 'tree', 'url', 'comment_count', 'verification'])"
      ]
     },
     "execution_count": 13,
     "metadata": {},
     "output_type": "execute_result"
    }
   ],
   "source": [
    "commits[0]['commit'].keys()"
   ]
  },
  {
   "cell_type": "code",
   "execution_count": 16,
   "id": "9f027f3a",
   "metadata": {},
   "outputs": [
    {
     "data": {
      "text/plain": [
       "'2023-11-02T11:58:41Z'"
      ]
     },
     "execution_count": 16,
     "metadata": {},
     "output_type": "execute_result"
    }
   ],
   "source": [
    "commits[0]['commit']['author']['date']"
   ]
  },
  {
   "cell_type": "code",
   "execution_count": 19,
   "id": "f4a0a993",
   "metadata": {},
   "outputs": [
    {
     "data": {
      "text/plain": [
       "20"
      ]
     },
     "execution_count": 19,
     "metadata": {},
     "output_type": "execute_result"
    }
   ],
   "source": [
    "today = datetime.now()\n",
    "last_week = today - timedelta(days=7)\n",
    "\n",
    "comcount = 0\n",
    "\n",
    "for commit in commits:\n",
    "    commitdate = datetime.strptime(commit['commit']['author']['date'],\"%Y-%m-%dT%H:%M:%SZ\")\n",
    "    if last_week < commitdate < today:\n",
    "        comcount += 1\n",
    "        \n",
    "comcount"
   ]
  }
 ],
 "metadata": {
  "kernelspec": {
   "display_name": "Python 3 (ipykernel)",
   "language": "python",
   "name": "python3"
  },
  "language_info": {
   "codemirror_mode": {
    "name": "ipython",
    "version": 3
   },
   "file_extension": ".py",
   "mimetype": "text/x-python",
   "name": "python",
   "nbconvert_exporter": "python",
   "pygments_lexer": "ipython3",
   "version": "3.11.4"
  },
  "toc": {
   "base_numbering": 1,
   "nav_menu": {},
   "number_sections": true,
   "sideBar": true,
   "skip_h1_title": true,
   "title_cell": "Table of Contents",
   "title_sidebar": "Contents",
   "toc_cell": false,
   "toc_position": {
    "height": "calc(100% - 180px)",
    "left": "10px",
    "top": "150px",
    "width": "288px"
   },
   "toc_section_display": true,
   "toc_window_display": true
  }
 },
 "nbformat": 4,
 "nbformat_minor": 5
}
