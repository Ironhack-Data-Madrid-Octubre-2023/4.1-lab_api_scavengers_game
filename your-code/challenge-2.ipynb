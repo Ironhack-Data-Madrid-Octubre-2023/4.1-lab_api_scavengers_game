{
 "cells": [
  {
   "cell_type": "markdown",
   "id": "threaded-asbestos",
   "metadata": {},
   "source": [
    "# Challenge 2: Count Commits\n",
    "\n",
    "Count how many commits were made in the past week.\n",
    "\n",
    "Obtain all the commits made in the past week via API, which is a JSON array that contains multiple commit objects.\n",
    "\n",
    "Count how many commit objects are contained in the array."
   ]
  },
  {
   "cell_type": "code",
   "execution_count": 5,
   "id": "25a87fa6",
   "metadata": {},
   "outputs": [],
   "source": [
    "import json\n",
    "import requests as req\n",
    "import os\n",
    "from dotenv import load_dotenv\n",
    "from datetime import datetime, timedelta\n"
   ]
  },
  {
   "cell_type": "code",
   "execution_count": 22,
   "id": "f5afeb20",
   "metadata": {},
   "outputs": [
    {
     "data": {
      "text/plain": [
       "<Response [200]>"
      ]
     },
     "execution_count": 22,
     "metadata": {},
     "output_type": "execute_result"
    }
   ],
   "source": [
    "with open(\"C:/Users/ferna/Desktop/IRONHACK/4.1-lab_api_scavengers_game/pass.txt\", \"r\") as file:\n",
    "    token = file.read().strip()\n",
    "\n",
    "headers = {\"Authorization\": f\"token {token}\"\n",
    "}\n",
    "\n",
    "\n",
    "url = \"https://api.github.com/users/anderfer/repos\"\n",
    "response = req.get(url, headers=headers)\n",
    "response"
   ]
  },
  {
   "cell_type": "code",
   "execution_count": 20,
   "id": "d84b5f99",
   "metadata": {},
   "outputs": [
    {
     "data": {
      "text/plain": [
       "{'message': 'Not Found', 'documentation_url': 'https://docs.github.com/rest'}"
      ]
     },
     "execution_count": 20,
     "metadata": {},
     "output_type": "execute_result"
    }
   ],
   "source": [
    "resp = response.json()\n",
    "resp"
   ]
  },
  {
   "cell_type": "markdown",
   "id": "norwegian-praise",
   "metadata": {},
   "source": [
    "⚠️ **Remember to limit your output before submission**."
   ]
  },
  {
   "cell_type": "code",
   "execution_count": 4,
   "id": "developing-printing",
   "metadata": {},
   "outputs": [
    {
     "ename": "NameError",
     "evalue": "name 'datetime' is not defined",
     "output_type": "error",
     "traceback": [
      "\u001b[1;31m---------------------------------------------------------------------------\u001b[0m",
      "\u001b[1;31mNameError\u001b[0m                                 Traceback (most recent call last)",
      "\u001b[1;32mc:\\Users\\ferna\\Desktop\\IRONHACK\\4.1-lab_api_scavengers_game\\your-code\\challenge-2.ipynb Cell 6\u001b[0m line \u001b[0;36m4\n\u001b[0;32m      <a href='vscode-notebook-cell:/c%3A/Users/ferna/Desktop/IRONHACK/4.1-lab_api_scavengers_game/your-code/challenge-2.ipynb#W2sZmlsZQ%3D%3D?line=0'>1</a>\u001b[0m \u001b[39m#Your code\u001b[39;00m\n\u001b[0;32m      <a href='vscode-notebook-cell:/c%3A/Users/ferna/Desktop/IRONHACK/4.1-lab_api_scavengers_game/your-code/challenge-2.ipynb#W2sZmlsZQ%3D%3D?line=1'>2</a>\u001b[0m repositories \u001b[39m=\u001b[39m response\u001b[39m.\u001b[39mjson()\n\u001b[1;32m----> <a href='vscode-notebook-cell:/c%3A/Users/ferna/Desktop/IRONHACK/4.1-lab_api_scavengers_game/your-code/challenge-2.ipynb#W2sZmlsZQ%3D%3D?line=3'>4</a>\u001b[0m one_week_ago \u001b[39m=\u001b[39m (datetime\u001b[39m.\u001b[39mnow() \u001b[39m-\u001b[39m timedelta(days\u001b[39m=\u001b[39m\u001b[39m7\u001b[39m))\u001b[39m.\u001b[39misoformat()\n\u001b[0;32m      <a href='vscode-notebook-cell:/c%3A/Users/ferna/Desktop/IRONHACK/4.1-lab_api_scavengers_game/your-code/challenge-2.ipynb#W2sZmlsZQ%3D%3D?line=5'>6</a>\u001b[0m total_commits \u001b[39m=\u001b[39m \u001b[39m0\u001b[39m\n\u001b[0;32m      <a href='vscode-notebook-cell:/c%3A/Users/ferna/Desktop/IRONHACK/4.1-lab_api_scavengers_game/your-code/challenge-2.ipynb#W2sZmlsZQ%3D%3D?line=7'>8</a>\u001b[0m \u001b[39mfor\u001b[39;00m repo \u001b[39min\u001b[39;00m repositories:\n",
      "\u001b[1;31mNameError\u001b[0m: name 'datetime' is not defined"
     ]
    }
   ],
   "source": [
    "#Your code\n",
    "repositories = response.json()\n",
    "\n",
    "one_week_ago = (datetime.now() - timedelta(days=7)).isoformat()\n",
    "\n",
    "total_commits = 0\n",
    "\n",
    "for repo in repositories:\n",
    "    \n",
    "    commits_url = repo['commits_url'].split('{')[0]\n",
    "    commits_response = req.get(commits_url, headers=headers)\n",
    "\n",
    "    if commits_response.status_code == 200:\n",
    "        commits = commits_response.json()\n",
    "        commits_in_past_week = [commit for commit in commits if commit['commit']['author']['date'] >= one_week_ago]\n",
    "        commit_count = len(commits_in_past_week)\n",
    "        total_commits += commit_count\n",
    "        print(f\"Repositorio: {repo['full_name']}, Commits en la última semana: {commit_count}\")\n",
    "\n",
    "print(f\"Total de commits en todos los forks en la última semana: {total_commits}\")\n"
   ]
  },
  {
   "cell_type": "code",
   "execution_count": 2,
   "id": "creative-stable",
   "metadata": {},
   "outputs": [],
   "source": [
    "# Example: print(variable[:10]) "
   ]
  },
  {
   "cell_type": "code",
   "execution_count": null,
   "id": "ongoing-taylor",
   "metadata": {},
   "outputs": [],
   "source": []
  }
 ],
 "metadata": {
  "kernelspec": {
   "display_name": "Python 3",
   "language": "python",
   "name": "python3"
  },
  "language_info": {
   "codemirror_mode": {
    "name": "ipython",
    "version": 3
   },
   "file_extension": ".py",
   "mimetype": "text/x-python",
   "name": "python",
   "nbconvert_exporter": "python",
   "pygments_lexer": "ipython3",
   "version": "3.11.6"
  },
  "toc": {
   "base_numbering": 1,
   "nav_menu": {},
   "number_sections": true,
   "sideBar": true,
   "skip_h1_title": true,
   "title_cell": "Table of Contents",
   "title_sidebar": "Contents",
   "toc_cell": false,
   "toc_position": {
    "height": "calc(100% - 180px)",
    "left": "10px",
    "top": "150px",
    "width": "288px"
   },
   "toc_section_display": true,
   "toc_window_display": true
  }
 },
 "nbformat": 4,
 "nbformat_minor": 5
}
