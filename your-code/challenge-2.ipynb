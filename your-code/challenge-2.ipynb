{
 "cells": [
  {
   "cell_type": "markdown",
   "id": "threaded-asbestos",
   "metadata": {},
   "source": [
    "# Challenge 2: Count Commits\n",
    "\n",
    "Count how many commits were made in the past week.\n",
    "\n",
    "Obtain all the commits made in the past week via API, which is a JSON array that contains multiple commit objects.\n",
    "\n",
    "Count how many commit objects are contained in the array."
   ]
  },
  {
   "cell_type": "markdown",
   "id": "norwegian-praise",
   "metadata": {},
   "source": [
    "⚠️ **Remember to limit your output before submission**."
   ]
  },
  {
   "cell_type": "code",
   "execution_count": 11,
   "id": "developing-printing",
   "metadata": {},
   "outputs": [],
   "source": [
    "#Your code\n",
    "\n",
    "import json\n",
    "import requests \n",
    "import os\n",
    "from dotenv import load_dotenv\n",
    "from datetime import datetime, timedelta"
   ]
  },
  {
   "cell_type": "code",
   "execution_count": 17,
   "id": "fcc8d180",
   "metadata": {},
   "outputs": [
    {
     "data": {
      "text/plain": [
       "<Response [200]>"
      ]
     },
     "execution_count": 17,
     "metadata": {},
     "output_type": "execute_result"
    }
   ],
   "source": [
    "with open(\"C:/Users/luiso/IRONHACK/4.1-lab_api_scavengers_game/tk.txt\",\"r\") as file:\n",
    "    token = file.read().strip()\n",
    "\n",
    "headers = {\"Authorization\": f\"token {token}\"}\n",
    "\n",
    "url = \"https://api.github.com/repos/Ironhack-Data-Madrid-Octubre-2023/3.3-lab_mysql_advanced\"\n",
    "response = requests.get(url, headers=headers)\n",
    "response"
   ]
  },
  {
   "cell_type": "code",
   "execution_count": 18,
   "metadata": {},
   "outputs": [
    {
     "data": {
      "text/plain": [
       "{'id': 699233967,\n",
       " 'node_id': 'R_kgDOKa12rw',\n",
       " 'name': '3.3-lab_mysql_advanced',\n",
       " 'full_name': 'Ironhack-Data-Madrid-Octubre-2023/3.3-lab_mysql_advanced',\n",
       " 'private': False,\n",
       " 'owner': {'login': 'Ironhack-Data-Madrid-Octubre-2023',\n",
       "  'id': 146709321,\n",
       "  'node_id': 'O_kgDOCL6bSQ',\n",
       "  'avatar_url': 'https://avatars.githubusercontent.com/u/146709321?v=4',\n",
       "  'gravatar_id': '',\n",
       "  'url': 'https://api.github.com/users/Ironhack-Data-Madrid-Octubre-2023',\n",
       "  'html_url': 'https://github.com/Ironhack-Data-Madrid-Octubre-2023',\n",
       "  'followers_url': 'https://api.github.com/users/Ironhack-Data-Madrid-Octubre-2023/followers',\n",
       "  'following_url': 'https://api.github.com/users/Ironhack-Data-Madrid-Octubre-2023/following{/other_user}',\n",
       "  'gists_url': 'https://api.github.com/users/Ironhack-Data-Madrid-Octubre-2023/gists{/gist_id}',\n",
       "  'starred_url': 'https://api.github.com/users/Ironhack-Data-Madrid-Octubre-2023/starred{/owner}{/repo}',\n",
       "  'subscriptions_url': 'https://api.github.com/users/Ironhack-Data-Madrid-Octubre-2023/subscriptions',\n",
       "  'organizations_url': 'https://api.github.com/users/Ironhack-Data-Madrid-Octubre-2023/orgs',\n",
       "  'repos_url': 'https://api.github.com/users/Ironhack-Data-Madrid-Octubre-2023/repos',\n",
       "  'events_url': 'https://api.github.com/users/Ironhack-Data-Madrid-Octubre-2023/events{/privacy}',\n",
       "  'received_events_url': 'https://api.github.com/users/Ironhack-Data-Madrid-Octubre-2023/received_events',\n",
       "  'type': 'Organization',\n",
       "  'site_admin': False},\n",
       " 'html_url': 'https://github.com/Ironhack-Data-Madrid-Octubre-2023/3.3-lab_mysql_advanced',\n",
       " 'description': None,\n",
       " 'fork': False,\n",
       " 'url': 'https://api.github.com/repos/Ironhack-Data-Madrid-Octubre-2023/3.3-lab_mysql_advanced',\n",
       " 'forks_url': 'https://api.github.com/repos/Ironhack-Data-Madrid-Octubre-2023/3.3-lab_mysql_advanced/forks',\n",
       " 'keys_url': 'https://api.github.com/repos/Ironhack-Data-Madrid-Octubre-2023/3.3-lab_mysql_advanced/keys{/key_id}',\n",
       " 'collaborators_url': 'https://api.github.com/repos/Ironhack-Data-Madrid-Octubre-2023/3.3-lab_mysql_advanced/collaborators{/collaborator}',\n",
       " 'teams_url': 'https://api.github.com/repos/Ironhack-Data-Madrid-Octubre-2023/3.3-lab_mysql_advanced/teams',\n",
       " 'hooks_url': 'https://api.github.com/repos/Ironhack-Data-Madrid-Octubre-2023/3.3-lab_mysql_advanced/hooks',\n",
       " 'issue_events_url': 'https://api.github.com/repos/Ironhack-Data-Madrid-Octubre-2023/3.3-lab_mysql_advanced/issues/events{/number}',\n",
       " 'events_url': 'https://api.github.com/repos/Ironhack-Data-Madrid-Octubre-2023/3.3-lab_mysql_advanced/events',\n",
       " 'assignees_url': 'https://api.github.com/repos/Ironhack-Data-Madrid-Octubre-2023/3.3-lab_mysql_advanced/assignees{/user}',\n",
       " 'branches_url': 'https://api.github.com/repos/Ironhack-Data-Madrid-Octubre-2023/3.3-lab_mysql_advanced/branches{/branch}',\n",
       " 'tags_url': 'https://api.github.com/repos/Ironhack-Data-Madrid-Octubre-2023/3.3-lab_mysql_advanced/tags',\n",
       " 'blobs_url': 'https://api.github.com/repos/Ironhack-Data-Madrid-Octubre-2023/3.3-lab_mysql_advanced/git/blobs{/sha}',\n",
       " 'git_tags_url': 'https://api.github.com/repos/Ironhack-Data-Madrid-Octubre-2023/3.3-lab_mysql_advanced/git/tags{/sha}',\n",
       " 'git_refs_url': 'https://api.github.com/repos/Ironhack-Data-Madrid-Octubre-2023/3.3-lab_mysql_advanced/git/refs{/sha}',\n",
       " 'trees_url': 'https://api.github.com/repos/Ironhack-Data-Madrid-Octubre-2023/3.3-lab_mysql_advanced/git/trees{/sha}',\n",
       " 'statuses_url': 'https://api.github.com/repos/Ironhack-Data-Madrid-Octubre-2023/3.3-lab_mysql_advanced/statuses/{sha}',\n",
       " 'languages_url': 'https://api.github.com/repos/Ironhack-Data-Madrid-Octubre-2023/3.3-lab_mysql_advanced/languages',\n",
       " 'stargazers_url': 'https://api.github.com/repos/Ironhack-Data-Madrid-Octubre-2023/3.3-lab_mysql_advanced/stargazers',\n",
       " 'contributors_url': 'https://api.github.com/repos/Ironhack-Data-Madrid-Octubre-2023/3.3-lab_mysql_advanced/contributors',\n",
       " 'subscribers_url': 'https://api.github.com/repos/Ironhack-Data-Madrid-Octubre-2023/3.3-lab_mysql_advanced/subscribers',\n",
       " 'subscription_url': 'https://api.github.com/repos/Ironhack-Data-Madrid-Octubre-2023/3.3-lab_mysql_advanced/subscription',\n",
       " 'commits_url': 'https://api.github.com/repos/Ironhack-Data-Madrid-Octubre-2023/3.3-lab_mysql_advanced/commits{/sha}',\n",
       " 'git_commits_url': 'https://api.github.com/repos/Ironhack-Data-Madrid-Octubre-2023/3.3-lab_mysql_advanced/git/commits{/sha}',\n",
       " 'comments_url': 'https://api.github.com/repos/Ironhack-Data-Madrid-Octubre-2023/3.3-lab_mysql_advanced/comments{/number}',\n",
       " 'issue_comment_url': 'https://api.github.com/repos/Ironhack-Data-Madrid-Octubre-2023/3.3-lab_mysql_advanced/issues/comments{/number}',\n",
       " 'contents_url': 'https://api.github.com/repos/Ironhack-Data-Madrid-Octubre-2023/3.3-lab_mysql_advanced/contents/{+path}',\n",
       " 'compare_url': 'https://api.github.com/repos/Ironhack-Data-Madrid-Octubre-2023/3.3-lab_mysql_advanced/compare/{base}...{head}',\n",
       " 'merges_url': 'https://api.github.com/repos/Ironhack-Data-Madrid-Octubre-2023/3.3-lab_mysql_advanced/merges',\n",
       " 'archive_url': 'https://api.github.com/repos/Ironhack-Data-Madrid-Octubre-2023/3.3-lab_mysql_advanced/{archive_format}{/ref}',\n",
       " 'downloads_url': 'https://api.github.com/repos/Ironhack-Data-Madrid-Octubre-2023/3.3-lab_mysql_advanced/downloads',\n",
       " 'issues_url': 'https://api.github.com/repos/Ironhack-Data-Madrid-Octubre-2023/3.3-lab_mysql_advanced/issues{/number}',\n",
       " 'pulls_url': 'https://api.github.com/repos/Ironhack-Data-Madrid-Octubre-2023/3.3-lab_mysql_advanced/pulls{/number}',\n",
       " 'milestones_url': 'https://api.github.com/repos/Ironhack-Data-Madrid-Octubre-2023/3.3-lab_mysql_advanced/milestones{/number}',\n",
       " 'notifications_url': 'https://api.github.com/repos/Ironhack-Data-Madrid-Octubre-2023/3.3-lab_mysql_advanced/notifications{?since,all,participating}',\n",
       " 'labels_url': 'https://api.github.com/repos/Ironhack-Data-Madrid-Octubre-2023/3.3-lab_mysql_advanced/labels{/name}',\n",
       " 'releases_url': 'https://api.github.com/repos/Ironhack-Data-Madrid-Octubre-2023/3.3-lab_mysql_advanced/releases{/id}',\n",
       " 'deployments_url': 'https://api.github.com/repos/Ironhack-Data-Madrid-Octubre-2023/3.3-lab_mysql_advanced/deployments',\n",
       " 'created_at': '2023-10-02T08:08:18Z',\n",
       " 'updated_at': '2023-10-25T10:39:03Z',\n",
       " 'pushed_at': '2023-10-31T07:36:39Z',\n",
       " 'git_url': 'git://github.com/Ironhack-Data-Madrid-Octubre-2023/3.3-lab_mysql_advanced.git',\n",
       " 'ssh_url': 'git@github.com:Ironhack-Data-Madrid-Octubre-2023/3.3-lab_mysql_advanced.git',\n",
       " 'clone_url': 'https://github.com/Ironhack-Data-Madrid-Octubre-2023/3.3-lab_mysql_advanced.git',\n",
       " 'svn_url': 'https://github.com/Ironhack-Data-Madrid-Octubre-2023/3.3-lab_mysql_advanced',\n",
       " 'homepage': 'https://github.com',\n",
       " 'size': 3,\n",
       " 'stargazers_count': 0,\n",
       " 'watchers_count': 0,\n",
       " 'language': None,\n",
       " 'has_issues': True,\n",
       " 'has_projects': True,\n",
       " 'has_downloads': True,\n",
       " 'has_wiki': False,\n",
       " 'has_pages': False,\n",
       " 'has_discussions': False,\n",
       " 'forks_count': 31,\n",
       " 'mirror_url': None,\n",
       " 'archived': False,\n",
       " 'disabled': False,\n",
       " 'open_issues_count': 4,\n",
       " 'license': None,\n",
       " 'allow_forking': True,\n",
       " 'is_template': False,\n",
       " 'web_commit_signoff_required': False,\n",
       " 'topics': [],\n",
       " 'visibility': 'public',\n",
       " 'forks': 31,\n",
       " 'open_issues': 4,\n",
       " 'watchers': 0,\n",
       " 'default_branch': 'main',\n",
       " 'permissions': {'admin': False,\n",
       "  'maintain': False,\n",
       "  'push': False,\n",
       "  'triage': False,\n",
       "  'pull': True},\n",
       " 'temp_clone_token': '',\n",
       " 'organization': {'login': 'Ironhack-Data-Madrid-Octubre-2023',\n",
       "  'id': 146709321,\n",
       "  'node_id': 'O_kgDOCL6bSQ',\n",
       "  'avatar_url': 'https://avatars.githubusercontent.com/u/146709321?v=4',\n",
       "  'gravatar_id': '',\n",
       "  'url': 'https://api.github.com/users/Ironhack-Data-Madrid-Octubre-2023',\n",
       "  'html_url': 'https://github.com/Ironhack-Data-Madrid-Octubre-2023',\n",
       "  'followers_url': 'https://api.github.com/users/Ironhack-Data-Madrid-Octubre-2023/followers',\n",
       "  'following_url': 'https://api.github.com/users/Ironhack-Data-Madrid-Octubre-2023/following{/other_user}',\n",
       "  'gists_url': 'https://api.github.com/users/Ironhack-Data-Madrid-Octubre-2023/gists{/gist_id}',\n",
       "  'starred_url': 'https://api.github.com/users/Ironhack-Data-Madrid-Octubre-2023/starred{/owner}{/repo}',\n",
       "  'subscriptions_url': 'https://api.github.com/users/Ironhack-Data-Madrid-Octubre-2023/subscriptions',\n",
       "  'organizations_url': 'https://api.github.com/users/Ironhack-Data-Madrid-Octubre-2023/orgs',\n",
       "  'repos_url': 'https://api.github.com/users/Ironhack-Data-Madrid-Octubre-2023/repos',\n",
       "  'events_url': 'https://api.github.com/users/Ironhack-Data-Madrid-Octubre-2023/events{/privacy}',\n",
       "  'received_events_url': 'https://api.github.com/users/Ironhack-Data-Madrid-Octubre-2023/received_events',\n",
       "  'type': 'Organization',\n",
       "  'site_admin': False},\n",
       " 'network_count': 31,\n",
       " 'subscribers_count': 1}"
      ]
     },
     "execution_count": 18,
     "metadata": {},
     "output_type": "execute_result"
    }
   ],
   "source": [
    "resp = response.json()\n",
    "resp"
   ]
  },
  {
   "cell_type": "code",
   "execution_count": 21,
   "id": "737c2616",
   "metadata": {},
   "outputs": [
    {
     "data": {
      "text/plain": [
       "31"
      ]
     },
     "execution_count": 21,
     "metadata": {},
     "output_type": "execute_result"
    }
   ],
   "source": [
    "\n",
    "resp.keys()\n",
    "\n",
    "resp[\"forks_count\"]"
   ]
  },
  {
   "cell_type": "code",
   "execution_count": 2,
   "id": "creative-stable",
   "metadata": {},
   "outputs": [],
   "source": [
    "# Example: print(variable[:10]) "
   ]
  },
  {
   "cell_type": "code",
   "execution_count": null,
   "id": "ongoing-taylor",
   "metadata": {},
   "outputs": [],
   "source": []
  }
 ],
 "metadata": {
  "kernelspec": {
   "display_name": "Python 3",
   "language": "python",
   "name": "python3"
  },
  "language_info": {
   "codemirror_mode": {
    "name": "ipython",
    "version": 3
   },
   "file_extension": ".py",
   "mimetype": "text/x-python",
   "name": "python",
   "nbconvert_exporter": "python",
   "pygments_lexer": "ipython3",
   "version": "3.10.9"
  },
  "toc": {
   "base_numbering": 1,
   "nav_menu": {},
   "number_sections": true,
   "sideBar": true,
   "skip_h1_title": true,
   "title_cell": "Table of Contents",
   "title_sidebar": "Contents",
   "toc_cell": false,
   "toc_position": {
    "height": "calc(100% - 180px)",
    "left": "10px",
    "top": "150px",
    "width": "288px"
   },
   "toc_section_display": true,
   "toc_window_display": true
  }
 },
 "nbformat": 4,
 "nbformat_minor": 5
}
