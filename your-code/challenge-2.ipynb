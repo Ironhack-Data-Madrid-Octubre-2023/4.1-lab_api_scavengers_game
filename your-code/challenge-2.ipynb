{
 "cells": [
  {
   "cell_type": "markdown",
   "id": "threaded-asbestos",
   "metadata": {},
   "source": [
    "# Challenge 2: Count Commits\n",
    "\n",
    "Count how many commits were made in the past week.\n",
    "\n",
    "Obtain all the commits made in the past week via API, which is a JSON array that contains multiple commit objects.\n",
    "\n",
    "Count how many commit objects are contained in the array."
   ]
  },
  {
   "cell_type": "markdown",
   "id": "norwegian-praise",
   "metadata": {},
   "source": [
    "⚠️ **Remember to limit your output before submission**."
   ]
  },
  {
   "cell_type": "code",
   "execution_count": 1,
   "id": "developing-printing",
   "metadata": {},
   "outputs": [],
   "source": [
    "#Your code\n",
    "import json\n",
    "import requests\n",
    "import os\n",
    "from dotenv import load_dotenv\n",
    "from datetime import datetime, timedelta"
   ]
  },
  {
   "cell_type": "code",
   "execution_count": 16,
   "id": "creative-stable",
   "metadata": {},
   "outputs": [],
   "source": [
    "# Example: print(variable[:10]) "
   ]
  },
  {
   "cell_type": "code",
   "execution_count": 2,
   "id": "c0577212",
   "metadata": {},
   "outputs": [],
   "source": [
    "commits_url = 'https://api.github.com/repos/Ironhack-Data-Madrid-Octubre-2023/apuntes_clase/commits'\n",
    "#con datetime.now y timedelta obtengo la fecha la semana pasada\n",
    "last_week = (datetime.now() - timedelta(weeks=1)).isoformat()\n",
    "#creo una variable parámetros para la solicitud GET\n",
    "parametros = {'since': last_week,}"
   ]
  },
  {
   "cell_type": "code",
   "execution_count": 3,
   "id": "1daa803e",
   "metadata": {},
   "outputs": [],
   "source": [
    "#para solicitar el GET, además de la URL le introduzco un parámetro con la fecha\n",
    "res = requests.get(commits_url, params = parametros)\n",
    "#almaceno el res en forma de JSON dentro de la variable commits\n",
    "commits = res.json()"
   ]
  },
  {
   "cell_type": "code",
   "execution_count": 4,
   "id": "9d2f4598",
   "metadata": {},
   "outputs": [
    {
     "name": "stdout",
     "output_type": "stream",
     "text": [
      "La semana pasada hubo 21 commits\n"
     ]
    }
   ],
   "source": [
    "#número de commits\n",
    "num_commits = len(commits)\n",
    "print(f'La semana pasada hubo {num_commits} commits')"
   ]
  }
 ],
 "metadata": {
  "kernelspec": {
   "display_name": "Python 3 (ipykernel)",
   "language": "python",
   "name": "python3"
  },
  "language_info": {
   "codemirror_mode": {
    "name": "ipython",
    "version": 3
   },
   "file_extension": ".py",
   "mimetype": "text/x-python",
   "name": "python",
   "nbconvert_exporter": "python",
   "pygments_lexer": "ipython3",
   "version": "3.11.3"
  },
  "toc": {
   "base_numbering": 1,
   "nav_menu": {},
   "number_sections": true,
   "sideBar": true,
   "skip_h1_title": true,
   "title_cell": "Table of Contents",
   "title_sidebar": "Contents",
   "toc_cell": false,
   "toc_position": {
    "height": "calc(100% - 180px)",
    "left": "10px",
    "top": "150px",
    "width": "288px"
   },
   "toc_section_display": true,
   "toc_window_display": true
  }
 },
 "nbformat": 4,
 "nbformat_minor": 5
}
