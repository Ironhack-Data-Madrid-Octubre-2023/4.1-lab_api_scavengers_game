{
 "cells": [
  {
   "cell_type": "markdown",
   "id": "threaded-asbestos",
   "metadata": {},
   "source": [
    "# Challenge 2: Count Commits\n",
    "\n",
    "Count how many commits were made in the past week.\n",
    "\n",
    "Obtain all the commits made in the past week via API, which is a JSON array that contains multiple commit objects.\n",
    "\n",
    "Count how many commit objects are contained in the array."
   ]
  },
  {
   "cell_type": "markdown",
   "id": "norwegian-praise",
   "metadata": {},
   "source": [
    "⚠️ **Remember to limit your output before submission**."
   ]
  },
  {
   "cell_type": "code",
   "execution_count": 61,
   "id": "developing-printing",
   "metadata": {},
   "outputs": [],
   "source": [
    "import os\n",
    "import json\n",
    "import requests as req\n",
    "from dotenv import load_dotenv"
   ]
  },
  {
   "cell_type": "code",
   "execution_count": 70,
   "id": "creative-stable",
   "metadata": {},
   "outputs": [],
   "source": [
    "load_dotenv()\n",
    "github = os.getenv(\"token\")"
   ]
  },
  {
   "cell_type": "code",
   "execution_count": 92,
   "id": "ongoing-taylor",
   "metadata": {},
   "outputs": [],
   "source": [
    "with open('../token.txt') as file:\n",
    "    my_token = file.read()\n",
    "\n",
    "HEADER = {'Authorization': 'token ' + my_token } "
   ]
  },
  {
   "cell_type": "code",
   "execution_count": 105,
   "id": "c4241ebc",
   "metadata": {},
   "outputs": [
    {
     "data": {
      "text/plain": [
       "<Response [200]>"
      ]
     },
     "execution_count": 105,
     "metadata": {},
     "output_type": "execute_result"
    }
   ],
   "source": [
    "url = 'https://api.github.com/repos/Ironhack-Data-Madrid-Octubre-2023/apuntes_clase'\n",
    "res = req.get(url, headers = HEADER)\n",
    "res"
   ]
  },
  {
   "cell_type": "code",
   "execution_count": 106,
   "id": "3071ede1",
   "metadata": {},
   "outputs": [],
   "source": [
    "res_api = res.json()\n",
    "c_url = res_api['commits_url']"
   ]
  },
  {
   "cell_type": "code",
   "execution_count": 113,
   "id": "951ec5a9",
   "metadata": {},
   "outputs": [],
   "source": [
    "date = []\n",
    "\n",
    "'''\n",
    "Here, I create an index to check in the next page of commits.\n",
    "To do so, I copied from github what is the name for the next page.\n",
    "However, it is not working properly because I am obtaining the same dates for both,\n",
    "the first and the second page.\n",
    "I decided to conclude this challenge here: \n",
    "Printing the # of commits for this repo during this week.\n",
    "'''\n",
    "\n",
    "index = ['', '?after=6c615a7aa4c810766927b58ac8089fddab7e4193+34']\n",
    "\n",
    "for i in index:\n",
    "    url_ = c_url.replace('{/sha}', i)\n",
    "    res_ = req.get(url_, headers = HEADER)\n",
    "    c_res_api_ = res_.json()\n",
    "    for j in range(30):\n",
    "        date.append(c_res_api_[j]['commit']['author']['date'].split('T'))"
   ]
  },
  {
   "cell_type": "code",
   "execution_count": 115,
   "id": "128e54d5",
   "metadata": {},
   "outputs": [
    {
     "data": {
      "text/plain": [
       "60"
      ]
     },
     "execution_count": 115,
     "metadata": {},
     "output_type": "execute_result"
    }
   ],
   "source": [
    "len(date)"
   ]
  }
 ],
 "metadata": {
  "kernelspec": {
   "display_name": "Python 3 (ipykernel)",
   "language": "python",
   "name": "python3"
  },
  "language_info": {
   "codemirror_mode": {
    "name": "ipython",
    "version": 3
   },
   "file_extension": ".py",
   "mimetype": "text/x-python",
   "name": "python",
   "nbconvert_exporter": "python",
   "pygments_lexer": "ipython3",
   "version": "3.11.4"
  },
  "toc": {
   "base_numbering": 1,
   "nav_menu": {},
   "number_sections": true,
   "sideBar": true,
   "skip_h1_title": true,
   "title_cell": "Table of Contents",
   "title_sidebar": "Contents",
   "toc_cell": false,
   "toc_position": {
    "height": "calc(100% - 180px)",
    "left": "10px",
    "top": "150px",
    "width": "288px"
   },
   "toc_section_display": true,
   "toc_window_display": true
  }
 },
 "nbformat": 4,
 "nbformat_minor": 5
}
