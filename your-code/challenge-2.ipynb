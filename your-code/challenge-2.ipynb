{
 "cells": [
  {
   "cell_type": "markdown",
   "id": "threaded-asbestos",
   "metadata": {},
   "source": [
    "# Challenge 2: Count Commits\n",
    "\n",
    "Count how many commits were made in the past week.\n",
    "\n",
    "Obtain all the commits made in the past week via API, which is a JSON array that contains multiple commit objects.\n",
    "\n",
    "Count how many commit objects are contained in the array."
   ]
  },
  {
   "cell_type": "markdown",
   "id": "norwegian-praise",
   "metadata": {},
   "source": [
    "⚠️ **Remember to limit your output before submission**."
   ]
  },
  {
   "cell_type": "code",
   "execution_count": 94,
   "id": "344fd5c7",
   "metadata": {},
   "outputs": [],
   "source": [
    "import json\n",
    "import requests as req"
   ]
  },
  {
   "cell_type": "code",
   "execution_count": 95,
   "id": "27823edb",
   "metadata": {},
   "outputs": [],
   "source": [
    "import os\n",
    "from dotenv import load_dotenv"
   ]
  },
  {
   "cell_type": "code",
   "execution_count": 96,
   "id": "ea12a49c",
   "metadata": {},
   "outputs": [],
   "source": [
    "import datetime"
   ]
  },
  {
   "cell_type": "code",
   "execution_count": 97,
   "id": "a54ab013",
   "metadata": {},
   "outputs": [
    {
     "data": {
      "text/plain": [
       "False"
      ]
     },
     "execution_count": 97,
     "metadata": {},
     "output_type": "execute_result"
    }
   ],
   "source": [
    "load_dotenv()"
   ]
  },
  {
   "cell_type": "code",
   "execution_count": 98,
   "id": "developing-printing",
   "metadata": {},
   "outputs": [
    {
     "data": {
      "text/plain": [
       "<Response [200]>"
      ]
     },
     "execution_count": 98,
     "metadata": {},
     "output_type": "execute_result"
    }
   ],
   "source": [
    "with open('password.txt', 'r') as file:\n",
    "    pass_ = file.read()\n",
    "HEADER = {'Authorization': 'token ' + pass_ }\n",
    "url = 'https://api.github.com/repos/Ironhack-Data-Madrid-Octubre-2023/4.1-lab_api_scavengers_game'\n",
    "res = req.get(url, headers=HEADER)\n",
    "res"
   ]
  },
  {
   "cell_type": "code",
   "execution_count": 99,
   "id": "34a15323",
   "metadata": {},
   "outputs": [],
   "source": [
    "week_ago = datetime.datetime.now() - datetime.timedelta(weeks=1)\n",
    "params = {'since': week_ago.isoformat()}"
   ]
  },
  {
   "cell_type": "code",
   "execution_count": 100,
   "id": "c121adf3",
   "metadata": {},
   "outputs": [
    {
     "data": {
      "text/plain": [
       "<Response [200]>"
      ]
     },
     "execution_count": 100,
     "metadata": {},
     "output_type": "execute_result"
    }
   ],
   "source": [
    "res = req.get(url, params=params, headers=HEADER)\n",
    "res"
   ]
  },
  {
   "cell_type": "code",
   "execution_count": 101,
   "id": "278d5de9",
   "metadata": {},
   "outputs": [],
   "source": [
    "github = os.getenv(\"token\")"
   ]
  },
  {
   "cell_type": "code",
   "execution_count": 102,
   "id": "2cd15dba",
   "metadata": {},
   "outputs": [
    {
     "data": {
      "text/plain": [
       "{'id': 699234068,\n",
       " 'node_id': 'R_kgDOKa13FA',\n",
       " 'name': '4.1-lab_api_scavengers_game',\n",
       " 'full_name': 'Ironhack-Data-Madrid-Octubre-2023/4.1-lab_api_scavengers_game',\n",
       " 'private': False,\n",
       " 'owner': {'login': 'Ironhack-Data-Madrid-Octubre-2023',\n",
       "  'id': 146709321,\n",
       "  'node_id': 'O_kgDOCL6bSQ',\n",
       "  'avatar_url': 'https://avatars.githubusercontent.com/u/146709321?v=4',\n",
       "  'gravatar_id': '',\n",
       "  'url': 'https://api.github.com/users/Ironhack-Data-Madrid-Octubre-2023',\n",
       "  'html_url': 'https://github.com/Ironhack-Data-Madrid-Octubre-2023',\n",
       "  'followers_url': 'https://api.github.com/users/Ironhack-Data-Madrid-Octubre-2023/followers',\n",
       "  'following_url': 'https://api.github.com/users/Ironhack-Data-Madrid-Octubre-2023/following{/other_user}',\n",
       "  'gists_url': 'https://api.github.com/users/Ironhack-Data-Madrid-Octubre-2023/gists{/gist_id}',\n",
       "  'starred_url': 'https://api.github.com/users/Ironhack-Data-Madrid-Octubre-2023/starred{/owner}{/repo}',\n",
       "  'subscriptions_url': 'https://api.github.com/users/Ironhack-Data-Madrid-Octubre-2023/subscriptions',\n",
       "  'organizations_url': 'https://api.github.com/users/Ironhack-Data-Madrid-Octubre-2023/orgs',\n",
       "  'repos_url': 'https://api.github.com/users/Ironhack-Data-Madrid-Octubre-2023/repos',\n",
       "  'events_url': 'https://api.github.com/users/Ironhack-Data-Madrid-Octubre-2023/events{/privacy}',\n",
       "  'received_events_url': 'https://api.github.com/users/Ironhack-Data-Madrid-Octubre-2023/received_events',\n",
       "  'type': 'Organization',\n",
       "  'site_admin': False},\n",
       " 'html_url': 'https://github.com/Ironhack-Data-Madrid-Octubre-2023/4.1-lab_api_scavengers_game',\n",
       " 'description': None,\n",
       " 'fork': False,\n",
       " 'url': 'https://api.github.com/repos/Ironhack-Data-Madrid-Octubre-2023/4.1-lab_api_scavengers_game',\n",
       " 'forks_url': 'https://api.github.com/repos/Ironhack-Data-Madrid-Octubre-2023/4.1-lab_api_scavengers_game/forks',\n",
       " 'keys_url': 'https://api.github.com/repos/Ironhack-Data-Madrid-Octubre-2023/4.1-lab_api_scavengers_game/keys{/key_id}',\n",
       " 'collaborators_url': 'https://api.github.com/repos/Ironhack-Data-Madrid-Octubre-2023/4.1-lab_api_scavengers_game/collaborators{/collaborator}',\n",
       " 'teams_url': 'https://api.github.com/repos/Ironhack-Data-Madrid-Octubre-2023/4.1-lab_api_scavengers_game/teams',\n",
       " 'hooks_url': 'https://api.github.com/repos/Ironhack-Data-Madrid-Octubre-2023/4.1-lab_api_scavengers_game/hooks',\n",
       " 'issue_events_url': 'https://api.github.com/repos/Ironhack-Data-Madrid-Octubre-2023/4.1-lab_api_scavengers_game/issues/events{/number}',\n",
       " 'events_url': 'https://api.github.com/repos/Ironhack-Data-Madrid-Octubre-2023/4.1-lab_api_scavengers_game/events',\n",
       " 'assignees_url': 'https://api.github.com/repos/Ironhack-Data-Madrid-Octubre-2023/4.1-lab_api_scavengers_game/assignees{/user}',\n",
       " 'branches_url': 'https://api.github.com/repos/Ironhack-Data-Madrid-Octubre-2023/4.1-lab_api_scavengers_game/branches{/branch}',\n",
       " 'tags_url': 'https://api.github.com/repos/Ironhack-Data-Madrid-Octubre-2023/4.1-lab_api_scavengers_game/tags',\n",
       " 'blobs_url': 'https://api.github.com/repos/Ironhack-Data-Madrid-Octubre-2023/4.1-lab_api_scavengers_game/git/blobs{/sha}',\n",
       " 'git_tags_url': 'https://api.github.com/repos/Ironhack-Data-Madrid-Octubre-2023/4.1-lab_api_scavengers_game/git/tags{/sha}',\n",
       " 'git_refs_url': 'https://api.github.com/repos/Ironhack-Data-Madrid-Octubre-2023/4.1-lab_api_scavengers_game/git/refs{/sha}',\n",
       " 'trees_url': 'https://api.github.com/repos/Ironhack-Data-Madrid-Octubre-2023/4.1-lab_api_scavengers_game/git/trees{/sha}',\n",
       " 'statuses_url': 'https://api.github.com/repos/Ironhack-Data-Madrid-Octubre-2023/4.1-lab_api_scavengers_game/statuses/{sha}',\n",
       " 'languages_url': 'https://api.github.com/repos/Ironhack-Data-Madrid-Octubre-2023/4.1-lab_api_scavengers_game/languages',\n",
       " 'stargazers_url': 'https://api.github.com/repos/Ironhack-Data-Madrid-Octubre-2023/4.1-lab_api_scavengers_game/stargazers',\n",
       " 'contributors_url': 'https://api.github.com/repos/Ironhack-Data-Madrid-Octubre-2023/4.1-lab_api_scavengers_game/contributors',\n",
       " 'subscribers_url': 'https://api.github.com/repos/Ironhack-Data-Madrid-Octubre-2023/4.1-lab_api_scavengers_game/subscribers',\n",
       " 'subscription_url': 'https://api.github.com/repos/Ironhack-Data-Madrid-Octubre-2023/4.1-lab_api_scavengers_game/subscription',\n",
       " 'commits_url': 'https://api.github.com/repos/Ironhack-Data-Madrid-Octubre-2023/4.1-lab_api_scavengers_game/commits{/sha}',\n",
       " 'git_commits_url': 'https://api.github.com/repos/Ironhack-Data-Madrid-Octubre-2023/4.1-lab_api_scavengers_game/git/commits{/sha}',\n",
       " 'comments_url': 'https://api.github.com/repos/Ironhack-Data-Madrid-Octubre-2023/4.1-lab_api_scavengers_game/comments{/number}',\n",
       " 'issue_comment_url': 'https://api.github.com/repos/Ironhack-Data-Madrid-Octubre-2023/4.1-lab_api_scavengers_game/issues/comments{/number}',\n",
       " 'contents_url': 'https://api.github.com/repos/Ironhack-Data-Madrid-Octubre-2023/4.1-lab_api_scavengers_game/contents/{+path}',\n",
       " 'compare_url': 'https://api.github.com/repos/Ironhack-Data-Madrid-Octubre-2023/4.1-lab_api_scavengers_game/compare/{base}...{head}',\n",
       " 'merges_url': 'https://api.github.com/repos/Ironhack-Data-Madrid-Octubre-2023/4.1-lab_api_scavengers_game/merges',\n",
       " 'archive_url': 'https://api.github.com/repos/Ironhack-Data-Madrid-Octubre-2023/4.1-lab_api_scavengers_game/{archive_format}{/ref}',\n",
       " 'downloads_url': 'https://api.github.com/repos/Ironhack-Data-Madrid-Octubre-2023/4.1-lab_api_scavengers_game/downloads',\n",
       " 'issues_url': 'https://api.github.com/repos/Ironhack-Data-Madrid-Octubre-2023/4.1-lab_api_scavengers_game/issues{/number}',\n",
       " 'pulls_url': 'https://api.github.com/repos/Ironhack-Data-Madrid-Octubre-2023/4.1-lab_api_scavengers_game/pulls{/number}',\n",
       " 'milestones_url': 'https://api.github.com/repos/Ironhack-Data-Madrid-Octubre-2023/4.1-lab_api_scavengers_game/milestones{/number}',\n",
       " 'notifications_url': 'https://api.github.com/repos/Ironhack-Data-Madrid-Octubre-2023/4.1-lab_api_scavengers_game/notifications{?since,all,participating}',\n",
       " 'labels_url': 'https://api.github.com/repos/Ironhack-Data-Madrid-Octubre-2023/4.1-lab_api_scavengers_game/labels{/name}',\n",
       " 'releases_url': 'https://api.github.com/repos/Ironhack-Data-Madrid-Octubre-2023/4.1-lab_api_scavengers_game/releases{/id}',\n",
       " 'deployments_url': 'https://api.github.com/repos/Ironhack-Data-Madrid-Octubre-2023/4.1-lab_api_scavengers_game/deployments',\n",
       " 'created_at': '2023-10-02T08:08:33Z',\n",
       " 'updated_at': '2023-10-30T13:20:41Z',\n",
       " 'pushed_at': '2023-11-02T19:21:18Z',\n",
       " 'git_url': 'git://github.com/Ironhack-Data-Madrid-Octubre-2023/4.1-lab_api_scavengers_game.git',\n",
       " 'ssh_url': 'git@github.com:Ironhack-Data-Madrid-Octubre-2023/4.1-lab_api_scavengers_game.git',\n",
       " 'clone_url': 'https://github.com/Ironhack-Data-Madrid-Octubre-2023/4.1-lab_api_scavengers_game.git',\n",
       " 'svn_url': 'https://github.com/Ironhack-Data-Madrid-Octubre-2023/4.1-lab_api_scavengers_game',\n",
       " 'homepage': 'https://github.com',\n",
       " 'size': 87,\n",
       " 'stargazers_count': 0,\n",
       " 'watchers_count': 0,\n",
       " 'language': 'Jupyter Notebook',\n",
       " 'has_issues': True,\n",
       " 'has_projects': True,\n",
       " 'has_downloads': True,\n",
       " 'has_wiki': False,\n",
       " 'has_pages': False,\n",
       " 'has_discussions': False,\n",
       " 'forks_count': 31,\n",
       " 'mirror_url': None,\n",
       " 'archived': False,\n",
       " 'disabled': False,\n",
       " 'open_issues_count': 22,\n",
       " 'license': None,\n",
       " 'allow_forking': True,\n",
       " 'is_template': False,\n",
       " 'web_commit_signoff_required': False,\n",
       " 'topics': [],\n",
       " 'visibility': 'public',\n",
       " 'forks': 31,\n",
       " 'open_issues': 22,\n",
       " 'watchers': 0,\n",
       " 'default_branch': 'main',\n",
       " 'permissions': {'admin': False,\n",
       "  'maintain': False,\n",
       "  'push': False,\n",
       "  'triage': False,\n",
       "  'pull': True},\n",
       " 'temp_clone_token': '',\n",
       " 'organization': {'login': 'Ironhack-Data-Madrid-Octubre-2023',\n",
       "  'id': 146709321,\n",
       "  'node_id': 'O_kgDOCL6bSQ',\n",
       "  'avatar_url': 'https://avatars.githubusercontent.com/u/146709321?v=4',\n",
       "  'gravatar_id': '',\n",
       "  'url': 'https://api.github.com/users/Ironhack-Data-Madrid-Octubre-2023',\n",
       "  'html_url': 'https://github.com/Ironhack-Data-Madrid-Octubre-2023',\n",
       "  'followers_url': 'https://api.github.com/users/Ironhack-Data-Madrid-Octubre-2023/followers',\n",
       "  'following_url': 'https://api.github.com/users/Ironhack-Data-Madrid-Octubre-2023/following{/other_user}',\n",
       "  'gists_url': 'https://api.github.com/users/Ironhack-Data-Madrid-Octubre-2023/gists{/gist_id}',\n",
       "  'starred_url': 'https://api.github.com/users/Ironhack-Data-Madrid-Octubre-2023/starred{/owner}{/repo}',\n",
       "  'subscriptions_url': 'https://api.github.com/users/Ironhack-Data-Madrid-Octubre-2023/subscriptions',\n",
       "  'organizations_url': 'https://api.github.com/users/Ironhack-Data-Madrid-Octubre-2023/orgs',\n",
       "  'repos_url': 'https://api.github.com/users/Ironhack-Data-Madrid-Octubre-2023/repos',\n",
       "  'events_url': 'https://api.github.com/users/Ironhack-Data-Madrid-Octubre-2023/events{/privacy}',\n",
       "  'received_events_url': 'https://api.github.com/users/Ironhack-Data-Madrid-Octubre-2023/received_events',\n",
       "  'type': 'Organization',\n",
       "  'site_admin': False},\n",
       " 'network_count': 31,\n",
       " 'subscribers_count': 1}"
      ]
     },
     "execution_count": 102,
     "metadata": {},
     "output_type": "execute_result"
    }
   ],
   "source": [
    "lst = res.json()\n",
    "lst"
   ]
  },
  {
   "cell_type": "code",
   "execution_count": 103,
   "id": "d6304663",
   "metadata": {},
   "outputs": [
    {
     "data": {
      "text/plain": [
       "dict_keys(['id', 'node_id', 'name', 'full_name', 'private', 'owner', 'html_url', 'description', 'fork', 'url', 'forks_url', 'keys_url', 'collaborators_url', 'teams_url', 'hooks_url', 'issue_events_url', 'events_url', 'assignees_url', 'branches_url', 'tags_url', 'blobs_url', 'git_tags_url', 'git_refs_url', 'trees_url', 'statuses_url', 'languages_url', 'stargazers_url', 'contributors_url', 'subscribers_url', 'subscription_url', 'commits_url', 'git_commits_url', 'comments_url', 'issue_comment_url', 'contents_url', 'compare_url', 'merges_url', 'archive_url', 'downloads_url', 'issues_url', 'pulls_url', 'milestones_url', 'notifications_url', 'labels_url', 'releases_url', 'deployments_url', 'created_at', 'updated_at', 'pushed_at', 'git_url', 'ssh_url', 'clone_url', 'svn_url', 'homepage', 'size', 'stargazers_count', 'watchers_count', 'language', 'has_issues', 'has_projects', 'has_downloads', 'has_wiki', 'has_pages', 'has_discussions', 'forks_count', 'mirror_url', 'archived', 'disabled', 'open_issues_count', 'license', 'allow_forking', 'is_template', 'web_commit_signoff_required', 'topics', 'visibility', 'forks', 'open_issues', 'watchers', 'default_branch', 'permissions', 'temp_clone_token', 'organization', 'network_count', 'subscribers_count'])"
      ]
     },
     "execution_count": 103,
     "metadata": {},
     "output_type": "execute_result"
    }
   ],
   "source": [
    "lst.keys()\n"
   ]
  },
  {
   "cell_type": "code",
   "execution_count": 104,
   "id": "9b7cb088",
   "metadata": {},
   "outputs": [
    {
     "data": {
      "text/plain": [
       "'https://api.github.com/repos/Ironhack-Data-Madrid-Octubre-2023/4.1-lab_api_scavengers_game/commits{/sha}'"
      ]
     },
     "execution_count": 104,
     "metadata": {},
     "output_type": "execute_result"
    }
   ],
   "source": [
    "lst['commits_url']\n"
   ]
  },
  {
   "cell_type": "code",
   "execution_count": 105,
   "id": "12212e16",
   "metadata": {},
   "outputs": [
    {
     "data": {
      "text/plain": [
       "'https://api.github.com/repos/Ironhack-Data-Madrid-Octubre-2023/4.1-lab_api_scavengers_game/commits'"
      ]
     },
     "execution_count": 105,
     "metadata": {},
     "output_type": "execute_result"
    }
   ],
   "source": [
    "nueva_url = 'https://api.github.com/repos/Ironhack-Data-Madrid-Octubre-2023/4.1-lab_api_scavengers_game/commits'\n",
    "nueva_url"
   ]
  },
  {
   "cell_type": "code",
   "execution_count": 106,
   "id": "f00cfd2b",
   "metadata": {},
   "outputs": [
    {
     "data": {
      "text/plain": [
       "<Response [200]>"
      ]
     },
     "execution_count": 106,
     "metadata": {},
     "output_type": "execute_result"
    }
   ],
   "source": [
    "res = req.get(nueva_url)\n",
    "res"
   ]
  },
  {
   "cell_type": "code",
   "execution_count": 107,
   "id": "b09b6aed",
   "metadata": {},
   "outputs": [
    {
     "data": {
      "text/plain": [
       "[{'sha': '01ed6e93279474518ee87d7a1033801231786621',\n",
       "  'node_id': 'C_kwDOKa13FNoAKDAxZWQ2ZTkzMjc5NDc0NTE4ZWU4N2Q3YTEwMzM4MDEyMzE3ODY2MjE',\n",
       "  'commit': {'author': {'name': 'iudh',\n",
       "    'email': 'yeho@mail.com',\n",
       "    'date': '2023-10-02T08:08:37Z'},\n",
       "   'committer': {'name': 'iudh',\n",
       "    'email': 'yeho@mail.com',\n",
       "    'date': '2023-10-02T08:08:37Z'},\n",
       "   'message': 'init',\n",
       "   'tree': {'sha': '9775193f455a878f77c6a361b5ea933afcfea28f',\n",
       "    'url': 'https://api.github.com/repos/Ironhack-Data-Madrid-Octubre-2023/4.1-lab_api_scavengers_game/git/trees/9775193f455a878f77c6a361b5ea933afcfea28f'},\n",
       "   'url': 'https://api.github.com/repos/Ironhack-Data-Madrid-Octubre-2023/4.1-lab_api_scavengers_game/git/commits/01ed6e93279474518ee87d7a1033801231786621',\n",
       "   'comment_count': 0,\n",
       "   'verification': {'verified': False,\n",
       "    'reason': 'unsigned',\n",
       "    'signature': None,\n",
       "    'payload': None}},\n",
       "  'url': 'https://api.github.com/repos/Ironhack-Data-Madrid-Octubre-2023/4.1-lab_api_scavengers_game/commits/01ed6e93279474518ee87d7a1033801231786621',\n",
       "  'html_url': 'https://github.com/Ironhack-Data-Madrid-Octubre-2023/4.1-lab_api_scavengers_game/commit/01ed6e93279474518ee87d7a1033801231786621',\n",
       "  'comments_url': 'https://api.github.com/repos/Ironhack-Data-Madrid-Octubre-2023/4.1-lab_api_scavengers_game/commits/01ed6e93279474518ee87d7a1033801231786621/comments',\n",
       "  'author': {'login': 'YonatanRA',\n",
       "   'id': 47545401,\n",
       "   'node_id': 'MDQ6VXNlcjQ3NTQ1NDAx',\n",
       "   'avatar_url': 'https://avatars.githubusercontent.com/u/47545401?v=4',\n",
       "   'gravatar_id': '',\n",
       "   'url': 'https://api.github.com/users/YonatanRA',\n",
       "   'html_url': 'https://github.com/YonatanRA',\n",
       "   'followers_url': 'https://api.github.com/users/YonatanRA/followers',\n",
       "   'following_url': 'https://api.github.com/users/YonatanRA/following{/other_user}',\n",
       "   'gists_url': 'https://api.github.com/users/YonatanRA/gists{/gist_id}',\n",
       "   'starred_url': 'https://api.github.com/users/YonatanRA/starred{/owner}{/repo}',\n",
       "   'subscriptions_url': 'https://api.github.com/users/YonatanRA/subscriptions',\n",
       "   'organizations_url': 'https://api.github.com/users/YonatanRA/orgs',\n",
       "   'repos_url': 'https://api.github.com/users/YonatanRA/repos',\n",
       "   'events_url': 'https://api.github.com/users/YonatanRA/events{/privacy}',\n",
       "   'received_events_url': 'https://api.github.com/users/YonatanRA/received_events',\n",
       "   'type': 'User',\n",
       "   'site_admin': False},\n",
       "  'committer': {'login': 'YonatanRA',\n",
       "   'id': 47545401,\n",
       "   'node_id': 'MDQ6VXNlcjQ3NTQ1NDAx',\n",
       "   'avatar_url': 'https://avatars.githubusercontent.com/u/47545401?v=4',\n",
       "   'gravatar_id': '',\n",
       "   'url': 'https://api.github.com/users/YonatanRA',\n",
       "   'html_url': 'https://github.com/YonatanRA',\n",
       "   'followers_url': 'https://api.github.com/users/YonatanRA/followers',\n",
       "   'following_url': 'https://api.github.com/users/YonatanRA/following{/other_user}',\n",
       "   'gists_url': 'https://api.github.com/users/YonatanRA/gists{/gist_id}',\n",
       "   'starred_url': 'https://api.github.com/users/YonatanRA/starred{/owner}{/repo}',\n",
       "   'subscriptions_url': 'https://api.github.com/users/YonatanRA/subscriptions',\n",
       "   'organizations_url': 'https://api.github.com/users/YonatanRA/orgs',\n",
       "   'repos_url': 'https://api.github.com/users/YonatanRA/repos',\n",
       "   'events_url': 'https://api.github.com/users/YonatanRA/events{/privacy}',\n",
       "   'received_events_url': 'https://api.github.com/users/YonatanRA/received_events',\n",
       "   'type': 'User',\n",
       "   'site_admin': False},\n",
       "  'parents': []}]"
      ]
     },
     "execution_count": 107,
     "metadata": {},
     "output_type": "execute_result"
    }
   ],
   "source": [
    "lst = res.json()\n",
    "lst"
   ]
  },
  {
   "cell_type": "code",
   "execution_count": 108,
   "id": "fc4893cf",
   "metadata": {},
   "outputs": [
    {
     "data": {
      "text/plain": [
       "1"
      ]
     },
     "execution_count": 108,
     "metadata": {},
     "output_type": "execute_result"
    }
   ],
   "source": [
    "len(lst) # Number of commits: 1"
   ]
  }
 ],
 "metadata": {
  "kernelspec": {
   "display_name": "Python 3 (ipykernel)",
   "language": "python",
   "name": "python3"
  },
  "language_info": {
   "codemirror_mode": {
    "name": "ipython",
    "version": 3
   },
   "file_extension": ".py",
   "mimetype": "text/x-python",
   "name": "python",
   "nbconvert_exporter": "python",
   "pygments_lexer": "ipython3",
   "version": "3.11.4"
  },
  "toc": {
   "base_numbering": 1,
   "nav_menu": {},
   "number_sections": true,
   "sideBar": true,
   "skip_h1_title": true,
   "title_cell": "Table of Contents",
   "title_sidebar": "Contents",
   "toc_cell": false,
   "toc_position": {
    "height": "calc(100% - 180px)",
    "left": "10px",
    "top": "150px",
    "width": "288px"
   },
   "toc_section_display": true,
   "toc_window_display": true
  }
 },
 "nbformat": 4,
 "nbformat_minor": 5
}
