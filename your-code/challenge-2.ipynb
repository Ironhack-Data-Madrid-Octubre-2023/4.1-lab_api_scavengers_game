{
 "cells": [
  {
   "cell_type": "markdown",
   "id": "threaded-asbestos",
   "metadata": {},
   "source": [
    "# Challenge 2: Count Commits\n",
    "\n",
    "Count how many commits were made in the past week.\n",
    "\n",
    "Obtain all the commits made in the past week via API, which is a JSON array that contains multiple commit objects.\n",
    "\n",
    "Count how many commit objects are contained in the array."
   ]
  },
  {
   "cell_type": "markdown",
   "id": "norwegian-praise",
   "metadata": {},
   "source": [
    "⚠️ **Remember to limit your output before submission**."
   ]
  },
  {
   "cell_type": "code",
   "execution_count": 81,
   "id": "developing-printing",
   "metadata": {},
   "outputs": [],
   "source": [
    "import os\n",
    "import json\n",
    "import requests as req\n",
    "from dotenv import load_dotenv"
   ]
  },
  {
   "cell_type": "code",
   "execution_count": 82,
   "id": "creative-stable",
   "metadata": {},
   "outputs": [],
   "source": [
    "load_dotenv()\n",
    "github = os.getenv(\"token\")"
   ]
  },
  {
   "cell_type": "code",
   "execution_count": 83,
   "id": "ongoing-taylor",
   "metadata": {},
   "outputs": [],
   "source": [
    "with open('../token.txt') as file:\n",
    "    my_token = file.read()\n",
    "\n",
    "HEADER = {'Authorization': 'token ' + my_token } "
   ]
  },
  {
   "cell_type": "code",
   "execution_count": 84,
   "id": "93afbf56",
   "metadata": {},
   "outputs": [
    {
     "data": {
      "text/plain": [
       "<Response [200]>"
      ]
     },
     "execution_count": 84,
     "metadata": {},
     "output_type": "execute_result"
    }
   ],
   "source": [
    "url = 'https://api.github.com/repos/Ironhack-Data-Madrid-Octubre-2023/1.2-lab_list_comprehension'\n",
    "res = req.get(url, headers = HEADER)\n",
    "res"
   ]
  },
  {
   "cell_type": "code",
   "execution_count": 85,
   "id": "f1ed6fd8",
   "metadata": {},
   "outputs": [],
   "source": [
    "res_api = res.json()\n",
    "f_url = res_api['forks_url']\n",
    "f_res = req.get(f_url, headers = HEADER)\n",
    "f_res_api = f_res.json()"
   ]
  },
  {
   "cell_type": "code",
   "execution_count": 116,
   "id": "40a73d74",
   "metadata": {},
   "outputs": [],
   "source": [
    "commits = {'user': [], 'commits': []}\n",
    "\n",
    "counter = 0\n",
    "for i in range(len(f_res_api)):\n",
    "    commits['user'].append(f_res_api[i]['full_name'].replace('/1.2-lab_list_comprehension', ''))\n",
    "#     api = str(req.get(f_res_api[i]['url'], headers = HEADER).json())\n",
    "    lista = list((req.get(f_res_api[i]['url'], headers = HEADER).json()).items())\n",
    "    counts = lista.count('commits')\n",
    "    commits['commits'].append(counts)"
   ]
  },
  {
   "cell_type": "code",
   "execution_count": 117,
   "id": "5dda4cc5",
   "metadata": {},
   "outputs": [
    {
     "data": {
      "text/plain": [
       "{'user': ['abelnperez',\n",
       "  'illegalvoidundead',\n",
       "  'anderfer',\n",
       "  'ClaraGallardo_Clara',\n",
       "  'Carolina-MH',\n",
       "  'BorjaSilla_borja',\n",
       "  'NoeRoson',\n",
       "  'SaraPazo',\n",
       "  'yaninafontana84',\n",
       "  'karmelealonso',\n",
       "  'charlieciordia',\n",
       "  'Jacobomb',\n",
       "  'Ankourii',\n",
       "  'jvr0',\n",
       "  'Matimengot',\n",
       "  'maluque',\n",
       "  'josegzr',\n",
       "  'Blanca95_Blanca',\n",
       "  'cristianecarneiro',\n",
       "  'Christelllameda',\n",
       "  'mariasanzr',\n",
       "  'AlvaroYague',\n",
       "  'arromeral',\n",
       "  'EdgarAhmed',\n",
       "  'LeoBulcsu',\n",
       "  'inesgcalvo',\n",
       "  'luisgh87',\n",
       "  'jomariapc',\n",
       "  'alicialafuente',\n",
       "  'Lidiavf1912'],\n",
       " 'commits': [0,\n",
       "  0,\n",
       "  0,\n",
       "  0,\n",
       "  0,\n",
       "  0,\n",
       "  0,\n",
       "  0,\n",
       "  0,\n",
       "  0,\n",
       "  0,\n",
       "  0,\n",
       "  0,\n",
       "  0,\n",
       "  0,\n",
       "  0,\n",
       "  0,\n",
       "  0,\n",
       "  0,\n",
       "  0,\n",
       "  0,\n",
       "  0,\n",
       "  0,\n",
       "  0,\n",
       "  0,\n",
       "  0,\n",
       "  0,\n",
       "  0,\n",
       "  0,\n",
       "  0]}"
      ]
     },
     "execution_count": 117,
     "metadata": {},
     "output_type": "execute_result"
    }
   ],
   "source": [
    "commits"
   ]
  },
  {
   "cell_type": "code",
   "execution_count": null,
   "id": "702fabf3",
   "metadata": {},
   "outputs": [],
   "source": []
  }
 ],
 "metadata": {
  "kernelspec": {
   "display_name": "Python 3 (ipykernel)",
   "language": "python",
   "name": "python3"
  },
  "language_info": {
   "codemirror_mode": {
    "name": "ipython",
    "version": 3
   },
   "file_extension": ".py",
   "mimetype": "text/x-python",
   "name": "python",
   "nbconvert_exporter": "python",
   "pygments_lexer": "ipython3",
   "version": "3.11.4"
  },
  "toc": {
   "base_numbering": 1,
   "nav_menu": {},
   "number_sections": true,
   "sideBar": true,
   "skip_h1_title": true,
   "title_cell": "Table of Contents",
   "title_sidebar": "Contents",
   "toc_cell": false,
   "toc_position": {
    "height": "calc(100% - 180px)",
    "left": "10px",
    "top": "150px",
    "width": "288px"
   },
   "toc_section_display": true,
   "toc_window_display": true
  }
 },
 "nbformat": 4,
 "nbformat_minor": 5
}
