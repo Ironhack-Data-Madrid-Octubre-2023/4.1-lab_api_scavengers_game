{
 "cells": [
  {
   "cell_type": "markdown",
   "id": "threaded-asbestos",
   "metadata": {},
   "source": [
    "# Challenge 2: Count Commits\n",
    "\n",
    "Count how many commits were made in the past week.\n",
    "\n",
    "Obtain all the commits made in the past week via API, which is a JSON array that contains multiple commit objects.\n",
    "\n",
    "Count how many commit objects are contained in the array."
   ]
  },
  {
   "cell_type": "markdown",
   "id": "norwegian-praise",
   "metadata": {},
   "source": [
    "⚠️ **Remember to limit your output before submission**."
   ]
  },
  {
   "cell_type": "code",
   "execution_count": 94,
   "id": "188a58f5",
   "metadata": {},
   "outputs": [],
   "source": [
    "import json\n",
    "import requests as req"
   ]
  },
  {
   "cell_type": "code",
   "execution_count": 95,
   "id": "d1a87f12",
   "metadata": {},
   "outputs": [],
   "source": [
    "import os\n",
    "from dotenv import load_dotenv"
   ]
  },
  {
   "cell_type": "code",
   "execution_count": 96,
   "id": "926e38bc",
   "metadata": {},
   "outputs": [],
   "source": [
    "import datetime"
   ]
  },
  {
   "cell_type": "code",
   "execution_count": 97,
   "id": "9040ca8f",
   "metadata": {},
   "outputs": [
    {
     "data": {
      "text/plain": [
       "False"
      ]
     },
     "execution_count": 97,
     "metadata": {},
     "output_type": "execute_result"
    }
   ],
   "source": [
    "load_dotenv()"
   ]
  },
  {
   "cell_type": "code",
   "execution_count": 98,
   "id": "developing-printing",
   "metadata": {},
   "outputs": [
    {
     "data": {
      "text/plain": [
       "<Response [200]>"
      ]
     },
     "execution_count": 98,
     "metadata": {},
     "output_type": "execute_result"
    }
   ],
   "source": [
    "with open('password.txt', 'r') as file:\n",
    "    pass_ = file.read()\n",
    "HEADER = {'Authorization': 'token ' + pass_ }\n",
    "url = 'https://api.github.com/repos/Ironhack-Data-Madrid-Octubre-2023/4.1-lab_api_scavengers_game'\n",
    "res = req.get(url, headers=HEADER)\n",
    "res"
   ]
  },
  {
   "cell_type": "code",
   "execution_count": 99,
   "id": "e6ce94f2",
   "metadata": {},
   "outputs": [],
   "source": [
    "week_ago = datetime.datetime.now() - datetime.timedelta(weeks=1)\n",
    "params = {'since': week_ago.isoformat()}"
   ]
  },
  {
   "cell_type": "code",
   "execution_count": 100,
   "id": "31d3d2a0",
   "metadata": {},
   "outputs": [
    {
     "data": {
      "text/plain": [
       "<Response [200]>"
      ]
     },
     "execution_count": 100,
     "metadata": {},
     "output_type": "execute_result"
    }
   ],
   "source": [
    "res = req.get(url, params=params, headers=HEADER)\n",
    "res"
   ]
  },
  {
   "cell_type": "code",
   "execution_count": 101,
   "id": "a3068f91",
   "metadata": {},
   "outputs": [],
   "source": [
    "github = os.getenv(\"token\")"
   ]
  },
  {
   "cell_type": "code",
   "execution_count": 109,
   "id": "72ead572",
   "metadata": {},
   "outputs": [],
   "source": [
    "lst = res.json()\n",
    "#lst"
   ]
  },
  {
   "cell_type": "code",
   "execution_count": 103,
   "id": "e6ccdd56",
   "metadata": {},
   "outputs": [
    {
     "data": {
      "text/plain": [
       "dict_keys(['id', 'node_id', 'name', 'full_name', 'private', 'owner', 'html_url', 'description', 'fork', 'url', 'forks_url', 'keys_url', 'collaborators_url', 'teams_url', 'hooks_url', 'issue_events_url', 'events_url', 'assignees_url', 'branches_url', 'tags_url', 'blobs_url', 'git_tags_url', 'git_refs_url', 'trees_url', 'statuses_url', 'languages_url', 'stargazers_url', 'contributors_url', 'subscribers_url', 'subscription_url', 'commits_url', 'git_commits_url', 'comments_url', 'issue_comment_url', 'contents_url', 'compare_url', 'merges_url', 'archive_url', 'downloads_url', 'issues_url', 'pulls_url', 'milestones_url', 'notifications_url', 'labels_url', 'releases_url', 'deployments_url', 'created_at', 'updated_at', 'pushed_at', 'git_url', 'ssh_url', 'clone_url', 'svn_url', 'homepage', 'size', 'stargazers_count', 'watchers_count', 'language', 'has_issues', 'has_projects', 'has_downloads', 'has_wiki', 'has_pages', 'has_discussions', 'forks_count', 'mirror_url', 'archived', 'disabled', 'open_issues_count', 'license', 'allow_forking', 'is_template', 'web_commit_signoff_required', 'topics', 'visibility', 'forks', 'open_issues', 'watchers', 'default_branch', 'permissions', 'temp_clone_token', 'organization', 'network_count', 'subscribers_count'])"
      ]
     },
     "execution_count": 103,
     "metadata": {},
     "output_type": "execute_result"
    }
   ],
   "source": [
    "lst.keys()\n"
   ]
  },
  {
   "cell_type": "code",
   "execution_count": 104,
   "id": "4075eaf7",
   "metadata": {},
   "outputs": [
    {
     "data": {
      "text/plain": [
       "'https://api.github.com/repos/Ironhack-Data-Madrid-Octubre-2023/4.1-lab_api_scavengers_game/commits{/sha}'"
      ]
     },
     "execution_count": 104,
     "metadata": {},
     "output_type": "execute_result"
    }
   ],
   "source": [
    "lst['commits_url']\n"
   ]
  },
  {
   "cell_type": "code",
   "execution_count": 105,
   "id": "3ec808ab",
   "metadata": {},
   "outputs": [
    {
     "data": {
      "text/plain": [
       "'https://api.github.com/repos/Ironhack-Data-Madrid-Octubre-2023/4.1-lab_api_scavengers_game/commits'"
      ]
     },
     "execution_count": 105,
     "metadata": {},
     "output_type": "execute_result"
    }
   ],
   "source": [
    "nueva_url = 'https://api.github.com/repos/Ironhack-Data-Madrid-Octubre-2023/4.1-lab_api_scavengers_game/commits'\n",
    "nueva_url"
   ]
  },
  {
   "cell_type": "code",
   "execution_count": 106,
   "id": "3c281283",
   "metadata": {},
   "outputs": [
    {
     "data": {
      "text/plain": [
       "<Response [200]>"
      ]
     },
     "execution_count": 106,
     "metadata": {},
     "output_type": "execute_result"
    }
   ],
   "source": [
    "res = req.get(nueva_url)\n",
    "res"
   ]
  },
  {
   "cell_type": "code",
   "execution_count": 107,
   "id": "b6a939e7",
   "metadata": {},
   "outputs": [
    {
     "data": {
      "text/plain": [
       "[{'sha': '01ed6e93279474518ee87d7a1033801231786621',\n",
       "  'node_id': 'C_kwDOKa13FNoAKDAxZWQ2ZTkzMjc5NDc0NTE4ZWU4N2Q3YTEwMzM4MDEyMzE3ODY2MjE',\n",
       "  'commit': {'author': {'name': 'iudh',\n",
       "    'email': 'yeho@mail.com',\n",
       "    'date': '2023-10-02T08:08:37Z'},\n",
       "   'committer': {'name': 'iudh',\n",
       "    'email': 'yeho@mail.com',\n",
       "    'date': '2023-10-02T08:08:37Z'},\n",
       "   'message': 'init',\n",
       "   'tree': {'sha': '9775193f455a878f77c6a361b5ea933afcfea28f',\n",
       "    'url': 'https://api.github.com/repos/Ironhack-Data-Madrid-Octubre-2023/4.1-lab_api_scavengers_game/git/trees/9775193f455a878f77c6a361b5ea933afcfea28f'},\n",
       "   'url': 'https://api.github.com/repos/Ironhack-Data-Madrid-Octubre-2023/4.1-lab_api_scavengers_game/git/commits/01ed6e93279474518ee87d7a1033801231786621',\n",
       "   'comment_count': 0,\n",
       "   'verification': {'verified': False,\n",
       "    'reason': 'unsigned',\n",
       "    'signature': None,\n",
       "    'payload': None}},\n",
       "  'url': 'https://api.github.com/repos/Ironhack-Data-Madrid-Octubre-2023/4.1-lab_api_scavengers_game/commits/01ed6e93279474518ee87d7a1033801231786621',\n",
       "  'html_url': 'https://github.com/Ironhack-Data-Madrid-Octubre-2023/4.1-lab_api_scavengers_game/commit/01ed6e93279474518ee87d7a1033801231786621',\n",
       "  'comments_url': 'https://api.github.com/repos/Ironhack-Data-Madrid-Octubre-2023/4.1-lab_api_scavengers_game/commits/01ed6e93279474518ee87d7a1033801231786621/comments',\n",
       "  'author': {'login': 'YonatanRA',\n",
       "   'id': 47545401,\n",
       "   'node_id': 'MDQ6VXNlcjQ3NTQ1NDAx',\n",
       "   'avatar_url': 'https://avatars.githubusercontent.com/u/47545401?v=4',\n",
       "   'gravatar_id': '',\n",
       "   'url': 'https://api.github.com/users/YonatanRA',\n",
       "   'html_url': 'https://github.com/YonatanRA',\n",
       "   'followers_url': 'https://api.github.com/users/YonatanRA/followers',\n",
       "   'following_url': 'https://api.github.com/users/YonatanRA/following{/other_user}',\n",
       "   'gists_url': 'https://api.github.com/users/YonatanRA/gists{/gist_id}',\n",
       "   'starred_url': 'https://api.github.com/users/YonatanRA/starred{/owner}{/repo}',\n",
       "   'subscriptions_url': 'https://api.github.com/users/YonatanRA/subscriptions',\n",
       "   'organizations_url': 'https://api.github.com/users/YonatanRA/orgs',\n",
       "   'repos_url': 'https://api.github.com/users/YonatanRA/repos',\n",
       "   'events_url': 'https://api.github.com/users/YonatanRA/events{/privacy}',\n",
       "   'received_events_url': 'https://api.github.com/users/YonatanRA/received_events',\n",
       "   'type': 'User',\n",
       "   'site_admin': False},\n",
       "  'committer': {'login': 'YonatanRA',\n",
       "   'id': 47545401,\n",
       "   'node_id': 'MDQ6VXNlcjQ3NTQ1NDAx',\n",
       "   'avatar_url': 'https://avatars.githubusercontent.com/u/47545401?v=4',\n",
       "   'gravatar_id': '',\n",
       "   'url': 'https://api.github.com/users/YonatanRA',\n",
       "   'html_url': 'https://github.com/YonatanRA',\n",
       "   'followers_url': 'https://api.github.com/users/YonatanRA/followers',\n",
       "   'following_url': 'https://api.github.com/users/YonatanRA/following{/other_user}',\n",
       "   'gists_url': 'https://api.github.com/users/YonatanRA/gists{/gist_id}',\n",
       "   'starred_url': 'https://api.github.com/users/YonatanRA/starred{/owner}{/repo}',\n",
       "   'subscriptions_url': 'https://api.github.com/users/YonatanRA/subscriptions',\n",
       "   'organizations_url': 'https://api.github.com/users/YonatanRA/orgs',\n",
       "   'repos_url': 'https://api.github.com/users/YonatanRA/repos',\n",
       "   'events_url': 'https://api.github.com/users/YonatanRA/events{/privacy}',\n",
       "   'received_events_url': 'https://api.github.com/users/YonatanRA/received_events',\n",
       "   'type': 'User',\n",
       "   'site_admin': False},\n",
       "  'parents': []}]"
      ]
     },
     "execution_count": 107,
     "metadata": {},
     "output_type": "execute_result"
    }
   ],
   "source": [
    "lst = res.json()\n",
    "lst"
   ]
  },
  {
   "cell_type": "code",
   "execution_count": 108,
   "id": "7750965d",
   "metadata": {},
   "outputs": [
    {
     "data": {
      "text/plain": [
       "1"
      ]
     },
     "execution_count": 108,
     "metadata": {},
     "output_type": "execute_result"
    }
   ],
   "source": [
    "len(lst) # Number of commits: 1"
   ]
  }
 ],
 "metadata": {
  "kernelspec": {
   "display_name": "Python 3 (ipykernel)",
   "language": "python",
   "name": "python3"
  },
  "language_info": {
   "codemirror_mode": {
    "name": "ipython",
    "version": 3
   },
   "file_extension": ".py",
   "mimetype": "text/x-python",
   "name": "python",
   "nbconvert_exporter": "python",
   "pygments_lexer": "ipython3",
   "version": "3.11.4"
  },
  "toc": {
   "base_numbering": 1,
   "nav_menu": {},
   "number_sections": true,
   "sideBar": true,
   "skip_h1_title": true,
   "title_cell": "Table of Contents",
   "title_sidebar": "Contents",
   "toc_cell": false,
   "toc_position": {
    "height": "calc(100% - 180px)",
    "left": "10px",
    "top": "150px",
    "width": "288px"
   },
   "toc_section_display": true,
   "toc_window_display": true
  }
 },
 "nbformat": 4,
 "nbformat_minor": 5
}
