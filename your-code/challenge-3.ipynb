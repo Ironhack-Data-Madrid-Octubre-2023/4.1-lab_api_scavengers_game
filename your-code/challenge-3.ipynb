{
 "cells": [
  {
   "cell_type": "markdown",
   "id": "defensive-clock",
   "metadata": {},
   "source": [
    "# Challenge 3: Hidden Cold Joke\n",
    "\n",
    "Using Python, call Github API to find out the cold joke contained in the 24 secret files in the following repo:\n",
    "\n",
    "https://github.com/ironhack-datalabs/scavenger\n",
    "\n",
    "The filenames of the secret files contain .scavengerhunt and they are scattered in different directories of this repo. The secret files are named from .0001.scavengerhunt to .0024.scavengerhunt. They are scattered randomly throughout this repo. You need to search for these files by calling the Github API, not searching the local files on your computer.\n",
    "\n",
    "\n",
    "After you find out the secrete files:\n",
    "\n",
    "Sort the filenames ascendingly.\n",
    "\n",
    "Read the content of each secret files into an array of strings.\n",
    "\n",
    "Concatenate the strings in the array separating each two with a whitespace.\n",
    "\n",
    "Print out the joke."
   ]
  },
  {
   "cell_type": "markdown",
   "id": "universal-length",
   "metadata": {},
   "source": [
    "⚠️ **Remember to limit your output before submission**."
   ]
  },
  {
   "cell_type": "code",
   "execution_count": 1,
   "id": "toxic-trading",
   "metadata": {},
   "outputs": [],
   "source": [
    "# Your code\n",
    "\n",
    "import json\n",
    "import requests \n",
    "import os\n",
    "from dotenv import load_dotenv\n",
    "from datetime import datetime, timedelta"
   ]
  },
  {
   "cell_type": "code",
   "execution_count": 5,
   "id": "e7078e47",
   "metadata": {},
   "outputs": [
    {
     "data": {
      "text/plain": [
       "<Response [200]>"
      ]
     },
     "execution_count": 5,
     "metadata": {},
     "output_type": "execute_result"
    }
   ],
   "source": [
    "with open(\"C:/Users/luiso/IRONHACK/4.1-lab_api_scavengers_game/tk.txt\",\"r\") as file:\n",
    "    token = file.read().strip()\n",
    "\n",
    "headers = {\"Authorization\": f\"token {token}\"}\n",
    "\n",
    "url = 'https://api.github.com/repos/ironhack-datalabs/scavenger/contents?extension:scavengerhunt'\n",
    "response = requests.get(url, headers=headers)\n",
    "response"
   ]
  },
  {
   "cell_type": "code",
   "execution_count": 7,
   "id": "07e7d71c",
   "metadata": {},
   "outputs": [],
   "source": [
    "resp = response.json()"
   ]
  },
  {
   "cell_type": "code",
   "execution_count": 8,
   "id": "69c4d322",
   "metadata": {},
   "outputs": [
    {
     "data": {
      "text/plain": [
       "{'name': '15024',\n",
       " 'path': '15024',\n",
       " 'sha': '2945e51c87ad5da893c954afcf092f06343bbb7d',\n",
       " 'size': 0,\n",
       " 'url': 'https://api.github.com/repos/ironhack-datalabs/scavenger/contents/15024?ref=master',\n",
       " 'html_url': 'https://github.com/ironhack-datalabs/scavenger/tree/master/15024',\n",
       " 'git_url': 'https://api.github.com/repos/ironhack-datalabs/scavenger/git/trees/2945e51c87ad5da893c954afcf092f06343bbb7d',\n",
       " 'download_url': None,\n",
       " 'type': 'dir',\n",
       " '_links': {'self': 'https://api.github.com/repos/ironhack-datalabs/scavenger/contents/15024?ref=master',\n",
       "  'git': 'https://api.github.com/repos/ironhack-datalabs/scavenger/git/trees/2945e51c87ad5da893c954afcf092f06343bbb7d',\n",
       "  'html': 'https://github.com/ironhack-datalabs/scavenger/tree/master/15024'}}"
      ]
     },
     "execution_count": 8,
     "metadata": {},
     "output_type": "execute_result"
    }
   ],
   "source": [
    "resp[1]"
   ]
  },
  {
   "cell_type": "code",
   "execution_count": 9,
   "metadata": {},
   "outputs": [
    {
     "data": {
      "text/plain": [
       "[{'name': '.0006.scavengerhunt',\n",
       "  'path': '15024/.0006.scavengerhunt',\n",
       "  'sha': '1c9064284a24b3486015eafdb391b141c27ada2b',\n",
       "  'size': 3,\n",
       "  'url': 'https://api.github.com/repos/ironhack-datalabs/scavenger/contents/15024/.0006.scavengerhunt?ref=master',\n",
       "  'html_url': 'https://github.com/ironhack-datalabs/scavenger/blob/master/15024/.0006.scavengerhunt',\n",
       "  'git_url': 'https://api.github.com/repos/ironhack-datalabs/scavenger/git/blobs/1c9064284a24b3486015eafdb391b141c27ada2b',\n",
       "  'download_url': 'https://raw.githubusercontent.com/ironhack-datalabs/scavenger/master/15024/.0006.scavengerhunt',\n",
       "  'type': 'file',\n",
       "  '_links': {'self': 'https://api.github.com/repos/ironhack-datalabs/scavenger/contents/15024/.0006.scavengerhunt?ref=master',\n",
       "   'git': 'https://api.github.com/repos/ironhack-datalabs/scavenger/git/blobs/1c9064284a24b3486015eafdb391b141c27ada2b',\n",
       "   'html': 'https://github.com/ironhack-datalabs/scavenger/blob/master/15024/.0006.scavengerhunt'}},\n",
       " {'name': '40',\n",
       "  'path': '15024/40',\n",
       "  'sha': 'e69de29bb2d1d6434b8b29ae775ad8c2e48c5391',\n",
       "  'size': 0,\n",
       "  'url': 'https://api.github.com/repos/ironhack-datalabs/scavenger/contents/15024/40?ref=master',\n",
       "  'html_url': 'https://github.com/ironhack-datalabs/scavenger/blob/master/15024/40',\n",
       "  'git_url': 'https://api.github.com/repos/ironhack-datalabs/scavenger/git/blobs/e69de29bb2d1d6434b8b29ae775ad8c2e48c5391',\n",
       "  'download_url': 'https://raw.githubusercontent.com/ironhack-datalabs/scavenger/master/15024/40',\n",
       "  'type': 'file',\n",
       "  '_links': {'self': 'https://api.github.com/repos/ironhack-datalabs/scavenger/contents/15024/40?ref=master',\n",
       "   'git': 'https://api.github.com/repos/ironhack-datalabs/scavenger/git/blobs/e69de29bb2d1d6434b8b29ae775ad8c2e48c5391',\n",
       "   'html': 'https://github.com/ironhack-datalabs/scavenger/blob/master/15024/40'}},\n",
       " {'name': '74',\n",
       "  'path': '15024/74',\n",
       "  'sha': 'e69de29bb2d1d6434b8b29ae775ad8c2e48c5391',\n",
       "  'size': 0,\n",
       "  'url': 'https://api.github.com/repos/ironhack-datalabs/scavenger/contents/15024/74?ref=master',\n",
       "  'html_url': 'https://github.com/ironhack-datalabs/scavenger/blob/master/15024/74',\n",
       "  'git_url': 'https://api.github.com/repos/ironhack-datalabs/scavenger/git/blobs/e69de29bb2d1d6434b8b29ae775ad8c2e48c5391',\n",
       "  'download_url': 'https://raw.githubusercontent.com/ironhack-datalabs/scavenger/master/15024/74',\n",
       "  'type': 'file',\n",
       "  '_links': {'self': 'https://api.github.com/repos/ironhack-datalabs/scavenger/contents/15024/74?ref=master',\n",
       "   'git': 'https://api.github.com/repos/ironhack-datalabs/scavenger/git/blobs/e69de29bb2d1d6434b8b29ae775ad8c2e48c5391',\n",
       "   'html': 'https://github.com/ironhack-datalabs/scavenger/blob/master/15024/74'}},\n",
       " {'name': '99',\n",
       "  'path': '15024/99',\n",
       "  'sha': 'e69de29bb2d1d6434b8b29ae775ad8c2e48c5391',\n",
       "  'size': 0,\n",
       "  'url': 'https://api.github.com/repos/ironhack-datalabs/scavenger/contents/15024/99?ref=master',\n",
       "  'html_url': 'https://github.com/ironhack-datalabs/scavenger/blob/master/15024/99',\n",
       "  'git_url': 'https://api.github.com/repos/ironhack-datalabs/scavenger/git/blobs/e69de29bb2d1d6434b8b29ae775ad8c2e48c5391',\n",
       "  'download_url': 'https://raw.githubusercontent.com/ironhack-datalabs/scavenger/master/15024/99',\n",
       "  'type': 'file',\n",
       "  '_links': {'self': 'https://api.github.com/repos/ironhack-datalabs/scavenger/contents/15024/99?ref=master',\n",
       "   'git': 'https://api.github.com/repos/ironhack-datalabs/scavenger/git/blobs/e69de29bb2d1d6434b8b29ae775ad8c2e48c5391',\n",
       "   'html': 'https://github.com/ironhack-datalabs/scavenger/blob/master/15024/99'}}]"
      ]
     },
     "execution_count": 9,
     "metadata": {},
     "output_type": "execute_result"
    }
   ],
   "source": [
    "requests.get(resp[1]['url']).json()"
   ]
  },
  {
   "cell_type": "code",
   "execution_count": 10,
   "metadata": {},
   "outputs": [
    {
     "data": {
      "text/plain": [
       "'https://raw.githubusercontent.com/ironhack-datalabs/scavenger/master/15024/.0006.scavengerhunt'"
      ]
     },
     "execution_count": 10,
     "metadata": {},
     "output_type": "execute_result"
    }
   ],
   "source": [
    "requests.get(resp[1]['url']).json()[0]['download_url']"
   ]
  },
  {
   "cell_type": "code",
   "execution_count": 12,
   "metadata": {},
   "outputs": [],
   "source": [
    "nueva_url = requests.get(resp[1]['url']).json()[0]['html_url']"
   ]
  },
  {
   "cell_type": "code",
   "execution_count": 13,
   "id": "a2cbc0c4",
   "metadata": {},
   "outputs": [
    {
     "data": {
      "text/plain": [
       "'{\"payload\":{\"allShortcutsEnabled\":false,\"fileTree\":{\"15024\":{\"items\":[{\"name\":\".0006.scavengerhunt\",\"path\":\"15024/.0006.scavengerhunt\",\"contentType\":\"file\"},{\"name\":\"40\",\"path\":\"15024/40\",\"contentType\":\"file\"},{\"name\":\"74\",\"path\":\"15024/74\",\"contentType\":\"file\"},{\"name\":\"99\",\"path\":\"15024/99\",\"contentType\":\"file\"}],\"totalCount\":4},\"\":{\"items\":[{\"name\":\"15024\",\"path\":\"15024\",\"contentType\":\"directory\"},{\"name\":\"15534\",\"path\":\"15534\",\"contentType\":\"directory\"},{\"name\":\"17020\",\"path\":\"17020\",\"contentType\":\"directory\"},{\"name\":\"30351\",\"path\":\"30351\",\"contentType\":\"directory\"},{\"name\":\"40303\",\"path\":\"40303\",\"contentType\":\"directory\"},{\"name\":\"44639\",\"path\":\"44639\",\"contentType\":\"directory\"},{\"name\":\"45525\",\"path\":\"45525\",\"contentType\":\"directory\"},{\"name\":\"47222\",\"path\":\"47222\",\"contentType\":\"directory\"},{\"name\":\"47830\",\"path\":\"47830\",\"contentType\":\"directory\"},{\"name\":\"49418\",\"path\":\"49418\",\"contentType\":\"directory\"},{\"name\":\"50896\",\"path\":\"50896\",\"contentType\":\"directory\"},{\"name\":\"55417\",\"path\":\"55417\",\"contentType\":\"directory\"},{\"name\":\"55685\",\"path\":\"55685\",\"contentType\":\"directory\"},{\"name\":\"60224\",\"path\":\"60224\",\"contentType\":\"directory\"},{\"name\":\"64880\",\"path\":\"64880\",\"contentType\":\"directory\"},{\"name\":\"66032\",\"path\":\"66032\",\"contentType\":\"directory\"},{\"name\":\"68848\",\"path\":\"68848\",\"contentType\":\"directory\"},{\"name\":\"70751\",\"path\":\"70751\",\"contentType\":\"directory\"},{\"name\":\"70985\",\"path\":\"70985\",\"contentType\":\"directory\"},{\"name\":\"88596\",\"path\":\"88596\",\"contentType\":\"directory\"},{\"name\":\"89046\",\"path\":\"89046\",\"contentType\":\"directory\"},{\"name\":\"89338\",\"path\":\"89338\",\"contentType\":\"directory\"},{\"name\":\"91701\",\"path\":\"91701\",\"contentType\":\"directory\"},{\"name\":\"97881\",\"path\":\"97881\",\"contentType\":\"directory\"},{\"name\":\"98750\",\"path\":\"98750\",\"contentType\":\"directory\"},{\"name\":\".gitignore\",\"path\":\".gitignore\",\"contentType\":\"file\"}],\"totalCount\":26}},\"fileTreeProcessingTime\":10.782437,\"foldersToFetch\":[],\"reducedMotionEnabled\":null,\"repo\":{\"id\":162375181,\"defaultBranch\":\"master\",\"name\":\"scavenger\",\"ownerLogin\":\"ironhack-datalabs\",\"currentUserCanPush\":false,\"isFork\":false,\"isEmpty\":false,\"createdAt\":\"2018-12-19T03:01:30.000Z\",\"ownerAvatar\":\"https://avatars.githubusercontent.com/u/44225188?v=4\",\"public\":true,\"private\":false,\"isOrgOwned\":true},\"symbolsExpanded\":false,\"treeExpanded\":true,\"refInfo\":{\"name\":\"master\",\"listCacheKey\":\"v0:1545188492.0\",\"canEdit\":false,\"refType\":\"branch\",\"currentOid\":\"9308ccc8a4c34c5e3a991ee815222a9691c32476\"},\"path\":\"15024/.0006.scavengerhunt\",\"currentUser\":null,\"blob\":{\"rawLines\":[\"of\"],\"stylingDirectives\":[[]],\"csv\":null,\"csvError\":null,\"dependabotInfo\":{\"showConfigurationBanner\":false,\"configFilePath\":null,\"networkDependabotPath\":\"/ironhack-datalabs/scavenger/network/updates\",\"dismissConfigurationNoticePath\":\"/settings/dismiss-notice/dependabot_configuration_notice\",\"configurationNoticeDismissed\":null,\"repoAlertsPath\":\"/ironhack-datalabs/scavenger/security/dependabot\",\"repoSecurityAndAnalysisPath\":\"/ironhack-datalabs/scavenger/settings/security_analysis\",\"repoOwnerIsOrg\":true,\"currentUserCanAdminRepo\":false},\"displayName\":\".0006.scavengerhunt\",\"displayUrl\":\"https://github.com/ironhack-datalabs/scavenger/blob/master/15024/.0006.scavengerhunt?raw=true\",\"headerInfo\":{\"blobSize\":\"3 Bytes\",\"deleteInfo\":{\"deleteTooltip\":\"You must be signed in to make or propose changes\"},\"editInfo\":{\"editTooltip\":\"You must be signed in to make or propose changes\"},\"ghDesktopPath\":\"https://desktop.github.com\",\"gitLfsPath\":null,\"onBranch\":true,\"shortPath\":\"1c90642\",\"siteNavLoginPath\":\"/login?return_to=https%3A%2F%2Fgithub.com%2Fironhack-datalabs%2Fscavenger%2Fblob%2Fmaster%2F15024%2F.0006.scavengerhunt\",\"isCSV\":false,\"isRichtext\":false,\"toc\":null,\"lineInfo\":{\"truncatedLoc\":\"1\",\"truncatedSloc\":\"1\"},\"mode\":\"file\"},\"image\":false,\"isCodeownersFile\":null,\"isPlain\":false,\"isValidLegacyIssueTemplate\":false,\"issueTemplateHelpUrl\":\"https://docs.github.com/articles/about-issue-and-pull-request-templates\",\"issueTemplate\":null,\"discussionTemplate\":null,\"language\":null,\"languageID\":null,\"large\":false,\"loggedIn\":false,\"newDiscussionPath\":\"/ironhack-datalabs/scavenger/discussions/new\",\"newIssuePath\":\"/ironhack-datalabs/scavenger/issues/new\",\"planSupportInfo\":{\"repoIsFork\":null,\"repoOwnedByCurrentUser\":null,\"requestFullPath\":\"/ironhack-datalabs/scavenger/blob/master/15024/.0006.scavengerhunt\",\"showFreeOrgGatedFeatureMessage\":null,\"showPlanSupportBanner\":null,\"upgradeDataAttributes\":null,\"upgradePath\":null},\"publishBannersInfo\":{\"dismissActionNoticePath\":\"/settings/dismiss-notice/publish_action_from_dockerfile\",\"dismissStackNoticePath\":\"/settings/dismiss-notice/publish_stack_from_file\",\"releasePath\":\"/ironhack-datalabs/scavenger/releases/new?marketplace=true\",\"showPublishActionBanner\":false,\"showPublishStackBanner\":false},\"rawBlobUrl\":\"https://github.com/ironhack-datalabs/scavenger/raw/master/15024/.0006.scavengerhunt\",\"renderImageOrRaw\":false,\"richText\":null,\"renderedFileInfo\":null,\"shortPath\":null,\"tabSize\":8,\"topBannersInfo\":{\"overridingGlobalFundingFile\":false,\"globalPreferredFundingPath\":null,\"repoOwner\":\"ironhack-datalabs\",\"repoName\":\"scavenger\",\"showInvalidCitationWarning\":false,\"citationHelpUrl\":\"https://docs.github.com/en/github/creating-cloning-and-archiving-repositories/creating-a-repository-on-github/about-citation-files\",\"showDependabotConfigurationBanner\":false,\"actionsOnboardingTip\":null},\"truncated\":false,\"viewable\":true,\"workflowRedirectUrl\":null,\"symbols\":{\"timedOut\":false,\"notAnalyzed\":true,\"symbols\":[]}},\"copilotInfo\":null,\"copilotAccessAllowed\":false,\"csrf_tokens\":{\"/ironhack-datalabs/scavenger/branches\":{\"post\":\"CFYeK2uiY0p7un2kDA1e6NsxjuLpR9UwyjSSSw6CwNc7dBfoQgr4a82ZTfDpg6dsdS_yYxFrurabXtvByn5DLg\"},\"/repos/preferences\":{\"post\":\"RudVjg59UIxNjLnADK3gKEVHmcNo0bGDp15ptXQVdM_Yrh1oONZ96T6OzfL3P5qFGUa0YwK_DghLDN0t0CRHyQ\"}}},\"title\":\"scavenger/15024/.0006.scavengerhunt at master · ironhack-datalabs/scavenger\"}'"
      ]
     },
     "execution_count": 13,
     "metadata": {},
     "output_type": "execute_result"
    }
   ],
   "source": [
    "requests.get(nueva_url).text"
   ]
  },
  {
   "cell_type": "code",
   "execution_count": 15,
   "metadata": {},
   "outputs": [
    {
     "data": {
      "text/plain": [
       "{'name': '.0008.scavengerhunt',\n",
       " 'path': '15534/.0008.scavengerhunt',\n",
       " 'sha': 'e351fb73264581ce26504b97ef07daea35116f32',\n",
       " 'size': 6,\n",
       " 'url': 'https://api.github.com/repos/ironhack-datalabs/scavenger/contents/15534/.0008.scavengerhunt?ref=master',\n",
       " 'html_url': 'https://github.com/ironhack-datalabs/scavenger/blob/master/15534/.0008.scavengerhunt',\n",
       " 'git_url': 'https://api.github.com/repos/ironhack-datalabs/scavenger/git/blobs/e351fb73264581ce26504b97ef07daea35116f32',\n",
       " 'download_url': 'https://raw.githubusercontent.com/ironhack-datalabs/scavenger/master/15534/.0008.scavengerhunt',\n",
       " 'type': 'file',\n",
       " '_links': {'self': 'https://api.github.com/repos/ironhack-datalabs/scavenger/contents/15534/.0008.scavengerhunt?ref=master',\n",
       "  'git': 'https://api.github.com/repos/ironhack-datalabs/scavenger/git/blobs/e351fb73264581ce26504b97ef07daea35116f32',\n",
       "  'html': 'https://github.com/ironhack-datalabs/scavenger/blob/master/15534/.0008.scavengerhunt'}}"
      ]
     },
     "execution_count": 15,
     "metadata": {},
     "output_type": "execute_result"
    }
   ],
   "source": [
    "requests.get(resp[2]['url']).json()[0]"
   ]
  },
  {
   "cell_type": "code",
   "execution_count": 16,
   "metadata": {},
   "outputs": [
    {
     "name": "stdout",
     "output_type": "stream",
     "text": [
      "{'name': '.gitignore', 'path': '.gitignore', 'sha': 'e43b0f988953ae3a84b00331d0ccf5f7d51cb3cf', 'size': 10, 'url': 'https://api.github.com/repos/ironhack-datalabs/scavenger/contents/.gitignore?ref=master', 'html_url': 'https://github.com/ironhack-datalabs/scavenger/blob/master/.gitignore', 'git_url': 'https://api.github.com/repos/ironhack-datalabs/scavenger/git/blobs/e43b0f988953ae3a84b00331d0ccf5f7d51cb3cf', 'download_url': 'https://raw.githubusercontent.com/ironhack-datalabs/scavenger/master/.gitignore', 'type': 'file', '_links': {'self': 'https://api.github.com/repos/ironhack-datalabs/scavenger/contents/.gitignore?ref=master', 'git': 'https://api.github.com/repos/ironhack-datalabs/scavenger/git/blobs/e43b0f988953ae3a84b00331d0ccf5f7d51cb3cf', 'html': 'https://github.com/ironhack-datalabs/scavenger/blob/master/.gitignore'}}\n"
     ]
    }
   ],
   "source": [
    "raw_data = []\n",
    "\n",
    "\n",
    "for e in resp:\n",
    "    \n",
    "    try:\n",
    "        \n",
    "        data = requests.get(e['url']).json()[0]\n",
    "        \n",
    "        raw_data.append({'name': data['name'],\n",
    "                         'url': data['download_url']})\n",
    "        \n",
    "        \n",
    "    except:\n",
    "        print(e)"
   ]
  },
  {
   "cell_type": "code",
   "execution_count": 17,
   "metadata": {},
   "outputs": [
    {
     "data": {
      "text/plain": [
       "[{'name': '.0006.scavengerhunt',\n",
       "  'url': 'https://raw.githubusercontent.com/ironhack-datalabs/scavenger/master/15024/.0006.scavengerhunt'},\n",
       " {'name': '.0008.scavengerhunt',\n",
       "  'url': 'https://raw.githubusercontent.com/ironhack-datalabs/scavenger/master/15534/.0008.scavengerhunt'},\n",
       " {'name': '.0007.scavengerhunt',\n",
       "  'url': 'https://raw.githubusercontent.com/ironhack-datalabs/scavenger/master/17020/.0007.scavengerhunt'},\n",
       " {'name': '.0021.scavengerhunt',\n",
       "  'url': 'https://raw.githubusercontent.com/ironhack-datalabs/scavenger/master/30351/.0021.scavengerhunt'},\n",
       " {'name': '.0022.scavengerhunt',\n",
       "  'url': 'https://raw.githubusercontent.com/ironhack-datalabs/scavenger/master/40303/.0022.scavengerhunt'},\n",
       " {'name': '.0005.scavengerhunt',\n",
       "  'url': 'https://raw.githubusercontent.com/ironhack-datalabs/scavenger/master/44639/.0005.scavengerhunt'},\n",
       " {'name': '.0018.scavengerhunt',\n",
       "  'url': 'https://raw.githubusercontent.com/ironhack-datalabs/scavenger/master/45525/.0018.scavengerhunt'},\n",
       " {'name': '.0016.scavengerhunt',\n",
       "  'url': 'https://raw.githubusercontent.com/ironhack-datalabs/scavenger/master/47222/.0016.scavengerhunt'},\n",
       " {'name': '.0010.scavengerhunt',\n",
       "  'url': 'https://raw.githubusercontent.com/ironhack-datalabs/scavenger/master/47830/.0010.scavengerhunt'},\n",
       " {'name': '.0014.scavengerhunt',\n",
       "  'url': 'https://raw.githubusercontent.com/ironhack-datalabs/scavenger/master/49418/.0014.scavengerhunt'},\n",
       " {'name': '.0011.scavengerhunt',\n",
       "  'url': 'https://raw.githubusercontent.com/ironhack-datalabs/scavenger/master/50896/.0011.scavengerhunt'},\n",
       " {'name': '.0023.scavengerhunt',\n",
       "  'url': 'https://raw.githubusercontent.com/ironhack-datalabs/scavenger/master/55417/.0023.scavengerhunt'},\n",
       " {'name': '.0020.scavengerhunt',\n",
       "  'url': 'https://raw.githubusercontent.com/ironhack-datalabs/scavenger/master/55685/.0020.scavengerhunt'},\n",
       " {'name': '.0003.scavengerhunt',\n",
       "  'url': 'https://raw.githubusercontent.com/ironhack-datalabs/scavenger/master/60224/.0003.scavengerhunt'},\n",
       " {'name': '3',\n",
       "  'url': 'https://raw.githubusercontent.com/ironhack-datalabs/scavenger/master/64880/3'},\n",
       " {'name': '28',\n",
       "  'url': 'https://raw.githubusercontent.com/ironhack-datalabs/scavenger/master/66032/28'},\n",
       " {'name': '.0004.scavengerhunt',\n",
       "  'url': 'https://raw.githubusercontent.com/ironhack-datalabs/scavenger/master/68848/.0004.scavengerhunt'},\n",
       " {'name': '.0019.scavengerhunt',\n",
       "  'url': 'https://raw.githubusercontent.com/ironhack-datalabs/scavenger/master/70751/.0019.scavengerhunt'},\n",
       " {'name': '.0017.scavengerhunt',\n",
       "  'url': 'https://raw.githubusercontent.com/ironhack-datalabs/scavenger/master/70985/.0017.scavengerhunt'},\n",
       " {'name': '.0002.scavengerhunt',\n",
       "  'url': 'https://raw.githubusercontent.com/ironhack-datalabs/scavenger/master/88596/.0002.scavengerhunt'},\n",
       " {'name': '64',\n",
       "  'url': 'https://raw.githubusercontent.com/ironhack-datalabs/scavenger/master/89046/64'},\n",
       " {'name': '.0013.scavengerhunt',\n",
       "  'url': 'https://raw.githubusercontent.com/ironhack-datalabs/scavenger/master/89338/.0013.scavengerhunt'},\n",
       " {'name': '.0015.scavengerhunt',\n",
       "  'url': 'https://raw.githubusercontent.com/ironhack-datalabs/scavenger/master/91701/.0015.scavengerhunt'},\n",
       " {'name': '.0009.scavengerhunt',\n",
       "  'url': 'https://raw.githubusercontent.com/ironhack-datalabs/scavenger/master/97881/.0009.scavengerhunt'},\n",
       " {'name': '.0001.scavengerhunt',\n",
       "  'url': 'https://raw.githubusercontent.com/ironhack-datalabs/scavenger/master/98750/.0001.scavengerhunt'}]"
      ]
     },
     "execution_count": 17,
     "metadata": {},
     "output_type": "execute_result"
    }
   ],
   "source": [
    "raw_data"
   ]
  },
  {
   "cell_type": "code",
   "execution_count": 18,
   "metadata": {},
   "outputs": [],
   "source": [
    "raw_data = sorted(raw_data, key=lambda x: x['name'])"
   ]
  },
  {
   "cell_type": "code",
   "execution_count": 20,
   "metadata": {},
   "outputs": [],
   "source": [
    "respuesta = ''\n",
    "\n",
    "\n",
    "for e in raw_data:\n",
    "    \n",
    "    resp = requests.get(e['url']).text\n",
    "    \n",
    "    respuesta+=resp"
   ]
  },
  {
   "cell_type": "code",
   "execution_count": 21,
   "metadata": {},
   "outputs": [
    {
     "name": "stdout",
     "output_type": "stream",
     "text": [
      "In\n",
      "data\n",
      "science,\n",
      "80\n",
      "percent\n",
      "of\n",
      "time\n",
      "spent\n",
      "is\n",
      "preparing\n",
      "data,\n",
      "percent\n",
      "of\n",
      "time\n",
      "is\n",
      "spent\n",
      "complaining\n",
      "about\n",
      "the\n",
      "need\n",
      "to\n",
      "prepare\n",
      "\n"
     ]
    }
   ],
   "source": [
    "\n",
    "print(respuesta)"
   ]
  },
  {
   "cell_type": "code",
   "execution_count": 2,
   "id": "static-stopping",
   "metadata": {},
   "outputs": [],
   "source": [
    "# Example: print(variable[:10]) "
   ]
  }
 ],
 "metadata": {
  "kernelspec": {
   "display_name": "Python 3",
   "language": "python",
   "name": "python3"
  },
  "language_info": {
   "codemirror_mode": {
    "name": "ipython",
    "version": 3
   },
   "file_extension": ".py",
   "mimetype": "text/x-python",
   "name": "python",
   "nbconvert_exporter": "python",
   "pygments_lexer": "ipython3",
   "version": "3.10.9"
  },
  "toc": {
   "base_numbering": 1,
   "nav_menu": {},
   "number_sections": true,
   "sideBar": true,
   "skip_h1_title": true,
   "title_cell": "Table of Contents",
   "title_sidebar": "Contents",
   "toc_cell": false,
   "toc_position": {},
   "toc_section_display": true,
   "toc_window_display": true
  }
 },
 "nbformat": 4,
 "nbformat_minor": 5
}
