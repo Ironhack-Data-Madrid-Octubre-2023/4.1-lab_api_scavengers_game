{
 "cells": [
  {
   "cell_type": "markdown",
   "id": "defensive-clock",
   "metadata": {},
   "source": [
    "# Challenge 3: Hidden Cold Joke\n",
    "\n",
    "Using Python, call Github API to find out the cold joke contained in the 24 secret files in the following repo:\n",
    "\n",
    "https://github.com/ironhack-datalabs/scavenger\n",
    "\n",
    "The filenames of the secret files contain .scavengerhunt and they are scattered in different directories of this repo. The secret files are named from .0001.scavengerhunt to .0024.scavengerhunt. They are scattered randomly throughout this repo. You need to search for these files by calling the Github API, not searching the local files on your computer.\n",
    "\n",
    "\n",
    "After you find out the secrete files:\n",
    "\n",
    "Sort the filenames ascendingly.\n",
    "\n",
    "Read the content of each secret files into an array of strings.\n",
    "\n",
    "Concatenate the strings in the array separating each two with a whitespace.\n",
    "\n",
    "Print out the joke."
   ]
  },
  {
   "cell_type": "markdown",
   "id": "universal-length",
   "metadata": {},
   "source": [
    "⚠️ **Remember to limit your output before submission**."
   ]
  },
  {
   "cell_type": "code",
   "execution_count": 1,
   "id": "toxic-trading",
   "metadata": {},
   "outputs": [],
   "source": [
    "import requests as req\n",
    "from datetime import datetime, timedelta\n",
    "import json\n",
    "import os\n",
    "from dotenv import load_dotenv"
   ]
  },
  {
   "cell_type": "code",
   "execution_count": 13,
   "id": "static-stopping",
   "metadata": {},
   "outputs": [
    {
     "data": {
      "text/plain": [
       "<Response [200]>"
      ]
     },
     "execution_count": 13,
     "metadata": {},
     "output_type": "execute_result"
    }
   ],
   "source": [
    "with open('password.txt', 'r') as file:\n",
    "    token = file.read().strip()\n",
    "    \n",
    "headers = {\"Authorization\": f\"token {token}\"}\n",
    "\n",
    "repo_url = \"https://api.github.com/repos/ironhack-datalabs/scavenger/contents\"\n",
    "\n",
    "response = req.get(repo_url, headers=headers)\n",
    "response"
   ]
  },
  {
   "cell_type": "code",
   "execution_count": 5,
   "id": "c00bd19f",
   "metadata": {},
   "outputs": [
    {
     "data": {
      "text/plain": [
       "''"
      ]
     },
     "execution_count": 5,
     "metadata": {},
     "output_type": "execute_result"
    }
   ],
   "source": [
    "secret_files_content = [None] * 24\n",
    "\n",
    "for file_number in range(1, 25):\n",
    "    file_name = f\".{str(file_number).zfill(4)}.scavengerhunt\"  # Formatea el nombre del archivo\n",
    "    response = req.get(f\"{repo_url}/{file_name}\")\n",
    "\n",
    "    if response.status_code == 200:\n",
    "        content = response.json()\n",
    "        content_base64 = content.get(\"content\", headers=headers)\n",
    "        decoded_content = base64.b64decode(content_base64).decode('utf-8')\n",
    "        secret_files_content[file_number - 1] = decoded_content\n",
    "\n",
    "# Filtra cualquier contenido nulo (archivos no encontrados)\n",
    "secret_files_content = [content for content in secret_files_content if content]\n",
    "\n",
    "# Ordena los fragmentos de contenido por número de archivo\n",
    "secret_files_content.sort(key=lambda x: int(x.split('.')[1]))\n",
    "\n",
    "# Imprime la broma completa\n",
    "joke = \" \".join(secret_files_content)\n",
    "joke"
   ]
  },
  {
   "cell_type": "code",
   "execution_count": 9,
   "id": "a756e2b7",
   "metadata": {},
   "outputs": [
    {
     "data": {
      "text/plain": [
       "''"
      ]
     },
     "execution_count": 9,
     "metadata": {},
     "output_type": "execute_result"
    }
   ],
   "source": [
    "secret_files_content = [None] * 24\n",
    "\n",
    "for file_number in range(1, 25):\n",
    "    file_name = f\".{str(file_number).zfill(4)}.scavengerhunt\"  # Formatea el nombre del archivo\n",
    "    response = req.get(f\"{repo_url}/{file_name}\")\n",
    "\n",
    "    if response.status_code == 200:\n",
    "        content = response.json()\n",
    "        content_base64 = content.get(\"content\")\n",
    "        decoded_content = base64.b64decode(content_base64).decode('utf-8')\n",
    "        secret_files_content[file_number - 1] = decoded_content\n",
    "\n",
    "# Filtra cualquier contenido nulo (archivos no encontrados)\n",
    "secret_files_content = [content for content in secret_files_content if content]\n",
    "\n",
    "# Ordena los fragmentos de contenido por número de archivo\n",
    "secret_files_content.sort(key=lambda x: int(x.split('.')[1]))\n",
    "\n",
    "# Imprime la broma completa\n",
    "joke = \" \".join(secret_files_content)\n",
    "joke"
   ]
  },
  {
   "cell_type": "code",
   "execution_count": 14,
   "id": "bd8f1c16",
   "metadata": {},
   "outputs": [
    {
     "data": {
      "text/plain": [
       "<Response [403]>"
      ]
     },
     "execution_count": 14,
     "metadata": {},
     "output_type": "execute_result"
    }
   ],
   "source": [
    " response = req.get(f\"{repo_url}/{file_name}\")\n",
    " response"
   ]
  },
  {
   "cell_type": "code",
   "execution_count": null,
   "id": "23c8bd92",
   "metadata": {},
   "outputs": [],
   "source": []
  }
 ],
 "metadata": {
  "kernelspec": {
   "display_name": "Python 3",
   "language": "python",
   "name": "python3"
  },
  "language_info": {
   "codemirror_mode": {
    "name": "ipython",
    "version": 3
   },
   "file_extension": ".py",
   "mimetype": "text/x-python",
   "name": "python",
   "nbconvert_exporter": "python",
   "pygments_lexer": "ipython3",
   "version": "3.11.5"
  },
  "toc": {
   "base_numbering": 1,
   "nav_menu": {},
   "number_sections": true,
   "sideBar": true,
   "skip_h1_title": true,
   "title_cell": "Table of Contents",
   "title_sidebar": "Contents",
   "toc_cell": false,
   "toc_position": {},
   "toc_section_display": true,
   "toc_window_display": true
  }
 },
 "nbformat": 4,
 "nbformat_minor": 5
}
