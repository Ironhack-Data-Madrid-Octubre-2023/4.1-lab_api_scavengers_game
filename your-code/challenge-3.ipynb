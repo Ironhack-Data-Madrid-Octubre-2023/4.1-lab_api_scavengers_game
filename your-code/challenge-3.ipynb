{
 "cells": [
  {
   "cell_type": "markdown",
   "id": "defensive-clock",
   "metadata": {},
   "source": [
    "# Challenge 3: Hidden Cold Joke\n",
    "\n",
    "Using Python, call Github API to find out the cold joke contained in the 24 secret files in the following repo:\n",
    "\n",
    "https://github.com/ironhack-datalabs/scavenger\n",
    "\n",
    "The filenames of the secret files contain .scavengerhunt and they are scattered in different directories of this repo. The secret files are named from .0001.scavengerhunt to .0024.scavengerhunt. They are scattered randomly throughout this repo. You need to search for these files by calling the Github API, not searching the local files on your computer.\n",
    "\n",
    "\n",
    "After you find out the secrete files:\n",
    "\n",
    "Sort the filenames ascendingly.\n",
    "\n",
    "Read the content of each secret files into an array of strings.\n",
    "\n",
    "Concatenate the strings in the array separating each two with a whitespace.\n",
    "\n",
    "Print out the joke."
   ]
  },
  {
   "cell_type": "markdown",
   "id": "universal-length",
   "metadata": {},
   "source": [
    "⚠️ **Remember to limit your output before submission**."
   ]
  },
  {
   "cell_type": "code",
   "execution_count": 3,
   "id": "toxic-trading",
   "metadata": {},
   "outputs": [],
   "source": [
    "import json\n",
    "import requests as req\n",
    "import os\n",
    "from dotenv import load_dotenv\n",
    "\n",
    "load_dotenv()\n",
    "\n",
    "github = os.getenv(\"token\")"
   ]
  },
  {
   "cell_type": "code",
   "execution_count": 4,
   "id": "static-stopping",
   "metadata": {},
   "outputs": [],
   "source": [
    "with open('../token.txt') as file:\n",
    "    my_token = file.read()\n",
    "\n",
    "HEADER = {'Authorization': 'token ' + my_token } "
   ]
  },
  {
   "cell_type": "code",
   "execution_count": 5,
   "id": "d38ebffa",
   "metadata": {},
   "outputs": [],
   "source": [
    "url = f'https://api.github.com/repos/ironhack-datalabs/scavenger/contents?extension:scavengerhunt'"
   ]
  },
  {
   "cell_type": "code",
   "execution_count": 6,
   "id": "5b2498d1",
   "metadata": {},
   "outputs": [
    {
     "data": {
      "text/plain": [
       "<Response [200]>"
      ]
     },
     "execution_count": 6,
     "metadata": {},
     "output_type": "execute_result"
    }
   ],
   "source": [
    "res = req.get(url, headers=HEADER)\n",
    "res"
   ]
  },
  {
   "cell_type": "code",
   "execution_count": 31,
   "id": "28de9daa",
   "metadata": {},
   "outputs": [
    {
     "data": {
      "text/plain": [
       "{'name': '15024',\n",
       " 'path': '15024',\n",
       " 'sha': '2945e51c87ad5da893c954afcf092f06343bbb7d',\n",
       " 'size': 0,\n",
       " 'url': 'https://api.github.com/repos/ironhack-datalabs/scavenger/contents/15024?ref=master',\n",
       " 'html_url': 'https://github.com/ironhack-datalabs/scavenger/tree/master/15024',\n",
       " 'git_url': 'https://api.github.com/repos/ironhack-datalabs/scavenger/git/trees/2945e51c87ad5da893c954afcf092f06343bbb7d',\n",
       " 'download_url': None,\n",
       " 'type': 'dir',\n",
       " '_links': {'self': 'https://api.github.com/repos/ironhack-datalabs/scavenger/contents/15024?ref=master',\n",
       "  'git': 'https://api.github.com/repos/ironhack-datalabs/scavenger/git/trees/2945e51c87ad5da893c954afcf092f06343bbb7d',\n",
       "  'html': 'https://github.com/ironhack-datalabs/scavenger/tree/master/15024'}}"
      ]
     },
     "execution_count": 31,
     "metadata": {},
     "output_type": "execute_result"
    }
   ],
   "source": [
    "res_api = res.json()\n",
    "res_api[1]"
   ]
  },
  {
   "cell_type": "code",
   "execution_count": 17,
   "id": "f6521122",
   "metadata": {},
   "outputs": [
    {
     "data": {
      "text/plain": [
       "26"
      ]
     },
     "execution_count": 17,
     "metadata": {},
     "output_type": "execute_result"
    }
   ],
   "source": [
    "len(res_api)"
   ]
  },
  {
   "cell_type": "code",
   "execution_count": 45,
   "id": "fb290e7a",
   "metadata": {},
   "outputs": [],
   "source": [
    "output = {}\n",
    "\n",
    "for i in range(26):\n",
    "    url = res_api[i]['_links']['html']\n",
    "    name = res_api[i]['name']\n",
    "    output[name] = url"
   ]
  },
  {
   "cell_type": "code",
   "execution_count": 50,
   "id": "486c0ad7",
   "metadata": {},
   "outputs": [
    {
     "data": {
      "text/plain": [
       "{'.gitignore': 'https://github.com/ironhack-datalabs/scavenger/blob/master/.gitignore',\n",
       " '15024': 'https://github.com/ironhack-datalabs/scavenger/tree/master/15024',\n",
       " '15534': 'https://github.com/ironhack-datalabs/scavenger/tree/master/15534',\n",
       " '17020': 'https://github.com/ironhack-datalabs/scavenger/tree/master/17020',\n",
       " '30351': 'https://github.com/ironhack-datalabs/scavenger/tree/master/30351',\n",
       " '40303': 'https://github.com/ironhack-datalabs/scavenger/tree/master/40303',\n",
       " '44639': 'https://github.com/ironhack-datalabs/scavenger/tree/master/44639',\n",
       " '45525': 'https://github.com/ironhack-datalabs/scavenger/tree/master/45525',\n",
       " '47222': 'https://github.com/ironhack-datalabs/scavenger/tree/master/47222',\n",
       " '47830': 'https://github.com/ironhack-datalabs/scavenger/tree/master/47830',\n",
       " '49418': 'https://github.com/ironhack-datalabs/scavenger/tree/master/49418',\n",
       " '50896': 'https://github.com/ironhack-datalabs/scavenger/tree/master/50896',\n",
       " '55417': 'https://github.com/ironhack-datalabs/scavenger/tree/master/55417',\n",
       " '55685': 'https://github.com/ironhack-datalabs/scavenger/tree/master/55685',\n",
       " '60224': 'https://github.com/ironhack-datalabs/scavenger/tree/master/60224',\n",
       " '64880': 'https://github.com/ironhack-datalabs/scavenger/tree/master/64880',\n",
       " '66032': 'https://github.com/ironhack-datalabs/scavenger/tree/master/66032',\n",
       " '68848': 'https://github.com/ironhack-datalabs/scavenger/tree/master/68848',\n",
       " '70751': 'https://github.com/ironhack-datalabs/scavenger/tree/master/70751',\n",
       " '70985': 'https://github.com/ironhack-datalabs/scavenger/tree/master/70985',\n",
       " '88596': 'https://github.com/ironhack-datalabs/scavenger/tree/master/88596',\n",
       " '89046': 'https://github.com/ironhack-datalabs/scavenger/tree/master/89046',\n",
       " '89338': 'https://github.com/ironhack-datalabs/scavenger/tree/master/89338',\n",
       " '91701': 'https://github.com/ironhack-datalabs/scavenger/tree/master/91701',\n",
       " '97881': 'https://github.com/ironhack-datalabs/scavenger/tree/master/97881',\n",
       " '98750': 'https://github.com/ironhack-datalabs/scavenger/tree/master/98750'}"
      ]
     },
     "execution_count": 50,
     "metadata": {},
     "output_type": "execute_result"
    }
   ],
   "source": [
    "output"
   ]
  },
  {
   "cell_type": "code",
   "execution_count": 49,
   "id": "a67e8c69",
   "metadata": {},
   "outputs": [
    {
     "ename": "ValueError",
     "evalue": "too many values to unpack (expected 2)",
     "output_type": "error",
     "traceback": [
      "\u001b[1;31m---------------------------------------------------------------------------\u001b[0m",
      "\u001b[1;31mValueError\u001b[0m                                Traceback (most recent call last)",
      "\u001b[1;32mc:\\Users\\ingle\\_clase\\4.1-lab_api_scavengers_game\\your-code\\challenge-3.ipynb Cell 10\u001b[0m line \u001b[0;36m1\n\u001b[1;32m----> <a href='vscode-notebook-cell:/c%3A/Users/ingle/_clase/4.1-lab_api_scavengers_game/your-code/challenge-3.ipynb#X12sZmlsZQ%3D%3D?line=0'>1</a>\u001b[0m \u001b[39mfor\u001b[39;00m k,v \u001b[39min\u001b[39;00m output:\n\u001b[0;32m      <a href='vscode-notebook-cell:/c%3A/Users/ingle/_clase/4.1-lab_api_scavengers_game/your-code/challenge-3.ipynb#X12sZmlsZQ%3D%3D?line=1'>2</a>\u001b[0m     url \u001b[39m=\u001b[39m output[k]\n",
      "\u001b[1;31mValueError\u001b[0m: too many values to unpack (expected 2)"
     ]
    }
   ],
   "source": [
    "for k,v in output:\n",
    "    url = output[k]"
   ]
  },
  {
   "cell_type": "code",
   "execution_count": 47,
   "id": "e8dc7a5e",
   "metadata": {},
   "outputs": [
    {
     "ename": "TypeError",
     "evalue": "'dict' object is not callable",
     "output_type": "error",
     "traceback": [
      "\u001b[1;31m---------------------------------------------------------------------------\u001b[0m",
      "\u001b[1;31mTypeError\u001b[0m                                 Traceback (most recent call last)",
      "\u001b[1;32mc:\\Users\\ingle\\_clase\\4.1-lab_api_scavengers_game\\your-code\\challenge-3.ipynb Cell 11\u001b[0m line \u001b[0;36m1\n\u001b[1;32m----> <a href='vscode-notebook-cell:/c%3A/Users/ingle/_clase/4.1-lab_api_scavengers_game/your-code/challenge-3.ipynb#X20sZmlsZQ%3D%3D?line=0'>1</a>\u001b[0m output(\u001b[39m0\u001b[39m)\n",
      "\u001b[1;31mTypeError\u001b[0m: 'dict' object is not callable"
     ]
    }
   ],
   "source": [
    "\n"
   ]
  },
  {
   "cell_type": "code",
   "execution_count": 39,
   "id": "959a76c7",
   "metadata": {},
   "outputs": [
    {
     "data": {
      "text/plain": [
       "{'.gitignore': 'https://github.com/ironhack-datalabs/scavenger/blob/master/.gitignore',\n",
       " '15024': 'https://github.com/ironhack-datalabs/scavenger/tree/master/15024',\n",
       " '15534': 'https://github.com/ironhack-datalabs/scavenger/tree/master/15534',\n",
       " '17020': 'https://github.com/ironhack-datalabs/scavenger/tree/master/17020',\n",
       " '30351': 'https://github.com/ironhack-datalabs/scavenger/tree/master/30351',\n",
       " '40303': 'https://github.com/ironhack-datalabs/scavenger/tree/master/40303',\n",
       " '44639': 'https://github.com/ironhack-datalabs/scavenger/tree/master/44639',\n",
       " '45525': 'https://github.com/ironhack-datalabs/scavenger/tree/master/45525',\n",
       " '47222': 'https://github.com/ironhack-datalabs/scavenger/tree/master/47222',\n",
       " '47830': 'https://github.com/ironhack-datalabs/scavenger/tree/master/47830',\n",
       " '49418': 'https://github.com/ironhack-datalabs/scavenger/tree/master/49418',\n",
       " '50896': 'https://github.com/ironhack-datalabs/scavenger/tree/master/50896',\n",
       " '55417': 'https://github.com/ironhack-datalabs/scavenger/tree/master/55417',\n",
       " '55685': 'https://github.com/ironhack-datalabs/scavenger/tree/master/55685',\n",
       " '60224': 'https://github.com/ironhack-datalabs/scavenger/tree/master/60224',\n",
       " '64880': 'https://github.com/ironhack-datalabs/scavenger/tree/master/64880',\n",
       " '66032': 'https://github.com/ironhack-datalabs/scavenger/tree/master/66032',\n",
       " '68848': 'https://github.com/ironhack-datalabs/scavenger/tree/master/68848',\n",
       " '70751': 'https://github.com/ironhack-datalabs/scavenger/tree/master/70751',\n",
       " '70985': 'https://github.com/ironhack-datalabs/scavenger/tree/master/70985',\n",
       " '88596': 'https://github.com/ironhack-datalabs/scavenger/tree/master/88596',\n",
       " '89046': 'https://github.com/ironhack-datalabs/scavenger/tree/master/89046',\n",
       " '89338': 'https://github.com/ironhack-datalabs/scavenger/tree/master/89338',\n",
       " '91701': 'https://github.com/ironhack-datalabs/scavenger/tree/master/91701',\n",
       " '97881': 'https://github.com/ironhack-datalabs/scavenger/tree/master/97881',\n",
       " '98750': 'https://github.com/ironhack-datalabs/scavenger/tree/master/98750'}"
      ]
     },
     "execution_count": 39,
     "metadata": {},
     "output_type": "execute_result"
    }
   ],
   "source": [
    "output"
   ]
  },
  {
   "cell_type": "code",
   "execution_count": null,
   "id": "409a7771",
   "metadata": {},
   "outputs": [],
   "source": []
  }
 ],
 "metadata": {
  "kernelspec": {
   "display_name": "Python 3",
   "language": "python",
   "name": "python3"
  },
  "language_info": {
   "codemirror_mode": {
    "name": "ipython",
    "version": 3
   },
   "file_extension": ".py",
   "mimetype": "text/x-python",
   "name": "python",
   "nbconvert_exporter": "python",
   "pygments_lexer": "ipython3",
   "version": "3.11.5"
  },
  "toc": {
   "base_numbering": 1,
   "nav_menu": {},
   "number_sections": true,
   "sideBar": true,
   "skip_h1_title": true,
   "title_cell": "Table of Contents",
   "title_sidebar": "Contents",
   "toc_cell": false,
   "toc_position": {},
   "toc_section_display": true,
   "toc_window_display": true
  }
 },
 "nbformat": 4,
 "nbformat_minor": 5
}
