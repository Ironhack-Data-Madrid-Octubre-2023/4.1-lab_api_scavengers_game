{
 "cells": [
  {
   "cell_type": "markdown",
   "id": "defensive-clock",
   "metadata": {},
   "source": [
    "# Challenge 3: Hidden Cold Joke\n",
    "\n",
    "Using Python, call Github API to find out the cold joke contained in the 24 secret files in the following repo:\n",
    "\n",
    "https://github.com/ironhack-datalabs/scavenger\n",
    "\n",
    "The filenames of the secret files contain .scavengerhunt and they are scattered in different directories of this repo. The secret files are named from .0001.scavengerhunt to .0024.scavengerhunt. They are scattered randomly throughout this repo. You need to search for these files by calling the Github API, not searching the local files on your computer.\n",
    "\n",
    "\n",
    "After you find out the secrete files:\n",
    "\n",
    "Sort the filenames ascendingly.\n",
    "\n",
    "Read the content of each secret files into an array of strings.\n",
    "\n",
    "Concatenate the strings in the array separating each two with a whitespace.\n",
    "\n",
    "Print out the joke."
   ]
  },
  {
   "cell_type": "markdown",
   "id": "universal-length",
   "metadata": {},
   "source": [
    "⚠️ **Remember to limit your output before submission**."
   ]
  },
  {
   "cell_type": "code",
   "execution_count": 14,
   "id": "toxic-trading",
   "metadata": {},
   "outputs": [],
   "source": [
    "import json\n",
    "import requests as req"
   ]
  },
  {
   "cell_type": "code",
   "execution_count": 15,
   "id": "static-stopping",
   "metadata": {},
   "outputs": [],
   "source": [
    "with open('token.txt','r') as t:\n",
    "    token = t.read()"
   ]
  },
  {
   "cell_type": "code",
   "execution_count": 16,
   "id": "b2843472",
   "metadata": {},
   "outputs": [],
   "source": [
    "url = 'https://api.github.com/repos/ironhack-datalabs/scavenger/contents?extension:scavengerhunt'"
   ]
  },
  {
   "cell_type": "code",
   "execution_count": 17,
   "id": "f8f548d6",
   "metadata": {},
   "outputs": [
    {
     "data": {
      "text/plain": [
       "<Response [200]>"
      ]
     },
     "execution_count": 17,
     "metadata": {},
     "output_type": "execute_result"
    }
   ],
   "source": [
    "res = req.get(url)\n",
    "res"
   ]
  },
  {
   "cell_type": "code",
   "execution_count": 18,
   "id": "fa2abe59",
   "metadata": {},
   "outputs": [
    {
     "data": {
      "text/plain": [
       "[{'name': '.gitignore',\n",
       "  'path': '.gitignore',\n",
       "  'sha': 'e43b0f988953ae3a84b00331d0ccf5f7d51cb3cf',\n",
       "  'size': 10,\n",
       "  'url': 'https://api.github.com/repos/ironhack-datalabs/scavenger/contents/.gitignore?ref=master',\n",
       "  'html_url': 'https://github.com/ironhack-datalabs/scavenger/blob/master/.gitignore',\n",
       "  'git_url': 'https://api.github.com/repos/ironhack-datalabs/scavenger/git/blobs/e43b0f988953ae3a84b00331d0ccf5f7d51cb3cf',\n",
       "  'download_url': 'https://raw.githubusercontent.com/ironhack-datalabs/scavenger/master/.gitignore',\n",
       "  'type': 'file',\n",
       "  '_links': {'self': 'https://api.github.com/repos/ironhack-datalabs/scavenger/contents/.gitignore?ref=master',\n",
       "   'git': 'https://api.github.com/repos/ironhack-datalabs/scavenger/git/blobs/e43b0f988953ae3a84b00331d0ccf5f7d51cb3cf',\n",
       "   'html': 'https://github.com/ironhack-datalabs/scavenger/blob/master/.gitignore'}},\n",
       " {'name': '15024',\n",
       "  'path': '15024',\n",
       "  'sha': '2945e51c87ad5da893c954afcf092f06343bbb7d',\n",
       "  'size': 0,\n",
       "  'url': 'https://api.github.com/repos/ironhack-datalabs/scavenger/contents/15024?ref=master',\n",
       "  'html_url': 'https://github.com/ironhack-datalabs/scavenger/tree/master/15024',\n",
       "  'git_url': 'https://api.github.com/repos/ironhack-datalabs/scavenger/git/trees/2945e51c87ad5da893c954afcf092f06343bbb7d',\n",
       "  'download_url': None,\n",
       "  'type': 'dir',\n",
       "  '_links': {'self': 'https://api.github.com/repos/ironhack-datalabs/scavenger/contents/15024?ref=master',\n",
       "   'git': 'https://api.github.com/repos/ironhack-datalabs/scavenger/git/trees/2945e51c87ad5da893c954afcf092f06343bbb7d',\n",
       "   'html': 'https://github.com/ironhack-datalabs/scavenger/tree/master/15024'}}]"
      ]
     },
     "execution_count": 18,
     "metadata": {},
     "output_type": "execute_result"
    }
   ],
   "source": [
    "# 200 -> cool!\n",
    "resp = res.json()\n",
    "resp[:2]"
   ]
  },
  {
   "cell_type": "code",
   "execution_count": 19,
   "id": "0f0aa9a9",
   "metadata": {},
   "outputs": [
    {
     "data": {
      "text/plain": [
       "{'name': '.gitignore',\n",
       " 'path': '.gitignore',\n",
       " 'sha': 'e43b0f988953ae3a84b00331d0ccf5f7d51cb3cf',\n",
       " 'size': 10,\n",
       " 'url': 'https://api.github.com/repos/ironhack-datalabs/scavenger/contents/.gitignore?ref=master',\n",
       " 'html_url': 'https://github.com/ironhack-datalabs/scavenger/blob/master/.gitignore',\n",
       " 'git_url': 'https://api.github.com/repos/ironhack-datalabs/scavenger/git/blobs/e43b0f988953ae3a84b00331d0ccf5f7d51cb3cf',\n",
       " 'download_url': 'https://raw.githubusercontent.com/ironhack-datalabs/scavenger/master/.gitignore',\n",
       " 'type': 'file',\n",
       " '_links': {'self': 'https://api.github.com/repos/ironhack-datalabs/scavenger/contents/.gitignore?ref=master',\n",
       "  'git': 'https://api.github.com/repos/ironhack-datalabs/scavenger/git/blobs/e43b0f988953ae3a84b00331d0ccf5f7d51cb3cf',\n",
       "  'html': 'https://github.com/ironhack-datalabs/scavenger/blob/master/.gitignore'}}"
      ]
     },
     "execution_count": 19,
     "metadata": {},
     "output_type": "execute_result"
    }
   ],
   "source": [
    "# Vamos a trabajar con esta lista y luego ya vemos como hacemos (bucle) con el resto de elementos de la misma\n",
    "resp[0]"
   ]
  },
  {
   "cell_type": "code",
   "execution_count": 20,
   "id": "478c37bb",
   "metadata": {},
   "outputs": [
    {
     "data": {
      "text/plain": [
       "{'name': '15024',\n",
       " 'path': '15024',\n",
       " 'sha': '2945e51c87ad5da893c954afcf092f06343bbb7d',\n",
       " 'size': 0,\n",
       " 'url': 'https://api.github.com/repos/ironhack-datalabs/scavenger/contents/15024?ref=master',\n",
       " 'html_url': 'https://github.com/ironhack-datalabs/scavenger/tree/master/15024',\n",
       " 'git_url': 'https://api.github.com/repos/ironhack-datalabs/scavenger/git/trees/2945e51c87ad5da893c954afcf092f06343bbb7d',\n",
       " 'download_url': None,\n",
       " 'type': 'dir',\n",
       " '_links': {'self': 'https://api.github.com/repos/ironhack-datalabs/scavenger/contents/15024?ref=master',\n",
       "  'git': 'https://api.github.com/repos/ironhack-datalabs/scavenger/git/trees/2945e51c87ad5da893c954afcf092f06343bbb7d',\n",
       "  'html': 'https://github.com/ironhack-datalabs/scavenger/tree/master/15024'}}"
      ]
     },
     "execution_count": 20,
     "metadata": {},
     "output_type": "execute_result"
    }
   ],
   "source": [
    "# Vamos al elemento 1 mejor porque lo primero es el gitignore\n",
    "resp[1]"
   ]
  },
  {
   "cell_type": "code",
   "execution_count": 21,
   "id": "20bbaf4b",
   "metadata": {},
   "outputs": [
    {
     "data": {
      "text/plain": [
       "'https://api.github.com/repos/ironhack-datalabs/scavenger/contents/15024?ref=master'"
      ]
     },
     "execution_count": 21,
     "metadata": {},
     "output_type": "execute_result"
    }
   ],
   "source": [
    "resp[1]['url']"
   ]
  },
  {
   "cell_type": "code",
   "execution_count": 22,
   "id": "d91bc76e",
   "metadata": {},
   "outputs": [],
   "source": [
    "resp = req.get(resp[1]['url']).json()"
   ]
  },
  {
   "cell_type": "code",
   "execution_count": 23,
   "id": "5fc14c6b",
   "metadata": {},
   "outputs": [
    {
     "data": {
      "text/plain": [
       "[{'name': '.0006.scavengerhunt',\n",
       "  'path': '15024/.0006.scavengerhunt',\n",
       "  'sha': '1c9064284a24b3486015eafdb391b141c27ada2b',\n",
       "  'size': 3,\n",
       "  'url': 'https://api.github.com/repos/ironhack-datalabs/scavenger/contents/15024/.0006.scavengerhunt?ref=master',\n",
       "  'html_url': 'https://github.com/ironhack-datalabs/scavenger/blob/master/15024/.0006.scavengerhunt',\n",
       "  'git_url': 'https://api.github.com/repos/ironhack-datalabs/scavenger/git/blobs/1c9064284a24b3486015eafdb391b141c27ada2b',\n",
       "  'download_url': 'https://raw.githubusercontent.com/ironhack-datalabs/scavenger/master/15024/.0006.scavengerhunt',\n",
       "  'type': 'file',\n",
       "  '_links': {'self': 'https://api.github.com/repos/ironhack-datalabs/scavenger/contents/15024/.0006.scavengerhunt?ref=master',\n",
       "   'git': 'https://api.github.com/repos/ironhack-datalabs/scavenger/git/blobs/1c9064284a24b3486015eafdb391b141c27ada2b',\n",
       "   'html': 'https://github.com/ironhack-datalabs/scavenger/blob/master/15024/.0006.scavengerhunt'}},\n",
       " {'name': '40',\n",
       "  'path': '15024/40',\n",
       "  'sha': 'e69de29bb2d1d6434b8b29ae775ad8c2e48c5391',\n",
       "  'size': 0,\n",
       "  'url': 'https://api.github.com/repos/ironhack-datalabs/scavenger/contents/15024/40?ref=master',\n",
       "  'html_url': 'https://github.com/ironhack-datalabs/scavenger/blob/master/15024/40',\n",
       "  'git_url': 'https://api.github.com/repos/ironhack-datalabs/scavenger/git/blobs/e69de29bb2d1d6434b8b29ae775ad8c2e48c5391',\n",
       "  'download_url': 'https://raw.githubusercontent.com/ironhack-datalabs/scavenger/master/15024/40',\n",
       "  'type': 'file',\n",
       "  '_links': {'self': 'https://api.github.com/repos/ironhack-datalabs/scavenger/contents/15024/40?ref=master',\n",
       "   'git': 'https://api.github.com/repos/ironhack-datalabs/scavenger/git/blobs/e69de29bb2d1d6434b8b29ae775ad8c2e48c5391',\n",
       "   'html': 'https://github.com/ironhack-datalabs/scavenger/blob/master/15024/40'}},\n",
       " {'name': '74',\n",
       "  'path': '15024/74',\n",
       "  'sha': 'e69de29bb2d1d6434b8b29ae775ad8c2e48c5391',\n",
       "  'size': 0,\n",
       "  'url': 'https://api.github.com/repos/ironhack-datalabs/scavenger/contents/15024/74?ref=master',\n",
       "  'html_url': 'https://github.com/ironhack-datalabs/scavenger/blob/master/15024/74',\n",
       "  'git_url': 'https://api.github.com/repos/ironhack-datalabs/scavenger/git/blobs/e69de29bb2d1d6434b8b29ae775ad8c2e48c5391',\n",
       "  'download_url': 'https://raw.githubusercontent.com/ironhack-datalabs/scavenger/master/15024/74',\n",
       "  'type': 'file',\n",
       "  '_links': {'self': 'https://api.github.com/repos/ironhack-datalabs/scavenger/contents/15024/74?ref=master',\n",
       "   'git': 'https://api.github.com/repos/ironhack-datalabs/scavenger/git/blobs/e69de29bb2d1d6434b8b29ae775ad8c2e48c5391',\n",
       "   'html': 'https://github.com/ironhack-datalabs/scavenger/blob/master/15024/74'}},\n",
       " {'name': '99',\n",
       "  'path': '15024/99',\n",
       "  'sha': 'e69de29bb2d1d6434b8b29ae775ad8c2e48c5391',\n",
       "  'size': 0,\n",
       "  'url': 'https://api.github.com/repos/ironhack-datalabs/scavenger/contents/15024/99?ref=master',\n",
       "  'html_url': 'https://github.com/ironhack-datalabs/scavenger/blob/master/15024/99',\n",
       "  'git_url': 'https://api.github.com/repos/ironhack-datalabs/scavenger/git/blobs/e69de29bb2d1d6434b8b29ae775ad8c2e48c5391',\n",
       "  'download_url': 'https://raw.githubusercontent.com/ironhack-datalabs/scavenger/master/15024/99',\n",
       "  'type': 'file',\n",
       "  '_links': {'self': 'https://api.github.com/repos/ironhack-datalabs/scavenger/contents/15024/99?ref=master',\n",
       "   'git': 'https://api.github.com/repos/ironhack-datalabs/scavenger/git/blobs/e69de29bb2d1d6434b8b29ae775ad8c2e48c5391',\n",
       "   'html': 'https://github.com/ironhack-datalabs/scavenger/blob/master/15024/99'}}]"
      ]
     },
     "execution_count": 23,
     "metadata": {},
     "output_type": "execute_result"
    }
   ],
   "source": [
    "resp"
   ]
  },
  {
   "cell_type": "code",
   "execution_count": 24,
   "id": "7f351073",
   "metadata": {},
   "outputs": [
    {
     "data": {
      "text/plain": [
       "{'name': '.0006.scavengerhunt',\n",
       " 'path': '15024/.0006.scavengerhunt',\n",
       " 'sha': '1c9064284a24b3486015eafdb391b141c27ada2b',\n",
       " 'size': 3,\n",
       " 'url': 'https://api.github.com/repos/ironhack-datalabs/scavenger/contents/15024/.0006.scavengerhunt?ref=master',\n",
       " 'html_url': 'https://github.com/ironhack-datalabs/scavenger/blob/master/15024/.0006.scavengerhunt',\n",
       " 'git_url': 'https://api.github.com/repos/ironhack-datalabs/scavenger/git/blobs/1c9064284a24b3486015eafdb391b141c27ada2b',\n",
       " 'download_url': 'https://raw.githubusercontent.com/ironhack-datalabs/scavenger/master/15024/.0006.scavengerhunt',\n",
       " 'type': 'file',\n",
       " '_links': {'self': 'https://api.github.com/repos/ironhack-datalabs/scavenger/contents/15024/.0006.scavengerhunt?ref=master',\n",
       "  'git': 'https://api.github.com/repos/ironhack-datalabs/scavenger/git/blobs/1c9064284a24b3486015eafdb391b141c27ada2b',\n",
       "  'html': 'https://github.com/ironhack-datalabs/scavenger/blob/master/15024/.0006.scavengerhunt'}}"
      ]
     },
     "execution_count": 24,
     "metadata": {},
     "output_type": "execute_result"
    }
   ],
   "source": [
    "# Sale otra lista así que vamos a ir al primer elemento otra vez\n",
    "resp[0]"
   ]
  },
  {
   "cell_type": "code",
   "execution_count": 25,
   "id": "01f40ad2",
   "metadata": {},
   "outputs": [
    {
     "data": {
      "text/plain": [
       "'https://raw.githubusercontent.com/ironhack-datalabs/scavenger/master/15024/.0006.scavengerhunt'"
      ]
     },
     "execution_count": 25,
     "metadata": {},
     "output_type": "execute_result"
    }
   ],
   "source": [
    "resp[0]['download_url']\n",
    "# Me sale 'of'"
   ]
  },
  {
   "cell_type": "code",
   "execution_count": 27,
   "id": "f84f9d06",
   "metadata": {},
   "outputs": [
    {
     "data": {
      "text/plain": [
       "'https://github.com/ironhack-datalabs/scavenger/blob/master/15024/.0006.scavengerhunt'"
      ]
     },
     "execution_count": 27,
     "metadata": {},
     "output_type": "execute_result"
    }
   ],
   "source": [
    "resp[0]['html_url']"
   ]
  },
  {
   "cell_type": "code",
   "execution_count": 30,
   "id": "fbe230bc",
   "metadata": {},
   "outputs": [],
   "source": [
    "url_palabra = resp[0]['html_url']"
   ]
  },
  {
   "cell_type": "code",
   "execution_count": 31,
   "id": "6e2b82c6",
   "metadata": {},
   "outputs": [
    {
     "data": {
      "text/plain": [
       "'{\"payload\":{\"allShortcutsEnabled\":false,\"fileTree\":{\"15024\":{\"items\":[{\"name\":\".0006.scavengerhunt\",\"path\":\"15024/.0006.scavengerhunt\",\"contentType\":\"file\"},{\"name\":\"40\",\"path\":\"15024/40\",\"contentType\":\"file\"},{\"name\":\"74\",\"path\":\"15024/74\",\"contentType\":\"file\"},{\"name\":\"99\",\"path\":\"15024/99\",\"contentType\":\"file\"}],\"totalCount\":4},\"\":{\"items\":[{\"name\":\"15024\",\"path\":\"15024\",\"contentType\":\"directory\"},{\"name\":\"15534\",\"path\":\"15534\",\"contentType\":\"directory\"},{\"name\":\"17020\",\"path\":\"17020\",\"contentType\":\"directory\"},{\"name\":\"30351\",\"path\":\"30351\",\"contentType\":\"directory\"},{\"name\":\"40303\",\"path\":\"40303\",\"contentType\":\"directory\"},{\"name\":\"44639\",\"path\":\"44639\",\"contentType\":\"directory\"},{\"name\":\"45525\",\"path\":\"45525\",\"contentType\":\"directory\"},{\"name\":\"47222\",\"path\":\"47222\",\"contentType\":\"directory\"},{\"name\":\"47830\",\"path\":\"47830\",\"contentType\":\"directory\"},{\"name\":\"49418\",\"path\":\"49418\",\"contentType\":\"directory\"},{\"name\":\"50896\",\"path\":\"50896\",\"contentType\":\"directory\"},{\"name\":\"55417\",\"path\":\"55417\",\"contentType\":\"directory\"},{\"name\":\"55685\",\"path\":\"55685\",\"contentType\":\"directory\"},{\"name\":\"60224\",\"path\":\"60224\",\"contentType\":\"directory\"},{\"name\":\"64880\",\"path\":\"64880\",\"contentType\":\"directory\"},{\"name\":\"66032\",\"path\":\"66032\",\"contentType\":\"directory\"},{\"name\":\"68848\",\"path\":\"68848\",\"contentType\":\"directory\"},{\"name\":\"70751\",\"path\":\"70751\",\"contentType\":\"directory\"},{\"name\":\"70985\",\"path\":\"70985\",\"contentType\":\"directory\"},{\"name\":\"88596\",\"path\":\"88596\",\"contentType\":\"directory\"},{\"name\":\"89046\",\"path\":\"89046\",\"contentType\":\"directory\"},{\"name\":\"89338\",\"path\":\"89338\",\"contentType\":\"directory\"},{\"name\":\"91701\",\"path\":\"91701\",\"contentType\":\"directory\"},{\"name\":\"97881\",\"path\":\"97881\",\"contentType\":\"directory\"},{\"name\":\"98750\",\"path\":\"98750\",\"contentType\":\"directory\"},{\"name\":\".gitignore\",\"path\":\".gitignore\",\"contentType\":\"file\"}],\"totalCount\":26}},\"fileTreeProcessingTime\":4.303897,\"foldersToFetch\":[],\"reducedMotionEnabled\":null,\"repo\":{\"id\":162375181,\"defaultBranch\":\"master\",\"name\":\"scavenger\",\"ownerLogin\":\"ironhack-datalabs\",\"currentUserCanPush\":false,\"isFork\":false,\"isEmpty\":false,\"createdAt\":\"2018-12-19T03:01:30.000Z\",\"ownerAvatar\":\"https://avatars.githubusercontent.com/u/44225188?v=4\",\"public\":true,\"private\":false,\"isOrgOwned\":true},\"symbolsExpanded\":false,\"treeExpanded\":true,\"refInfo\":{\"name\":\"master\",\"listCacheKey\":\"v0:1545188492.0\",\"canEdit\":false,\"refType\":\"branch\",\"currentOid\":\"9308ccc8a4c34c5e3a991ee815222a9691c32476\"},\"path\":\"15024/.0006.scavengerhunt\",\"currentUser\":null,\"blob\":{\"rawLines\":[\"of\"],\"stylingDirectives\":[[]],\"csv\":null,\"csvError\":null,\"dependabotInfo\":{\"showConfigurationBanner\":false,\"configFilePath\":null,\"networkDependabotPath\":\"/ironhack-datalabs/scavenger/network/updates\",\"dismissConfigurationNoticePath\":\"/settings/dismiss-notice/dependabot_configuration_notice\",\"configurationNoticeDismissed\":null,\"repoAlertsPath\":\"/ironhack-datalabs/scavenger/security/dependabot\",\"repoSecurityAndAnalysisPath\":\"/ironhack-datalabs/scavenger/settings/security_analysis\",\"repoOwnerIsOrg\":true,\"currentUserCanAdminRepo\":false},\"displayName\":\".0006.scavengerhunt\",\"displayUrl\":\"https://github.com/ironhack-datalabs/scavenger/blob/master/15024/.0006.scavengerhunt?raw=true\",\"headerInfo\":{\"blobSize\":\"3 Bytes\",\"deleteInfo\":{\"deleteTooltip\":\"You must be signed in to make or propose changes\"},\"editInfo\":{\"editTooltip\":\"You must be signed in to make or propose changes\"},\"ghDesktopPath\":\"https://desktop.github.com\",\"gitLfsPath\":null,\"onBranch\":true,\"shortPath\":\"1c90642\",\"siteNavLoginPath\":\"/login?return_to=https%3A%2F%2Fgithub.com%2Fironhack-datalabs%2Fscavenger%2Fblob%2Fmaster%2F15024%2F.0006.scavengerhunt\",\"isCSV\":false,\"isRichtext\":false,\"toc\":null,\"lineInfo\":{\"truncatedLoc\":\"1\",\"truncatedSloc\":\"1\"},\"mode\":\"file\"},\"image\":false,\"isCodeownersFile\":null,\"isPlain\":false,\"isValidLegacyIssueTemplate\":false,\"issueTemplateHelpUrl\":\"https://docs.github.com/articles/about-issue-and-pull-request-templates\",\"issueTemplate\":null,\"discussionTemplate\":null,\"language\":null,\"languageID\":null,\"large\":false,\"loggedIn\":false,\"newDiscussionPath\":\"/ironhack-datalabs/scavenger/discussions/new\",\"newIssuePath\":\"/ironhack-datalabs/scavenger/issues/new\",\"planSupportInfo\":{\"repoIsFork\":null,\"repoOwnedByCurrentUser\":null,\"requestFullPath\":\"/ironhack-datalabs/scavenger/blob/master/15024/.0006.scavengerhunt\",\"showFreeOrgGatedFeatureMessage\":null,\"showPlanSupportBanner\":null,\"upgradeDataAttributes\":null,\"upgradePath\":null},\"publishBannersInfo\":{\"dismissActionNoticePath\":\"/settings/dismiss-notice/publish_action_from_dockerfile\",\"dismissStackNoticePath\":\"/settings/dismiss-notice/publish_stack_from_file\",\"releasePath\":\"/ironhack-datalabs/scavenger/releases/new?marketplace=true\",\"showPublishActionBanner\":false,\"showPublishStackBanner\":false},\"rawBlobUrl\":\"https://github.com/ironhack-datalabs/scavenger/raw/master/15024/.0006.scavengerhunt\",\"renderImageOrRaw\":false,\"richText\":null,\"renderedFileInfo\":null,\"shortPath\":null,\"tabSize\":8,\"topBannersInfo\":{\"overridingGlobalFundingFile\":false,\"globalPreferredFundingPath\":null,\"repoOwner\":\"ironhack-datalabs\",\"repoName\":\"scavenger\",\"showInvalidCitationWarning\":false,\"citationHelpUrl\":\"https://docs.github.com/en/github/creating-cloning-and-archiving-repositories/creating-a-repository-on-github/about-citation-files\",\"showDependabotConfigurationBanner\":false,\"actionsOnboardingTip\":null},\"truncated\":false,\"viewable\":true,\"workflowRedirectUrl\":null,\"symbols\":{\"timedOut\":false,\"notAnalyzed\":true,\"symbols\":[]}},\"copilotInfo\":null,\"copilotAccessAllowed\":false,\"csrf_tokens\":{\"/ironhack-datalabs/scavenger/branches\":{\"post\":\"a6_SLnzH_K4S5EWXRw6WKh43KUvjU6F_zd9VYYlj1YARvOXRGCTrplTz5EaO9OigI7Pr9KMYEFhRsKLHbLNvUA\"},\"/repos/preferences\":{\"post\":\"R0vTxYQLeQnCjmn5xCd6JgZeywKqcL_Z3YMcEClJLw7_7zWT8LQ5--YV2pXIIeKyowevjvpVvTLaUyFOhNMrvw\"}}},\"title\":\"scavenger/15024/.0006.scavengerhunt at master · ironhack-datalabs/scavenger\"}'"
      ]
     },
     "execution_count": 31,
     "metadata": {},
     "output_type": "execute_result"
    }
   ],
   "source": [
    "req.get(url_palabra).text"
   ]
  },
  {
   "cell_type": "code",
   "execution_count": null,
   "id": "2a97d912",
   "metadata": {},
   "outputs": [],
   "source": [
    "# Estoy un poco rallado -> luego sigo"
   ]
  }
 ],
 "metadata": {
  "kernelspec": {
   "display_name": "Python 3",
   "language": "python",
   "name": "python3"
  },
  "language_info": {
   "codemirror_mode": {
    "name": "ipython",
    "version": 3
   },
   "file_extension": ".py",
   "mimetype": "text/x-python",
   "name": "python",
   "nbconvert_exporter": "python",
   "pygments_lexer": "ipython3",
   "version": "3.10.13"
  },
  "toc": {
   "base_numbering": 1,
   "nav_menu": {},
   "number_sections": true,
   "sideBar": true,
   "skip_h1_title": true,
   "title_cell": "Table of Contents",
   "title_sidebar": "Contents",
   "toc_cell": false,
   "toc_position": {},
   "toc_section_display": true,
   "toc_window_display": true
  }
 },
 "nbformat": 4,
 "nbformat_minor": 5
}
