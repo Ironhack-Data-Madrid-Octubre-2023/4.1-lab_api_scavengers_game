{
 "cells": [
  {
   "cell_type": "markdown",
   "id": "defensive-clock",
   "metadata": {},
   "source": [
    "# Challenge 3: Hidden Cold Joke\n",
    "\n",
    "Using Python, call Github API to find out the cold joke contained in the 24 secret files in the following repo:\n",
    "\n",
    "https://github.com/ironhack-datalabs/scavenger\n",
    "\n",
    "The filenames of the secret files contain .scavengerhunt and they are scattered in different directories of this repo. The secret files are named from .0001.scavengerhunt to .0024.scavengerhunt. They are scattered randomly throughout this repo. You need to search for these files by calling the Github API, not searching the local files on your computer.\n",
    "\n",
    "\n",
    "After you find out the secrete files:\n",
    "\n",
    "Sort the filenames ascendingly.\n",
    "\n",
    "Read the content of each secret files into an array of strings.\n",
    "\n",
    "Concatenate the strings in the array separating each two with a whitespace.\n",
    "\n",
    "Print out the joke."
   ]
  },
  {
   "cell_type": "markdown",
   "id": "universal-length",
   "metadata": {},
   "source": [
    "⚠️ **Remember to limit your output before submission**."
   ]
  },
  {
   "cell_type": "code",
   "execution_count": 1,
   "id": "toxic-trading",
   "metadata": {},
   "outputs": [],
   "source": [
    "import os\n",
    "import pandas as pd\n",
    "import requests as req\n",
    "from dotenv import load_dotenv\n",
    "\n",
    "load_dotenv()\n",
    "github = os.getenv(\"token\")"
   ]
  },
  {
   "cell_type": "code",
   "execution_count": 2,
   "id": "static-stopping",
   "metadata": {},
   "outputs": [],
   "source": [
    "with open('../token.txt') as file:\n",
    "    my_token = file.read()\n",
    "\n",
    "HEADER = {'Authorization': 'token ' + my_token } "
   ]
  },
  {
   "cell_type": "code",
   "execution_count": 3,
   "id": "d38ebffa",
   "metadata": {},
   "outputs": [
    {
     "data": {
      "text/plain": [
       "<Response [200]>"
      ]
     },
     "execution_count": 3,
     "metadata": {},
     "output_type": "execute_result"
    }
   ],
   "source": [
    "url = f'https://api.github.com/repos/ironhack-datalabs/scavenger/contents?extension:scavengerhunt'\n",
    "res = req.get(url, headers = HEADER)\n",
    "res"
   ]
  },
  {
   "cell_type": "code",
   "execution_count": 4,
   "id": "5b2498d1",
   "metadata": {},
   "outputs": [
    {
     "data": {
      "text/plain": [
       "'https://api.github.com/repos/ironhack-datalabs/scavenger/contents/.gitignore?ref=master'"
      ]
     },
     "execution_count": 4,
     "metadata": {},
     "output_type": "execute_result"
    }
   ],
   "source": [
    "res_api = res.json()\n",
    "res_api[0]['url']"
   ]
  },
  {
   "cell_type": "code",
   "execution_count": 5,
   "id": "f6521122",
   "metadata": {},
   "outputs": [],
   "source": [
    "roots = []\n",
    "\n",
    "for i in range(len(res_api)):\n",
    "    url = res_api[i]['url']\n",
    "    roots.append(url)"
   ]
  },
  {
   "cell_type": "code",
   "execution_count": 6,
   "id": "a67e8c69",
   "metadata": {},
   "outputs": [],
   "source": [
    "names = []\n",
    "paths = []\n",
    "dict_names_paths = {}\n",
    "\n",
    "for url in roots[1:26]:\n",
    "    res_ = req.get(url, headers = HEADER)\n",
    "    res_api_ = res_.json()\n",
    "    for i in range(3):\n",
    "        names.append(res_api_[i]['name'])\n",
    "        paths.append(res_api_[i]['path'])"
   ]
  },
  {
   "cell_type": "code",
   "execution_count": 7,
   "id": "b9e944e6",
   "metadata": {},
   "outputs": [],
   "source": [
    "dict_names_paths['names'] = names\n",
    "dict_names_paths['paths'] = paths"
   ]
  },
  {
   "cell_type": "code",
   "execution_count": 8,
   "id": "dd769693",
   "metadata": {},
   "outputs": [],
   "source": [
    "sorted_names = sorted(zip(dict_names_paths['names'], dict_names_paths['paths']))\n",
    "dict_names_paths = {'names': [x[0] for x in sorted_names], 'paths': [x[1] for x in sorted_names]}"
   ]
  },
  {
   "cell_type": "code",
   "execution_count": 9,
   "id": "4a37c643",
   "metadata": {},
   "outputs": [],
   "source": [
    "output = []\n",
    "\n",
    "for i in range(len(dict_names_paths['names'])):\n",
    "    if 'hunt' in dict_names_paths['names'][i]:\n",
    "        output.append(dict_names_paths['paths'][i])"
   ]
  },
  {
   "cell_type": "code",
   "execution_count": 10,
   "id": "13b28096",
   "metadata": {},
   "outputs": [],
   "source": [
    "words_url = []\n",
    "\n",
    "for url in output:\n",
    "    url = 'https://raw.githubusercontent.com/ironhack-datalabs/scavenger/master/' + url\n",
    "    words_url.append(url)"
   ]
  },
  {
   "cell_type": "code",
   "execution_count": 11,
   "id": "76ce69ae",
   "metadata": {},
   "outputs": [
    {
     "name": "stdout",
     "output_type": "stream",
     "text": [
      "In\n",
      "\n",
      "data\n",
      "\n",
      "science,\n",
      "\n",
      "80\n",
      "\n",
      "percent\n",
      "\n",
      "of\n",
      "\n",
      "time\n",
      "\n",
      "spent\n",
      "\n",
      "is\n",
      "\n",
      "preparing\n",
      "\n",
      "data,\n",
      "\n",
      "20\n",
      "\n",
      "percent\n",
      "\n",
      "of\n",
      "\n",
      "time\n",
      "\n",
      "is\n",
      "\n",
      "spent\n",
      "\n",
      "complaining\n",
      "\n",
      "about\n",
      "\n",
      "the\n",
      "\n",
      "need\n",
      "\n",
      "to\n",
      "\n",
      "prepare\n",
      "\n",
      "data.\n",
      "\n"
     ]
    }
   ],
   "source": [
    "for url in words_url:\n",
    "    word = (req.get(url, headers = HEADER)).text\n",
    "    print(word)"
   ]
  }
 ],
 "metadata": {
  "kernelspec": {
   "display_name": "Python 3 (ipykernel)",
   "language": "python",
   "name": "python3"
  },
  "language_info": {
   "codemirror_mode": {
    "name": "ipython",
    "version": 3
   },
   "file_extension": ".py",
   "mimetype": "text/x-python",
   "name": "python",
   "nbconvert_exporter": "python",
   "pygments_lexer": "ipython3",
   "version": "3.11.4"
  },
  "toc": {
   "base_numbering": 1,
   "nav_menu": {},
   "number_sections": true,
   "sideBar": true,
   "skip_h1_title": true,
   "title_cell": "Table of Contents",
   "title_sidebar": "Contents",
   "toc_cell": false,
   "toc_position": {},
   "toc_section_display": true,
   "toc_window_display": true
  }
 },
 "nbformat": 4,
 "nbformat_minor": 5
}
