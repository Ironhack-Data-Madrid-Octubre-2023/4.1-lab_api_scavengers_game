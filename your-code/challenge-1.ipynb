{
 "cells": [
  {
   "cell_type": "code",
   "execution_count": 5,
   "metadata": {},
   "outputs": [],
   "source": [
    "import json\n",
    "import requests as req"
   ]
  },
  {
   "cell_type": "markdown",
   "metadata": {},
   "source": [
    "Only if you're using your environmental variable eith the `.env` file, import/install the following modules. Otherwise it is not necessary:\n",
    "\n",
    "https://pypi.org/project/python-dotenv/"
   ]
  },
  {
   "cell_type": "code",
   "execution_count": 3,
   "metadata": {},
   "outputs": [],
   "source": [
    "import os\n",
    "from dotenv import load_dotenv"
   ]
  },
  {
   "cell_type": "code",
   "execution_count": null,
   "metadata": {},
   "outputs": [],
   "source": [
    "#pip install python-dotenv"
   ]
  },
  {
   "cell_type": "code",
   "execution_count": 7,
   "metadata": {},
   "outputs": [
    {
     "data": {
      "text/plain": [
       "True"
      ]
     },
     "execution_count": 7,
     "metadata": {},
     "output_type": "execute_result"
    }
   ],
   "source": [
    "load_dotenv()"
   ]
  },
  {
   "cell_type": "code",
   "execution_count": 5,
   "metadata": {},
   "outputs": [],
   "source": [
    "github = os.getenv(\"token\")"
   ]
  },
  {
   "cell_type": "markdown",
   "metadata": {},
   "source": [
    "# Challenge 1: Fork Languages\n",
    "\n",
    "You will find out how many programming languages are used among all the forks created from the main lab repo of your bootcamp. Assuming the main lab repo is ironhack-datalabs/datamad1020-rev, you will:\n",
    "\n",
    "1. Obtain the full list of forks created from the main lab repo via Github API.\n",
    "\n",
    "2. Loop the JSON response to find out the language attribute of each fork. Use an array to store the language attributes of each fork.\n",
    "\n",
    "Hint: Each language should appear only once in your array.\n",
    "\n",
    "3. Print the language array. It should be something like:\n",
    "\n",
    "[\"Python\", \"Jupyter Notebook\", \"HTML\"]\n"
   ]
  },
  {
   "cell_type": "markdown",
   "metadata": {},
   "source": [
    "**HINT:**: Create a list with every **language_url** you find in every fork "
   ]
  },
  {
   "cell_type": "markdown",
   "metadata": {},
   "source": [
    "⚠️ **Remember to limit your output before submission**."
   ]
  },
  {
   "cell_type": "code",
   "execution_count": 26,
   "metadata": {},
   "outputs": [],
   "source": [
    "URL = 'https://api.github.com/repos/Ironhack-Data-Madrid-Octubre-2023/apuntes_clase'"
   ]
  },
  {
   "cell_type": "code",
   "execution_count": 27,
   "metadata": {},
   "outputs": [
    {
     "data": {
      "text/plain": [
       "<Response [200]>"
      ]
     },
     "execution_count": 27,
     "metadata": {},
     "output_type": "execute_result"
    }
   ],
   "source": [
    "res = req.get(URL)\n",
    "res"
   ]
  },
  {
   "cell_type": "code",
   "execution_count": 28,
   "metadata": {},
   "outputs": [
    {
     "data": {
      "text/plain": [
       "{'id': 699234927,\n",
       " 'node_id': 'R_kgDOKa16bw',\n",
       " 'name': 'apuntes_clase',\n",
       " 'full_name': 'Ironhack-Data-Madrid-Octubre-2023/apuntes_clase',\n",
       " 'private': False,\n",
       " 'owner': {'login': 'Ironhack-Data-Madrid-Octubre-2023',\n",
       "  'id': 146709321,\n",
       "  'node_id': 'O_kgDOCL6bSQ',\n",
       "  'avatar_url': 'https://avatars.githubusercontent.com/u/146709321?v=4',\n",
       "  'gravatar_id': '',\n",
       "  'url': 'https://api.github.com/users/Ironhack-Data-Madrid-Octubre-2023',\n",
       "  'html_url': 'https://github.com/Ironhack-Data-Madrid-Octubre-2023',\n",
       "  'followers_url': 'https://api.github.com/users/Ironhack-Data-Madrid-Octubre-2023/followers',\n",
       "  'following_url': 'https://api.github.com/users/Ironhack-Data-Madrid-Octubre-2023/following{/other_user}',\n",
       "  'gists_url': 'https://api.github.com/users/Ironhack-Data-Madrid-Octubre-2023/gists{/gist_id}',\n",
       "  'starred_url': 'https://api.github.com/users/Ironhack-Data-Madrid-Octubre-2023/starred{/owner}{/repo}',\n",
       "  'subscriptions_url': 'https://api.github.com/users/Ironhack-Data-Madrid-Octubre-2023/subscriptions',\n",
       "  'organizations_url': 'https://api.github.com/users/Ironhack-Data-Madrid-Octubre-2023/orgs',\n",
       "  'repos_url': 'https://api.github.com/users/Ironhack-Data-Madrid-Octubre-2023/repos',\n",
       "  'events_url': 'https://api.github.com/users/Ironhack-Data-Madrid-Octubre-2023/events{/privacy}',\n",
       "  'received_events_url': 'https://api.github.com/users/Ironhack-Data-Madrid-Octubre-2023/received_events',\n",
       "  'type': 'Organization',\n",
       "  'site_admin': False},\n",
       " 'html_url': 'https://github.com/Ironhack-Data-Madrid-Octubre-2023/apuntes_clase',\n",
       " 'description': 'Apuntes de las clases diarias',\n",
       " 'fork': False,\n",
       " 'url': 'https://api.github.com/repos/Ironhack-Data-Madrid-Octubre-2023/apuntes_clase',\n",
       " 'forks_url': 'https://api.github.com/repos/Ironhack-Data-Madrid-Octubre-2023/apuntes_clase/forks',\n",
       " 'keys_url': 'https://api.github.com/repos/Ironhack-Data-Madrid-Octubre-2023/apuntes_clase/keys{/key_id}',\n",
       " 'collaborators_url': 'https://api.github.com/repos/Ironhack-Data-Madrid-Octubre-2023/apuntes_clase/collaborators{/collaborator}',\n",
       " 'teams_url': 'https://api.github.com/repos/Ironhack-Data-Madrid-Octubre-2023/apuntes_clase/teams',\n",
       " 'hooks_url': 'https://api.github.com/repos/Ironhack-Data-Madrid-Octubre-2023/apuntes_clase/hooks',\n",
       " 'issue_events_url': 'https://api.github.com/repos/Ironhack-Data-Madrid-Octubre-2023/apuntes_clase/issues/events{/number}',\n",
       " 'events_url': 'https://api.github.com/repos/Ironhack-Data-Madrid-Octubre-2023/apuntes_clase/events',\n",
       " 'assignees_url': 'https://api.github.com/repos/Ironhack-Data-Madrid-Octubre-2023/apuntes_clase/assignees{/user}',\n",
       " 'branches_url': 'https://api.github.com/repos/Ironhack-Data-Madrid-Octubre-2023/apuntes_clase/branches{/branch}',\n",
       " 'tags_url': 'https://api.github.com/repos/Ironhack-Data-Madrid-Octubre-2023/apuntes_clase/tags',\n",
       " 'blobs_url': 'https://api.github.com/repos/Ironhack-Data-Madrid-Octubre-2023/apuntes_clase/git/blobs{/sha}',\n",
       " 'git_tags_url': 'https://api.github.com/repos/Ironhack-Data-Madrid-Octubre-2023/apuntes_clase/git/tags{/sha}',\n",
       " 'git_refs_url': 'https://api.github.com/repos/Ironhack-Data-Madrid-Octubre-2023/apuntes_clase/git/refs{/sha}',\n",
       " 'trees_url': 'https://api.github.com/repos/Ironhack-Data-Madrid-Octubre-2023/apuntes_clase/git/trees{/sha}',\n",
       " 'statuses_url': 'https://api.github.com/repos/Ironhack-Data-Madrid-Octubre-2023/apuntes_clase/statuses/{sha}',\n",
       " 'languages_url': 'https://api.github.com/repos/Ironhack-Data-Madrid-Octubre-2023/apuntes_clase/languages',\n",
       " 'stargazers_url': 'https://api.github.com/repos/Ironhack-Data-Madrid-Octubre-2023/apuntes_clase/stargazers',\n",
       " 'contributors_url': 'https://api.github.com/repos/Ironhack-Data-Madrid-Octubre-2023/apuntes_clase/contributors',\n",
       " 'subscribers_url': 'https://api.github.com/repos/Ironhack-Data-Madrid-Octubre-2023/apuntes_clase/subscribers',\n",
       " 'subscription_url': 'https://api.github.com/repos/Ironhack-Data-Madrid-Octubre-2023/apuntes_clase/subscription',\n",
       " 'commits_url': 'https://api.github.com/repos/Ironhack-Data-Madrid-Octubre-2023/apuntes_clase/commits{/sha}',\n",
       " 'git_commits_url': 'https://api.github.com/repos/Ironhack-Data-Madrid-Octubre-2023/apuntes_clase/git/commits{/sha}',\n",
       " 'comments_url': 'https://api.github.com/repos/Ironhack-Data-Madrid-Octubre-2023/apuntes_clase/comments{/number}',\n",
       " 'issue_comment_url': 'https://api.github.com/repos/Ironhack-Data-Madrid-Octubre-2023/apuntes_clase/issues/comments{/number}',\n",
       " 'contents_url': 'https://api.github.com/repos/Ironhack-Data-Madrid-Octubre-2023/apuntes_clase/contents/{+path}',\n",
       " 'compare_url': 'https://api.github.com/repos/Ironhack-Data-Madrid-Octubre-2023/apuntes_clase/compare/{base}...{head}',\n",
       " 'merges_url': 'https://api.github.com/repos/Ironhack-Data-Madrid-Octubre-2023/apuntes_clase/merges',\n",
       " 'archive_url': 'https://api.github.com/repos/Ironhack-Data-Madrid-Octubre-2023/apuntes_clase/{archive_format}{/ref}',\n",
       " 'downloads_url': 'https://api.github.com/repos/Ironhack-Data-Madrid-Octubre-2023/apuntes_clase/downloads',\n",
       " 'issues_url': 'https://api.github.com/repos/Ironhack-Data-Madrid-Octubre-2023/apuntes_clase/issues{/number}',\n",
       " 'pulls_url': 'https://api.github.com/repos/Ironhack-Data-Madrid-Octubre-2023/apuntes_clase/pulls{/number}',\n",
       " 'milestones_url': 'https://api.github.com/repos/Ironhack-Data-Madrid-Octubre-2023/apuntes_clase/milestones{/number}',\n",
       " 'notifications_url': 'https://api.github.com/repos/Ironhack-Data-Madrid-Octubre-2023/apuntes_clase/notifications{?since,all,participating}',\n",
       " 'labels_url': 'https://api.github.com/repos/Ironhack-Data-Madrid-Octubre-2023/apuntes_clase/labels{/name}',\n",
       " 'releases_url': 'https://api.github.com/repos/Ironhack-Data-Madrid-Octubre-2023/apuntes_clase/releases{/id}',\n",
       " 'deployments_url': 'https://api.github.com/repos/Ironhack-Data-Madrid-Octubre-2023/apuntes_clase/deployments',\n",
       " 'created_at': '2023-10-02T08:10:58Z',\n",
       " 'updated_at': '2023-10-08T16:35:45Z',\n",
       " 'pushed_at': '2023-10-31T22:43:19Z',\n",
       " 'git_url': 'git://github.com/Ironhack-Data-Madrid-Octubre-2023/apuntes_clase.git',\n",
       " 'ssh_url': 'git@github.com:Ironhack-Data-Madrid-Octubre-2023/apuntes_clase.git',\n",
       " 'clone_url': 'https://github.com/Ironhack-Data-Madrid-Octubre-2023/apuntes_clase.git',\n",
       " 'svn_url': 'https://github.com/Ironhack-Data-Madrid-Octubre-2023/apuntes_clase',\n",
       " 'homepage': 'https://github.com',\n",
       " 'size': 838383,\n",
       " 'stargazers_count': 0,\n",
       " 'watchers_count': 0,\n",
       " 'language': 'Jupyter Notebook',\n",
       " 'has_issues': True,\n",
       " 'has_projects': True,\n",
       " 'has_downloads': True,\n",
       " 'has_wiki': False,\n",
       " 'has_pages': False,\n",
       " 'has_discussions': False,\n",
       " 'forks_count': 10,\n",
       " 'mirror_url': None,\n",
       " 'archived': False,\n",
       " 'disabled': False,\n",
       " 'open_issues_count': 0,\n",
       " 'license': None,\n",
       " 'allow_forking': True,\n",
       " 'is_template': False,\n",
       " 'web_commit_signoff_required': False,\n",
       " 'topics': [],\n",
       " 'visibility': 'public',\n",
       " 'forks': 10,\n",
       " 'open_issues': 0,\n",
       " 'watchers': 0,\n",
       " 'default_branch': 'main',\n",
       " 'temp_clone_token': None,\n",
       " 'organization': {'login': 'Ironhack-Data-Madrid-Octubre-2023',\n",
       "  'id': 146709321,\n",
       "  'node_id': 'O_kgDOCL6bSQ',\n",
       "  'avatar_url': 'https://avatars.githubusercontent.com/u/146709321?v=4',\n",
       "  'gravatar_id': '',\n",
       "  'url': 'https://api.github.com/users/Ironhack-Data-Madrid-Octubre-2023',\n",
       "  'html_url': 'https://github.com/Ironhack-Data-Madrid-Octubre-2023',\n",
       "  'followers_url': 'https://api.github.com/users/Ironhack-Data-Madrid-Octubre-2023/followers',\n",
       "  'following_url': 'https://api.github.com/users/Ironhack-Data-Madrid-Octubre-2023/following{/other_user}',\n",
       "  'gists_url': 'https://api.github.com/users/Ironhack-Data-Madrid-Octubre-2023/gists{/gist_id}',\n",
       "  'starred_url': 'https://api.github.com/users/Ironhack-Data-Madrid-Octubre-2023/starred{/owner}{/repo}',\n",
       "  'subscriptions_url': 'https://api.github.com/users/Ironhack-Data-Madrid-Octubre-2023/subscriptions',\n",
       "  'organizations_url': 'https://api.github.com/users/Ironhack-Data-Madrid-Octubre-2023/orgs',\n",
       "  'repos_url': 'https://api.github.com/users/Ironhack-Data-Madrid-Octubre-2023/repos',\n",
       "  'events_url': 'https://api.github.com/users/Ironhack-Data-Madrid-Octubre-2023/events{/privacy}',\n",
       "  'received_events_url': 'https://api.github.com/users/Ironhack-Data-Madrid-Octubre-2023/received_events',\n",
       "  'type': 'Organization',\n",
       "  'site_admin': False},\n",
       " 'network_count': 10,\n",
       " 'subscribers_count': 1}"
      ]
     },
     "execution_count": 28,
     "metadata": {},
     "output_type": "execute_result"
    }
   ],
   "source": [
    "res.json()"
   ]
  },
  {
   "cell_type": "code",
   "execution_count": 55,
   "metadata": {},
   "outputs": [
    {
     "data": {
      "text/plain": [
       "10"
      ]
     },
     "execution_count": 55,
     "metadata": {},
     "output_type": "execute_result"
    }
   ],
   "source": [
    "url_forks = res.json()['forks_url']\n",
    "forks = req.get(url_forks)\n",
    "\n",
    "len(forks.json())"
   ]
  },
  {
   "cell_type": "code",
   "execution_count": 84,
   "metadata": {},
   "outputs": [],
   "source": [
    "def obtain_lang(x):\n",
    "\n",
    "    lang = []\n",
    "\n",
    "    for i in range(len(x.json())):\n",
    "\n",
    "        if x.json()[i]['language'] != None:\n",
    "            language = x.json()[i]['language']\n",
    "            lang.append(language)\n",
    "        \n",
    "        else:\n",
    "            pass\n",
    "    \n",
    "    language_set = set(lang)\n",
    "    language_list = (list(language_set))\n",
    "\n",
    "    return language_list"
   ]
  },
  {
   "cell_type": "code",
   "execution_count": 85,
   "metadata": {},
   "outputs": [
    {
     "data": {
      "text/plain": [
       "['Jupyter Notebook']"
      ]
     },
     "execution_count": 85,
     "metadata": {},
     "output_type": "execute_result"
    }
   ],
   "source": [
    "obtain_lang(forks)"
   ]
  },
  {
   "cell_type": "code",
   "execution_count": 67,
   "metadata": {},
   "outputs": [
    {
     "data": {
      "text/plain": [
       "['https://api.github.com/repos/EdgarAhmed/apuntes_clase/languages',\n",
       " 'https://api.github.com/repos/illegalvoidundead/apuntes_clase/languages',\n",
       " 'https://api.github.com/repos/AlvaroYague/apuntes_clase/languages',\n",
       " 'https://api.github.com/repos/luisgh87/apuntes_clase/languages',\n",
       " 'https://api.github.com/repos/SaraPazo/apuntes_clase/languages',\n",
       " 'https://api.github.com/repos/yaninafontana84/apuntes_clase/languages',\n",
       " 'https://api.github.com/repos/ClaraGallardo/apuntes_clase/languages',\n",
       " 'https://api.github.com/repos/josegzr/apuntes_clase/languages',\n",
       " 'https://api.github.com/repos/jomariapc/apuntes_clase/languages',\n",
       " 'https://api.github.com/repos/anderfer/apuntes_clase/languages']"
      ]
     },
     "execution_count": 67,
     "metadata": {},
     "output_type": "execute_result"
    }
   ],
   "source": [
    "languages_url = []\n",
    "for i in range(len(forks.json())):\n",
    "    languages_url.append(forks.json()[i]['languages_url'])\n",
    "\n",
    "languages_url"
   ]
  },
  {
   "cell_type": "code",
   "execution_count": null,
   "metadata": {},
   "outputs": [],
   "source": []
  }
 ],
 "metadata": {
  "kernelspec": {
   "display_name": "Python 3",
   "language": "python",
   "name": "python3"
  },
  "language_info": {
   "codemirror_mode": {
    "name": "ipython",
    "version": 3
   },
   "file_extension": ".py",
   "mimetype": "text/x-python",
   "name": "python",
   "nbconvert_exporter": "python",
   "pygments_lexer": "ipython3",
   "version": "3.10.13"
  },
  "toc": {
   "base_numbering": 1,
   "nav_menu": {},
   "number_sections": true,
   "sideBar": true,
   "skip_h1_title": true,
   "title_cell": "Table of Contents",
   "title_sidebar": "Contents",
   "toc_cell": false,
   "toc_position": {},
   "toc_section_display": true,
   "toc_window_display": false
  }
 },
 "nbformat": 4,
 "nbformat_minor": 2
}
