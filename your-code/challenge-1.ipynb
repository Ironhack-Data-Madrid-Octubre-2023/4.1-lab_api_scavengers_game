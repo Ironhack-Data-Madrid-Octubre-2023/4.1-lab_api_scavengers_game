{
 "cells": [
  {
   "cell_type": "code",
   "execution_count": 10,
   "metadata": {},
   "outputs": [],
   "source": [
    "import json\n",
    "import requests as req"
   ]
  },
  {
   "cell_type": "markdown",
   "metadata": {},
   "source": [
    "Only if you're using your environmental variable eith the `.env` file, import/install the following modules. Otherwise it is not necessary:\n",
    "\n",
    "https://pypi.org/project/python-dotenv/"
   ]
  },
  {
   "cell_type": "code",
   "execution_count": 2,
   "metadata": {},
   "outputs": [],
   "source": [
    "import os\n",
    "from dotenv import load_dotenv"
   ]
  },
  {
   "cell_type": "code",
   "execution_count": 3,
   "metadata": {},
   "outputs": [
    {
     "name": "stdout",
     "output_type": "stream",
     "text": [
      "Requirement already satisfied: python-dotenv in /Users/criscarneiro/anaconda3/lib/python3.11/site-packages (1.0.0)\n",
      "Note: you may need to restart the kernel to use updated packages.\n"
     ]
    }
   ],
   "source": [
    "#pip install python-dotenv"
   ]
  },
  {
   "cell_type": "code",
   "execution_count": 4,
   "metadata": {},
   "outputs": [
    {
     "data": {
      "text/plain": [
       "False"
      ]
     },
     "execution_count": 4,
     "metadata": {},
     "output_type": "execute_result"
    }
   ],
   "source": [
    "load_dotenv()"
   ]
  },
  {
   "cell_type": "code",
   "execution_count": 5,
   "metadata": {},
   "outputs": [],
   "source": [
    "github = os.getenv(\"token\")"
   ]
  },
  {
   "cell_type": "markdown",
   "metadata": {},
   "source": [
    "# Challenge 1: Fork Languages\n",
    "\n",
    "You will find out how many programming languages are used among all the forks created from the main lab repo of your bootcamp. Assuming the main lab repo is ironhack-datalabs/datamad1020-rev, you will:\n",
    "\n",
    "1. Obtain the full list of forks created from the main lab repo via Github API.\n",
    "\n",
    "2. Loop the JSON response to find out the language attribute of each fork. Use an array to store the language attributes of each fork.\n",
    "\n",
    "Hint: Each language should appear only once in your array.\n",
    "\n",
    "3. Print the language array. It should be something like:\n",
    "\n",
    "[\"Python\", \"Jupyter Notebook\", \"HTML\"]\n"
   ]
  },
  {
   "cell_type": "markdown",
   "metadata": {},
   "source": [
    "**HINT:**: Create a list with every **language_url** you find in every fork "
   ]
  },
  {
   "cell_type": "markdown",
   "metadata": {},
   "source": [
    "⚠️ **Remember to limit your output before submission**."
   ]
  },
  {
   "cell_type": "code",
   "execution_count": 77,
   "metadata": {},
   "outputs": [],
   "source": [
    "url = 'https://api.github.com/repos/ironhack-datalabs/scavenger/forks'"
   ]
  },
  {
   "cell_type": "code",
   "execution_count": 78,
   "metadata": {},
   "outputs": [],
   "source": [
    "res = req.get(url)"
   ]
  },
  {
   "cell_type": "code",
   "execution_count": 79,
   "metadata": {},
   "outputs": [
    {
     "data": {
      "text/plain": [
       "<Response [200]>"
      ]
     },
     "execution_count": 79,
     "metadata": {},
     "output_type": "execute_result"
    }
   ],
   "source": [
    "res"
   ]
  },
  {
   "cell_type": "code",
   "execution_count": 83,
   "metadata": {},
   "outputs": [
    {
     "data": {
      "text/plain": [
       "{'id': 563004369,\n",
       " 'node_id': 'R_kgDOIY7D0Q',\n",
       " 'name': 'scavenger',\n",
       " 'full_name': 'SrAngelP/scavenger',\n",
       " 'private': False,\n",
       " 'owner': {'login': 'SrAngelP',\n",
       "  'id': 114986879,\n",
       "  'node_id': 'U_kgDOBtqPfw',\n",
       "  'avatar_url': 'https://avatars.githubusercontent.com/u/114986879?v=4',\n",
       "  'gravatar_id': '',\n",
       "  'url': 'https://api.github.com/users/SrAngelP',\n",
       "  'html_url': 'https://github.com/SrAngelP',\n",
       "  'followers_url': 'https://api.github.com/users/SrAngelP/followers',\n",
       "  'following_url': 'https://api.github.com/users/SrAngelP/following{/other_user}',\n",
       "  'gists_url': 'https://api.github.com/users/SrAngelP/gists{/gist_id}',\n",
       "  'starred_url': 'https://api.github.com/users/SrAngelP/starred{/owner}{/repo}',\n",
       "  'subscriptions_url': 'https://api.github.com/users/SrAngelP/subscriptions',\n",
       "  'organizations_url': 'https://api.github.com/users/SrAngelP/orgs',\n",
       "  'repos_url': 'https://api.github.com/users/SrAngelP/repos',\n",
       "  'events_url': 'https://api.github.com/users/SrAngelP/events{/privacy}',\n",
       "  'received_events_url': 'https://api.github.com/users/SrAngelP/received_events',\n",
       "  'type': 'User',\n",
       "  'site_admin': False},\n",
       " 'html_url': 'https://github.com/SrAngelP/scavenger',\n",
       " 'description': None,\n",
       " 'fork': True,\n",
       " 'url': 'https://api.github.com/repos/SrAngelP/scavenger',\n",
       " 'forks_url': 'https://api.github.com/repos/SrAngelP/scavenger/forks',\n",
       " 'keys_url': 'https://api.github.com/repos/SrAngelP/scavenger/keys{/key_id}',\n",
       " 'collaborators_url': 'https://api.github.com/repos/SrAngelP/scavenger/collaborators{/collaborator}',\n",
       " 'teams_url': 'https://api.github.com/repos/SrAngelP/scavenger/teams',\n",
       " 'hooks_url': 'https://api.github.com/repos/SrAngelP/scavenger/hooks',\n",
       " 'issue_events_url': 'https://api.github.com/repos/SrAngelP/scavenger/issues/events{/number}',\n",
       " 'events_url': 'https://api.github.com/repos/SrAngelP/scavenger/events',\n",
       " 'assignees_url': 'https://api.github.com/repos/SrAngelP/scavenger/assignees{/user}',\n",
       " 'branches_url': 'https://api.github.com/repos/SrAngelP/scavenger/branches{/branch}',\n",
       " 'tags_url': 'https://api.github.com/repos/SrAngelP/scavenger/tags',\n",
       " 'blobs_url': 'https://api.github.com/repos/SrAngelP/scavenger/git/blobs{/sha}',\n",
       " 'git_tags_url': 'https://api.github.com/repos/SrAngelP/scavenger/git/tags{/sha}',\n",
       " 'git_refs_url': 'https://api.github.com/repos/SrAngelP/scavenger/git/refs{/sha}',\n",
       " 'trees_url': 'https://api.github.com/repos/SrAngelP/scavenger/git/trees{/sha}',\n",
       " 'statuses_url': 'https://api.github.com/repos/SrAngelP/scavenger/statuses/{sha}',\n",
       " 'languages_url': 'https://api.github.com/repos/SrAngelP/scavenger/languages',\n",
       " 'stargazers_url': 'https://api.github.com/repos/SrAngelP/scavenger/stargazers',\n",
       " 'contributors_url': 'https://api.github.com/repos/SrAngelP/scavenger/contributors',\n",
       " 'subscribers_url': 'https://api.github.com/repos/SrAngelP/scavenger/subscribers',\n",
       " 'subscription_url': 'https://api.github.com/repos/SrAngelP/scavenger/subscription',\n",
       " 'commits_url': 'https://api.github.com/repos/SrAngelP/scavenger/commits{/sha}',\n",
       " 'git_commits_url': 'https://api.github.com/repos/SrAngelP/scavenger/git/commits{/sha}',\n",
       " 'comments_url': 'https://api.github.com/repos/SrAngelP/scavenger/comments{/number}',\n",
       " 'issue_comment_url': 'https://api.github.com/repos/SrAngelP/scavenger/issues/comments{/number}',\n",
       " 'contents_url': 'https://api.github.com/repos/SrAngelP/scavenger/contents/{+path}',\n",
       " 'compare_url': 'https://api.github.com/repos/SrAngelP/scavenger/compare/{base}...{head}',\n",
       " 'merges_url': 'https://api.github.com/repos/SrAngelP/scavenger/merges',\n",
       " 'archive_url': 'https://api.github.com/repos/SrAngelP/scavenger/{archive_format}{/ref}',\n",
       " 'downloads_url': 'https://api.github.com/repos/SrAngelP/scavenger/downloads',\n",
       " 'issues_url': 'https://api.github.com/repos/SrAngelP/scavenger/issues{/number}',\n",
       " 'pulls_url': 'https://api.github.com/repos/SrAngelP/scavenger/pulls{/number}',\n",
       " 'milestones_url': 'https://api.github.com/repos/SrAngelP/scavenger/milestones{/number}',\n",
       " 'notifications_url': 'https://api.github.com/repos/SrAngelP/scavenger/notifications{?since,all,participating}',\n",
       " 'labels_url': 'https://api.github.com/repos/SrAngelP/scavenger/labels{/name}',\n",
       " 'releases_url': 'https://api.github.com/repos/SrAngelP/scavenger/releases{/id}',\n",
       " 'deployments_url': 'https://api.github.com/repos/SrAngelP/scavenger/deployments',\n",
       " 'created_at': '2022-11-07T17:55:09Z',\n",
       " 'updated_at': '2018-12-19T03:05:09Z',\n",
       " 'pushed_at': '2018-12-19T03:05:07Z',\n",
       " 'git_url': 'git://github.com/SrAngelP/scavenger.git',\n",
       " 'ssh_url': 'git@github.com:SrAngelP/scavenger.git',\n",
       " 'clone_url': 'https://github.com/SrAngelP/scavenger.git',\n",
       " 'svn_url': 'https://github.com/SrAngelP/scavenger',\n",
       " 'homepage': None,\n",
       " 'size': 3,\n",
       " 'stargazers_count': 0,\n",
       " 'watchers_count': 0,\n",
       " 'language': None,\n",
       " 'has_issues': False,\n",
       " 'has_projects': True,\n",
       " 'has_downloads': True,\n",
       " 'has_wiki': True,\n",
       " 'has_pages': False,\n",
       " 'has_discussions': False,\n",
       " 'forks_count': 0,\n",
       " 'mirror_url': None,\n",
       " 'archived': False,\n",
       " 'disabled': False,\n",
       " 'open_issues_count': 0,\n",
       " 'license': None,\n",
       " 'allow_forking': True,\n",
       " 'is_template': False,\n",
       " 'web_commit_signoff_required': False,\n",
       " 'topics': [],\n",
       " 'visibility': 'public',\n",
       " 'forks': 0,\n",
       " 'open_issues': 0,\n",
       " 'watchers': 0,\n",
       " 'default_branch': 'master'}"
      ]
     },
     "execution_count": 83,
     "metadata": {},
     "output_type": "execute_result"
    }
   ],
   "source": [
    "res_api = res.json()\n",
    "res_api[1] #tengo una lista de diccionarios con una estructura parecida"
   ]
  },
  {
   "cell_type": "code",
   "execution_count": 24,
   "metadata": {},
   "outputs": [
    {
     "data": {
      "text/plain": [
       "20"
      ]
     },
     "execution_count": 24,
     "metadata": {},
     "output_type": "execute_result"
    }
   ],
   "source": [
    "#20 items \n",
    "\n",
    "len(res_api)"
   ]
  },
  {
   "cell_type": "code",
   "execution_count": 21,
   "metadata": {},
   "outputs": [
    {
     "data": {
      "text/plain": [
       "dict_keys(['id', 'node_id', 'name', 'full_name', 'private', 'owner', 'html_url', 'description', 'fork', 'url', 'forks_url', 'keys_url', 'collaborators_url', 'teams_url', 'hooks_url', 'issue_events_url', 'events_url', 'assignees_url', 'branches_url', 'tags_url', 'blobs_url', 'git_tags_url', 'git_refs_url', 'trees_url', 'statuses_url', 'languages_url', 'stargazers_url', 'contributors_url', 'subscribers_url', 'subscription_url', 'commits_url', 'git_commits_url', 'comments_url', 'issue_comment_url', 'contents_url', 'compare_url', 'merges_url', 'archive_url', 'downloads_url', 'issues_url', 'pulls_url', 'milestones_url', 'notifications_url', 'labels_url', 'releases_url', 'deployments_url', 'created_at', 'updated_at', 'pushed_at', 'git_url', 'ssh_url', 'clone_url', 'svn_url', 'homepage', 'size', 'stargazers_count', 'watchers_count', 'language', 'has_issues', 'has_projects', 'has_downloads', 'has_wiki', 'has_pages', 'has_discussions', 'forks_count', 'mirror_url', 'archived', 'disabled', 'open_issues_count', 'license', 'allow_forking', 'is_template', 'web_commit_signoff_required', 'topics', 'visibility', 'forks', 'open_issues', 'watchers', 'default_branch'])"
      ]
     },
     "execution_count": 21,
     "metadata": {},
     "output_type": "execute_result"
    }
   ],
   "source": [
    "#estas son las keys que tengo \n",
    "\n",
    "res_api[0].keys()"
   ]
  },
  {
   "cell_type": "code",
   "execution_count": 138,
   "metadata": {},
   "outputs": [
    {
     "data": {
      "text/plain": [
       "True"
      ]
     },
     "execution_count": 138,
     "metadata": {},
     "output_type": "execute_result"
    }
   ],
   "source": [
    "res_api[0]['fork'] "
   ]
  },
  {
   "cell_type": "code",
   "execution_count": 128,
   "metadata": {},
   "outputs": [
    {
     "data": {
      "text/plain": [
       "'https://api.github.com/repos/Reneferna/scavenger/languages'"
      ]
     },
     "execution_count": 128,
     "metadata": {},
     "output_type": "execute_result"
    }
   ],
   "source": [
    "res_api[0]['languages_url']"
   ]
  },
  {
   "cell_type": "code",
   "execution_count": 136,
   "metadata": {},
   "outputs": [],
   "source": [
    "res_api[0]['language']"
   ]
  },
  {
   "cell_type": "code",
   "execution_count": 110,
   "metadata": {},
   "outputs": [],
   "source": [
    "def urlsforked (lstdict):\n",
    "    \n",
    "    urls = []\n",
    "    for item in lstdict:  # Iterate over each element, which is a dictionary\n",
    "        if item['fork']:  # Check if the value assigned to the key 'fork' is True\n",
    "            urls.append(item['languages_url'])  # Append the username\n",
    "    return urls"
   ]
  },
  {
   "cell_type": "code",
   "execution_count": 111,
   "metadata": {},
   "outputs": [
    {
     "name": "stdout",
     "output_type": "stream",
     "text": [
      "['https://api.github.com/repos/Reneferna/scavenger/languages', 'https://api.github.com/repos/SrAngelP/scavenger/languages', 'https://api.github.com/repos/RaphHer/scavenger/languages', 'https://api.github.com/repos/danser96/scavenger/languages', 'https://api.github.com/repos/helmichaaba/scavenger/languages', 'https://api.github.com/repos/Gixi0612/scavenger/languages', 'https://api.github.com/repos/aiolii63/scavenger/languages', 'https://api.github.com/repos/akcortes/scavenger/languages', 'https://api.github.com/repos/ouykhy/scavenger/languages', 'https://api.github.com/repos/chavichongo/scavenger/languages', 'https://api.github.com/repos/rmaldonh/scavenger/languages', 'https://api.github.com/repos/Covs2993/scavenger/languages', 'https://api.github.com/repos/carazaagu/scavenger/languages', 'https://api.github.com/repos/Guilhermegcz/scavenger/languages', 'https://api.github.com/repos/patocuak08/scavenger/languages', 'https://api.github.com/repos/Cand0427/scavenger/languages', 'https://api.github.com/repos/Lauminja/scavenger/languages', 'https://api.github.com/repos/orianegsx/scavenger/languages', 'https://api.github.com/repos/diequicar/scavenger/languages', 'https://api.github.com/repos/EiroaMD/scavenger/languages']\n"
     ]
    }
   ],
   "source": [
    "print(urlsforked(res_api))"
   ]
  },
  {
   "cell_type": "code",
   "execution_count": 112,
   "metadata": {},
   "outputs": [],
   "source": [
    "#vemos un ejemplo para EiroaAMD\n",
    "\n",
    "url = 'https://api.github.com/repos/Reneferna/scavenger/languages'"
   ]
  },
  {
   "cell_type": "code",
   "execution_count": 113,
   "metadata": {},
   "outputs": [],
   "source": [
    "res = req.get(url)"
   ]
  },
  {
   "cell_type": "code",
   "execution_count": 114,
   "metadata": {},
   "outputs": [
    {
     "data": {
      "text/plain": [
       "<Response [200]>"
      ]
     },
     "execution_count": 114,
     "metadata": {},
     "output_type": "execute_result"
    }
   ],
   "source": [
    "res"
   ]
  },
  {
   "cell_type": "code",
   "execution_count": 115,
   "metadata": {},
   "outputs": [],
   "source": [
    "res_lang = res.json()"
   ]
  },
  {
   "cell_type": "code",
   "execution_count": 116,
   "metadata": {},
   "outputs": [
    {
     "data": {
      "text/plain": [
       "dict"
      ]
     },
     "execution_count": 116,
     "metadata": {},
     "output_type": "execute_result"
    }
   ],
   "source": [
    "type(res_lang)"
   ]
  },
  {
   "cell_type": "code",
   "execution_count": 117,
   "metadata": {},
   "outputs": [
    {
     "data": {
      "text/plain": [
       "{}"
      ]
     },
     "execution_count": 117,
     "metadata": {},
     "output_type": "execute_result"
    }
   ],
   "source": [
    "res_lang"
   ]
  },
  {
   "cell_type": "code",
   "execution_count": null,
   "metadata": {},
   "outputs": [],
   "source": []
  }
 ],
 "metadata": {
  "kernelspec": {
   "display_name": "Python 3 (ipykernel)",
   "language": "python",
   "name": "python3"
  },
  "language_info": {
   "codemirror_mode": {
    "name": "ipython",
    "version": 3
   },
   "file_extension": ".py",
   "mimetype": "text/x-python",
   "name": "python",
   "nbconvert_exporter": "python",
   "pygments_lexer": "ipython3",
   "version": "3.11.4"
  },
  "toc": {
   "base_numbering": 1,
   "nav_menu": {},
   "number_sections": true,
   "sideBar": true,
   "skip_h1_title": true,
   "title_cell": "Table of Contents",
   "title_sidebar": "Contents",
   "toc_cell": false,
   "toc_position": {},
   "toc_section_display": true,
   "toc_window_display": false
  }
 },
 "nbformat": 4,
 "nbformat_minor": 2
}
