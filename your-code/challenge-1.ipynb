{
 "cells": [
  {
   "cell_type": "code",
   "execution_count": 102,
   "metadata": {},
   "outputs": [],
   "source": [
    "import json\n",
    "import requests as req"
   ]
  },
  {
   "cell_type": "markdown",
   "metadata": {},
   "source": [
    "Only if you're using your environmental variable eith the `.env` file, import/install the following modules. Otherwise it is not necessary:\n",
    "\n",
    "https://pypi.org/project/python-dotenv/"
   ]
  },
  {
   "cell_type": "code",
   "execution_count": 103,
   "metadata": {},
   "outputs": [],
   "source": [
    "#pip install python-dotenv"
   ]
  },
  {
   "cell_type": "code",
   "execution_count": 104,
   "metadata": {},
   "outputs": [],
   "source": [
    "import os\n",
    "from dotenv import load_dotenv"
   ]
  },
  {
   "cell_type": "code",
   "execution_count": 105,
   "metadata": {},
   "outputs": [
    {
     "data": {
      "text/plain": [
       "False"
      ]
     },
     "execution_count": 105,
     "metadata": {},
     "output_type": "execute_result"
    }
   ],
   "source": [
    "load_dotenv()"
   ]
  },
  {
   "cell_type": "code",
   "execution_count": 106,
   "metadata": {},
   "outputs": [],
   "source": [
    "github = os.getenv(\"token\")"
   ]
  },
  {
   "cell_type": "code",
   "execution_count": 107,
   "metadata": {},
   "outputs": [],
   "source": [
    "with open('token.txt','r') as t:\n",
    "    token = t.read()"
   ]
  },
  {
   "cell_type": "markdown",
   "metadata": {},
   "source": [
    "# Challenge 1: Fork Languages\n",
    "\n",
    "You will find out how many programming languages are used among all the forks created from the main lab repo of your bootcamp. Assuming the main lab repo is ironhack-datalabs/datamad1020-rev, you will:\n",
    "\n",
    "1. Obtain the full list of forks created from the main lab repo via Github API.\n",
    "\n",
    "2. Loop the JSON response to find out the language attribute of each fork. Use an array to store the language attributes of each fork.\n",
    "\n",
    "Hint: Each language should appear only once in your array.\n",
    "\n",
    "3. Print the language array. It should be something like:\n",
    "\n",
    "[\"Python\", \"Jupyter Notebook\", \"HTML\"]\n"
   ]
  },
  {
   "cell_type": "markdown",
   "metadata": {},
   "source": [
    "**HINT:**: Create a list with every **language_url** you find in every fork "
   ]
  },
  {
   "cell_type": "markdown",
   "metadata": {},
   "source": [
    "⚠️ **Remember to limit your output before submission**."
   ]
  },
  {
   "cell_type": "code",
   "execution_count": 108,
   "metadata": {},
   "outputs": [],
   "source": [
    "url='https://api.github.com/repos/Ironhack-Data-Madrid-Octubre-2023/4.1-lab_api_scavengers_game'"
   ]
  },
  {
   "cell_type": "code",
   "execution_count": 109,
   "metadata": {},
   "outputs": [
    {
     "data": {
      "text/plain": [
       "<Response [200]>"
      ]
     },
     "execution_count": 109,
     "metadata": {},
     "output_type": "execute_result"
    }
   ],
   "source": [
    "headers = {\"Authorization\": f\"token {token}\"}\n",
    "res = req.get(url, headers=headers)\n",
    "res"
   ]
  },
  {
   "cell_type": "code",
   "execution_count": 129,
   "metadata": {},
   "outputs": [
    {
     "data": {
      "text/plain": [
       "dict"
      ]
     },
     "execution_count": 129,
     "metadata": {},
     "output_type": "execute_result"
    }
   ],
   "source": [
    "repo=res.json()\n",
    "type(repo)"
   ]
  },
  {
   "cell_type": "code",
   "execution_count": 111,
   "metadata": {},
   "outputs": [],
   "source": [
    "url='https://api.github.com/repos/Ironhack-Data-Madrid-Octubre-2023/4.1-lab_api_scavengers_game/forks'\n",
    "\n",
    "fork = req.get(url, headers=headers)\n",
    "fork=fork.json()"
   ]
  },
  {
   "cell_type": "code",
   "execution_count": 112,
   "metadata": {},
   "outputs": [
    {
     "data": {
      "text/plain": [
       "['abelnperez/4.1-lab_api_scavengers_game',\n",
       " 'AlvaroYague/4.1-lab_api_scavengers_game',\n",
       " 'Carolina-MH/4.1-lab_api_scavengers_game',\n",
       " 'karmelealonso/4.1-lab_api_scavengers_game',\n",
       " 'jomariapc/4.1-lab_api_scavengers_game',\n",
       " 'illegalvoidundead/4.1-lab_api_scavengers_game',\n",
       " 'Kohkitos/4.1-lab_api_scavengers_game_koh',\n",
       " 'luisgh87/4.1-lab_api_scavengers_game',\n",
       " 'cristianecarneiro/4.1-lab_api_scavengers_game',\n",
       " 'BorjaSilla/4.1-lab_api_scavengers_game_borja',\n",
       " 'Lidiavf1912/4.1-lab_api_scavengers_game',\n",
       " 'yaninafontana84/4.1-lab_api_scavengers_game',\n",
       " 'charlieciordia/4.1-lab_api_scavengers_game',\n",
       " 'josegzr/4.1-lab_api_scavengers_game',\n",
       " 'maluque/4.1-lab_api_scavengers_game',\n",
       " 'NoeRoson/4.1-lab_api_scavengers_game',\n",
       " 'LeoBulcsu/4.1-lab_api_scavengers_game',\n",
       " 'Christelllameda/4.1-lab_api_scavengers_game',\n",
       " 'anderfer/4.1-lab_api_scavengers_game',\n",
       " 'SaraPazo/4.1-lab_api_scavengers_game',\n",
       " 'inesgcalvo/4.1-lab_api_scavengers_game',\n",
       " 'Blanca95/4.1-lab_api_scavengers_game_Blanca',\n",
       " 'Ankourii/4.1-lab_api_scavengers_game',\n",
       " 'ClaraGallardo/4.1-lab_api_scavengers_game',\n",
       " 'Jacobomb/4.1-lab_api_scavengers_game',\n",
       " 'EdgarAhmed/4.1-lab_api_scavengers_game',\n",
       " 'jvr0/4.1-lab_api_scavengers_game',\n",
       " 'AlejandroCasna/4.1-lab_api_scavengers_game',\n",
       " 'arromeral/4.1-lab_api_scavengers_game']"
      ]
     },
     "execution_count": 112,
     "metadata": {},
     "output_type": "execute_result"
    }
   ],
   "source": [
    "#fork['full_name']\n",
    "forks=[]\n",
    "\n",
    "for e in range(len(fork)):\n",
    "    forks.append(fork[e]['full_name'])\n",
    "\n",
    "forks\n"
   ]
  },
  {
   "cell_type": "code",
   "execution_count": 113,
   "metadata": {},
   "outputs": [
    {
     "data": {
      "text/plain": [
       "{'Jupyter Notebook': 7433}"
      ]
     },
     "execution_count": 113,
     "metadata": {},
     "output_type": "execute_result"
    }
   ],
   "source": [
    "url='https://api.github.com/repos/Ironhack-Data-Madrid-Octubre-2023/4.1-lab_api_scavengers_game/languages'\n",
    "\n",
    "lang= req.get(url,headers=headers)\n",
    "lang=lang.json()\n",
    "lang"
   ]
  },
  {
   "cell_type": "code",
   "execution_count": 125,
   "metadata": {},
   "outputs": [
    {
     "data": {
      "text/plain": [
       "['Jupyter Notebook']"
      ]
     },
     "execution_count": 125,
     "metadata": {},
     "output_type": "execute_result"
    }
   ],
   "source": [
    "langs=list(lang.keys())\n",
    "langs"
   ]
  }
 ],
 "metadata": {
  "kernelspec": {
   "display_name": "Python 3",
   "language": "python",
   "name": "python3"
  },
  "language_info": {
   "codemirror_mode": {
    "name": "ipython",
    "version": 3
   },
   "file_extension": ".py",
   "mimetype": "text/x-python",
   "name": "python",
   "nbconvert_exporter": "python",
   "pygments_lexer": "ipython3",
   "version": "3.10.13"
  },
  "toc": {
   "base_numbering": 1,
   "nav_menu": {},
   "number_sections": true,
   "sideBar": true,
   "skip_h1_title": true,
   "title_cell": "Table of Contents",
   "title_sidebar": "Contents",
   "toc_cell": false,
   "toc_position": {},
   "toc_section_display": true,
   "toc_window_display": false
  }
 },
 "nbformat": 4,
 "nbformat_minor": 2
}
